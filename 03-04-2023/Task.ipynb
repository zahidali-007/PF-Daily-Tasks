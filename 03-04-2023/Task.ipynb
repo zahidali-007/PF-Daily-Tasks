{
 "cells": [
  {
   "attachments": {},
   "cell_type": "markdown",
   "metadata": {},
   "source": [
    "### Import Libraries"
   ]
  },
  {
   "cell_type": "code",
   "execution_count": 26,
   "metadata": {},
   "outputs": [],
   "source": [
    "import numpy as np\n",
    "import keras\n",
    "from keras.datasets import mnist\n",
    "from keras.models import Model\n",
    "from keras.layers import Dense, Input\n",
    "from keras.layers import Conv2D, MaxPooling2D, Dropout, Flatten\n",
    "from keras import backend as k"
   ]
  },
  {
   "attachments": {},
   "cell_type": "markdown",
   "metadata": {},
   "source": [
    "### Load Dataset"
   ]
  },
  {
   "cell_type": "code",
   "execution_count": 29,
   "metadata": {},
   "outputs": [],
   "source": [
    "(x_train, y_train), (x_test, y_test) = mnist.load_data()\n"
   ]
  },
  {
   "attachments": {},
   "cell_type": "markdown",
   "metadata": {},
   "source": [
    "While proceeding further, img_rows and img_cols are used as the image dimensions. In mnist dataset, it is 28 and 28. We also need to check the data format i.e. ‘channels_first’ or ‘channels_last’. In CNN, we can normalize data before hands such that large terms of the calculations can be reduced to smaller terms. Like, we can normalize the x_train and x_test data by dividing it by 255.<br>\n",
    "### Checking data-format: "
   ]
  },
  {
   "cell_type": "code",
   "execution_count": 30,
   "metadata": {},
   "outputs": [],
   "source": [
    "img_rows, img_cols=28, 28\n",
    "\n",
    "if k.image_data_format() == 'channels_first':\n",
    "    x_train = x_train.reshape(x_train.shape[0], 1, img_rows, img_cols)\n",
    "    x_test = x_test.reshape(x_test.shape[0], 1, img_rows, img_cols)\n",
    "    inpx = (1, img_rows, img_cols)\n",
    "\n",
    "else:\n",
    "    x_train = x_train.reshape(x_train.shape[0], img_rows, img_cols, 1)\n",
    "    x_test = x_test.reshape(x_test.shape[0], img_rows, img_cols, 1)\n",
    "    inpx = (img_rows, img_cols, 1)\n",
    "\n",
    "x_train = x_train.astype('float32')\n",
    "x_test = x_test.astype('float32')\n",
    "x_train /= 255\n",
    "x_test /= 255\n"
   ]
  },
  {
   "attachments": {},
   "cell_type": "markdown",
   "metadata": {},
   "source": [
    "### Description of the output classes:\n",
    "Since the output of the model can comprise any of the digits between 0 to 9. so, we need 10 classes in output. To make output for 10 classes, use keras.utils.to_categorical function, which will provide the 10 columns. Out of these 10 columns, only one value will be one and the rest 9 will be zero and this one value of the output will denote the class of the digit."
   ]
  },
  {
   "cell_type": "code",
   "execution_count": 31,
   "metadata": {},
   "outputs": [],
   "source": [
    "\n",
    "y_train = keras.utils.to_categorical(y_train)\n",
    "y_test = keras.utils.to_categorical(y_test)"
   ]
  },
  {
   "attachments": {},
   "cell_type": "markdown",
   "metadata": {},
   "source": [
    "Now, the dataset is ready so let’s move towards the CNN model : \n"
   ]
  },
  {
   "cell_type": "code",
   "execution_count": 32,
   "metadata": {},
   "outputs": [],
   "source": [
    "inpx = Input(shape=inpx)\n",
    "layer1 = Conv2D(32, kernel_size=(3, 3), activation='relu')(inpx)\n",
    "layer2 = Conv2D(64, (3, 3), activation='relu')(layer1)\n",
    "layer3 = MaxPooling2D(pool_size=(3, 3))(layer2)\n",
    "layer4 = Dropout(0.5)(layer3)\n",
    "layer5 = Flatten()(layer4)\n",
    "layer6 = Dense(250, activation='sigmoid')(layer5)\n",
    "layer7 = Dense(10, activation='softmax')(layer6)\n"
   ]
  },
  {
   "attachments": {},
   "cell_type": "markdown",
   "metadata": {},
   "source": [
    "### Explanation of the working of each layer in the CNN model:\n",
    "layer1 is the Conv2d layer which convolves the image using 32 filters each of size (3*3). <br>\n",
    "layer2 is again a Conv2D layer which is also used to convolve the image and is using 64 filters each of size (3*3). <br>\n",
    "layer3 is the MaxPooling2D layer which picks the max value out of a matrix of size (3*3). <br>\n",
    "layer4 is showing Dropout at a rate of 0.5. <br>\n",
    "layer5 is flattening the output obtained from layer4 and this flattens output is passed to layer6. <br>\n",
    "layer6 is a hidden layer of a neural network containing 250 neurons. <br>\n",
    "layer7 is the output layer having 10 neurons for 10 classes of output that is using the softmax function.<br>\n",
    "### Calling compile and fit function: "
   ]
  },
  {
   "cell_type": "code",
   "execution_count": 33,
   "metadata": {},
   "outputs": [
    {
     "name": "stderr",
     "output_type": "stream",
     "text": [
      "2023-04-03 14:47:09.172416: W tensorflow/tsl/framework/cpu_allocator_impl.cc:83] Allocation of 188160000 exceeds 10% of free system memory.\n"
     ]
    },
    {
     "name": "stdout",
     "output_type": "stream",
     "text": [
      "Epoch 1/12\n"
     ]
    },
    {
     "name": "stderr",
     "output_type": "stream",
     "text": [
      "2023-04-03 14:47:11.405551: W tensorflow/tsl/framework/cpu_allocator_impl.cc:83] Allocation of 43264000 exceeds 10% of free system memory.\n",
      "2023-04-03 14:47:11.610577: W tensorflow/tsl/framework/cpu_allocator_impl.cc:83] Allocation of 73728000 exceeds 10% of free system memory.\n",
      "2023-04-03 14:47:12.129487: W tensorflow/tsl/framework/cpu_allocator_impl.cc:83] Allocation of 73728000 exceeds 10% of free system memory.\n",
      "2023-04-03 14:47:12.407589: W tensorflow/tsl/framework/cpu_allocator_impl.cc:83] Allocation of 43264000 exceeds 10% of free system memory.\n"
     ]
    },
    {
     "name": "stdout",
     "output_type": "stream",
     "text": [
      "120/120 [==============================] - 196s 2s/step - loss: 2.6343 - accuracy: 0.1022\n",
      "Epoch 2/12\n",
      "120/120 [==============================] - 197s 2s/step - loss: 2.6089 - accuracy: 0.1022\n",
      "Epoch 3/12\n",
      "120/120 [==============================] - 310s 3s/step - loss: 2.5836 - accuracy: 0.1022\n",
      "Epoch 4/12\n",
      "120/120 [==============================] - 318s 3s/step - loss: 2.5583 - accuracy: 0.1022\n",
      "Epoch 5/12\n",
      "120/120 [==============================] - 545s 5s/step - loss: 2.5324 - accuracy: 0.1022\n",
      "Epoch 6/12\n",
      "120/120 [==============================] - 367s 3s/step - loss: 2.5069 - accuracy: 0.1022\n",
      "Epoch 7/12\n",
      "120/120 [==============================] - 398s 3s/step - loss: 2.4805 - accuracy: 0.1022\n",
      "Epoch 8/12\n",
      "120/120 [==============================] - 681s 6s/step - loss: 2.4543 - accuracy: 0.1022\n",
      "Epoch 9/12\n",
      "120/120 [==============================] - 385s 3s/step - loss: 2.4284 - accuracy: 0.1022\n",
      "Epoch 10/12\n",
      "120/120 [==============================] - 531s 4s/step - loss: 2.4027 - accuracy: 0.1022\n",
      "Epoch 11/12\n",
      "120/120 [==============================] - 493s 4s/step - loss: 2.3768 - accuracy: 0.1028\n",
      "Epoch 12/12\n",
      "120/120 [==============================] - 278s 2s/step - loss: 2.3515 - accuracy: 0.1073\n"
     ]
    },
    {
     "data": {
      "text/plain": [
       "<keras.callbacks.History at 0x7f5bb9381f00>"
      ]
     },
     "execution_count": 33,
     "metadata": {},
     "output_type": "execute_result"
    }
   ],
   "source": [
    "model = Model([inpx], layer7)\n",
    "model.compile(optimizer=keras.optimizers.Adadelta(),\t\n",
    "\t\t\tloss=keras.losses.categorical_crossentropy,\n",
    "\t\t\tmetrics=['accuracy'])\n",
    "\n",
    "model.fit(x_train, y_train, epochs=12, batch_size=500)\n"
   ]
  },
  {
   "cell_type": "code",
   "execution_count": 34,
   "metadata": {},
   "outputs": [
    {
     "name": "stdout",
     "output_type": "stream",
     "text": [
      "loss= 2.3372247219085693\n",
      "accuracy= 0.10320000350475311\n"
     ]
    }
   ],
   "source": [
    "score = model.evaluate(x_test, y_test, verbose=0)\n",
    "print('loss=', score[0])\n",
    "print('accuracy=', score[1])\n"
   ]
  },
  {
   "cell_type": "code",
   "execution_count": null,
   "metadata": {},
   "outputs": [],
   "source": []
  }
 ],
 "metadata": {
  "kernelspec": {
   "display_name": "Python 3 (ipykernel)",
   "language": "python",
   "name": "python3"
  },
  "language_info": {
   "codemirror_mode": {
    "name": "ipython",
    "version": 3
   },
   "file_extension": ".py",
   "mimetype": "text/x-python",
   "name": "python",
   "nbconvert_exporter": "python",
   "pygments_lexer": "ipython3",
   "version": "3.10.9"
  },
  "orig_nbformat": 4
 },
 "nbformat": 4,
 "nbformat_minor": 2
}
