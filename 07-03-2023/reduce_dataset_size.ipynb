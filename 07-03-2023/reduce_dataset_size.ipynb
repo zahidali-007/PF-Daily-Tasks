{
 "cells": [
  {
   "cell_type": "code",
   "execution_count": 8,
   "metadata": {},
   "outputs": [],
   "source": [
    "from tensorflow import keras \n",
    "import random\n",
    "import collections\n",
    "import numpy as np\n",
    "import matplotlib.pyplot as plt\n",
    "\n",
    "\n",
    "def display_random_images_with_labels(d, n=10):\n",
    "    \"\"\"\n",
    "        accept dataset in tuple form, first index\n",
    "        is np arrays (images) and second is labels\n",
    "        and display n random images with labels\n",
    "        from it\n",
    "        Inputs:\n",
    "            d (tuple): dataset images, dataset labels on same indexs\n",
    "            n (int): number of samples to display (default: 10)\n",
    "        Output:\n",
    "            None\n",
    "    \"\"\"\n",
    "    choices = list(range(len(d[0])))\n",
    "    for i in range(n):\n",
    "        index = random.choice(choices)\n",
    "        choices.remove(index)\n",
    "        print(\"index:\",index)\n",
    "        print(\"Lable:\",d[1][index])\n",
    "        plt.imshow(d[0][index], cmap='gray')\n",
    "        plt.show()\n"
   ]
  },
  {
   "cell_type": "markdown",
   "metadata": {},
   "source": [
    "# Dataset"
   ]
  },
  {
   "cell_type": "code",
   "execution_count": null,
   "metadata": {},
   "outputs": [],
   "source": [
    "# Loading dataset\n",
    "dataset = keras.datasets.mnist.load_data()\n",
    "\n",
    "# Description of dataset\n",
    "\n",
    "# mnint is handwritten digits (0 to 9) images dataset\n",
    "# keras.datasets.mnist.load_data() loads those images in gray scale as cv2 images / np arrays\n",
    "# with those labels\n",
    "\n",
    "\n",
    "# dataset is in tuple form,\n",
    "# its first index dataset[0] represents training dataset\n",
    "# its second index dataset[1] represents testing dataset\n",
    "\n",
    "# Both training (dataset[0]) and testing (dataset[1]) datasets\n",
    "# are further tuples and have two elements,\n",
    "\n",
    "# first element of both training and testing (dataset[0][0] and dataset[0][0])\n",
    "# represnts images in numpy arrays\n",
    "print(\"There are\",len(dataset[0][0]),\"images in training dataset\")\n",
    "print(\"There are\",len(dataset[1][0]),\"images in training dataset\")\n",
    "print(\"___________________\\n\\n\")\n",
    "# Each image is of shape 28x28\n",
    "# print(dataset[0][0][0].shape)\n",
    "# print(\"___________________\")\n",
    "\n",
    "\n",
    "# second element of both training and testing (dataset[0][1] and dataset[0][1])\n",
    "# represnts labels of the images, presents on the same index in images\n",
    "# For example dataset[0][0][0] is an image in training dataset\n",
    "# and dataset[0][1][0] is the label of same image is training dataset\n",
    "print(\"Randomly printing 10 images with labels from training dataset\")\n",
    "display_random_images_with_labels(dataset[0])\n",
    "print(\"___________________\\n\\n\")\n",
    "print(\"Randomly printing 10 images with labels from testing dataset\")\n",
    "display_random_images_with_labels(dataset[0])\n",
    "print(\"___________________\\n\\n\")\n",
    "\n",
    "print(\"There are\",len(dataset[0][1]),\"labels in training dataset for\",len(dataset[0][0]),\"images in training dataset\")\n",
    "print(\"There are\",len(dataset[1][1]),\"labels in training dataset for\",len(dataset[1][0]),\"images in training dataset\")\n",
    "print(\"___________________\\n\\n\")\n",
    "\n",
    "print(\"There are\", len(set(dataset[0][1])),\"unique classes in training dataset\")\n",
    "print(\"Breakdown of each labels is below (format: dict key is label, dict value is occurrence of that label/ number of images for that label)\")\n",
    "display(collections.Counter(dataset[0][1]))\n",
    "print(\"There are\", len(set(dataset[1][1])),\"unique classes in validation dataset\")\n",
    "print(\"Breakdown of each labels is below (format: dict key is label, dict value is occurrence of that label/ number of images for that label)\")\n",
    "display(collections.Counter(dataset[1][1]))\n",
    "print(\"___________________\\n\\n\")\n",
    "\n",
    "\n",
    "\n"
   ]
  },
  {
   "cell_type": "markdown",
   "metadata": {},
   "source": [
    "# Task\n",
    "\n",
    "You have to reduce the size of this dataset by 10 times.\n",
    "\n",
    "There are currently almost 5000 to 6000 thousand images (total: 60000) for each label in training and almost 1000 images (total: 10000) for each label in testing dataset.\n",
    "\n",
    "You are required to reduce this training dataset so that it will have exactly 600 images for each label (total: 6000) in training dataset and exactly 100 images for each label in testing dataset (total: 1000)\n",
    "\n",
    "new dataset should be stored into new_dataset variable name and should have exactly same format as the original dataset.\n"
   ]
  },
  {
   "cell_type": "code",
   "execution_count": 12,
   "metadata": {},
   "outputs": [
    {
     "name": "stdout",
     "output_type": "stream",
     "text": [
      "New training dataset shape: (6000, 28, 28), (6000,)\n",
      "New testing dataset shape: (1000, 28, 28), (1000,)\n"
     ]
    }
   ],
   "source": [
    "# Your code here\n",
    "\n",
    "(train_images, train_labels), (test_images, test_labels) = dataset\n",
    "# Define the number of samples to keep for each label\n",
    "num_samples_per_label = 600\n",
    "\n",
    "# Select num_samples_per_label random samples for each label in the training dataset\n",
    "new_train_images, new_train_labels = [], []\n",
    "for label in np.unique(train_labels):\n",
    "    indices = np.random.choice(np.where(train_labels == label)[0], num_samples_per_label, replace=False)\n",
    "    new_train_images.append(train_images[indices])\n",
    "    new_train_labels.append(train_labels[indices])\n",
    "\n",
    "# Convert the new training dataset to numpy arrays\n",
    "new_train_images = np.concatenate(new_train_images)\n",
    "new_train_labels = np.concatenate(new_train_labels)\n",
    "\n",
    "# Select 100 random samples for each label in the test dataset\n",
    "num_test_samples_per_label = 100\n",
    "new_test_images, new_test_labels = [], []\n",
    "for label in np.unique(test_labels):\n",
    "    indices = np.random.choice(np.where(test_labels == label)[0], num_test_samples_per_label, replace=False)\n",
    "    new_test_images.append(test_images[indices])\n",
    "    new_test_labels.append(test_labels[indices])\n",
    "\n",
    "# Convert the new test dataset to numpy arrays\n",
    "new_test_images = np.concatenate(new_test_images)\n",
    "new_test_labels = np.concatenate(new_test_labels)\n",
    "\n",
    "# Print the new dataset shapes\n",
    "print(f\"New training dataset shape: {new_train_images.shape}, {new_train_labels.shape}\")\n",
    "print(f\"New testing dataset shape: {new_test_images.shape}, {new_test_labels.shape}\")\n",
    "\n",
    "# Store the new dataset into new_dataset variable\n",
    "new_dataset = ((new_train_images, new_train_labels), (new_test_images, new_test_labels))\n"
   ]
  },
  {
   "cell_type": "markdown",
   "metadata": {},
   "source": [
    "# Validation of Task"
   ]
  },
  {
   "cell_type": "code",
   "execution_count": 13,
   "metadata": {},
   "outputs": [
    {
     "name": "stdout",
     "output_type": "stream",
     "text": [
      "(28, 28)\n",
      "___________________\n",
      "There are 6000 labels in training dataset for 6000 images in training dataset\n",
      "There are 1000 labels in training dataset for 1000 images in training dataset\n",
      "___________________\n",
      "\n",
      "\n",
      "There are 10 unique classes in training dataset\n",
      "Breakdown of each labels is below (format: dict key is label, dict value is occurrence of that label/ number of images for that label)\n"
     ]
    },
    {
     "data": {
      "text/plain": [
       "Counter({0: 600,\n",
       "         1: 600,\n",
       "         2: 600,\n",
       "         3: 600,\n",
       "         4: 600,\n",
       "         5: 600,\n",
       "         6: 600,\n",
       "         7: 600,\n",
       "         8: 600,\n",
       "         9: 600})"
      ]
     },
     "metadata": {},
     "output_type": "display_data"
    },
    {
     "name": "stdout",
     "output_type": "stream",
     "text": [
      "There are 10 unique classes in validation dataset\n",
      "Breakdown of each labels is below (format: dict key is label, dict value is occurrence of that label/ number of images for that label)\n"
     ]
    },
    {
     "data": {
      "text/plain": [
       "Counter({0: 100,\n",
       "         1: 100,\n",
       "         2: 100,\n",
       "         3: 100,\n",
       "         4: 100,\n",
       "         5: 100,\n",
       "         6: 100,\n",
       "         7: 100,\n",
       "         8: 100,\n",
       "         9: 100})"
      ]
     },
     "metadata": {},
     "output_type": "display_data"
    },
    {
     "name": "stdout",
     "output_type": "stream",
     "text": [
      "___________________\n",
      "\n",
      "\n",
      "Randomly printing 10 images with labels from training dataset\n",
      "index: 2932\n",
      "Lable: 4\n"
     ]
    },
    {
     "data": {
      "image/png": "[encoded data removed]",
      "text/plain": [
       "<Figure size 432x288 with 1 Axes>"
      ]
     },
     "metadata": {
      "needs_background": "light"
     },
     "output_type": "display_data"
    },
    {
     "name": "stdout",
     "output_type": "stream",
     "text": [
      "index: 1131\n",
      "Lable: 1\n"
     ]
    },
    {
     "data": {
      "image/png": "[encoded data removed]",
      "text/plain": [
       "<Figure size 432x288 with 1 Axes>"
      ]
     },
     "metadata": {
      "needs_background": "light"
     },
     "output_type": "display_data"
    },
    {
     "name": "stdout",
     "output_type": "stream",
     "text": [
      "index: 4463\n",
      "Lable: 7\n"
     ]
    },
    {
     "data": {
      "image/png": "[encoded data removed]",
      "text/plain": [
       "<Figure size 432x288 with 1 Axes>"
      ]
     },
     "metadata": {
      "needs_background": "light"
     },
     "output_type": "display_data"
    },
    {
     "name": "stdout",
     "output_type": "stream",
     "text": [
      "index: 1428\n",
      "Lable: 2\n"
     ]
    },
    {
     "data": {
      "image/png": "[encoded data removed]",
      "text/plain": [
       "<Figure size 432x288 with 1 Axes>"
      ]
     },
     "metadata": {
      "needs_background": "light"
     },
     "output_type": "display_data"
    },
    {
     "name": "stdout",
     "output_type": "stream",
     "text": [
      "index: 3700\n",
      "Lable: 6\n"
     ]
    },
    {
     "data": {
      "image/png": "[encoded data removed]",
      "text/plain": [
       "<Figure size 432x288 with 1 Axes>"
      ]
     },
     "metadata": {
      "needs_background": "light"
     },
     "output_type": "display_data"
    },
    {
     "name": "stdout",
     "output_type": "stream",
     "text": [
      "index: 1420\n",
      "Lable: 2\n"
     ]
    },
    {
     "data": {
      "image/png": "[encoded data removed]",
      "text/plain": [
       "<Figure size 432x288 with 1 Axes>"
      ]
     },
     "metadata": {
      "needs_background": "light"
     },
     "output_type": "display_data"
    },
    {
     "name": "stdout",
     "output_type": "stream",
     "text": [
      "index: 2575\n",
      "Lable: 4\n"
     ]
    },
    {
     "data": {
      "image/png": "[encoded data removed]",
      "text/plain": [
       "<Figure size 432x288 with 1 Axes>"
      ]
     },
     "metadata": {
      "needs_background": "light"
     },
     "output_type": "display_data"
    },
    {
     "name": "stdout",
     "output_type": "stream",
     "text": [
      "index: 5258\n",
      "Lable: 8\n"
     ]
    },
    {
     "data": {
      "image/png": "[encoded data removed]",
      "text/plain": [
       "<Figure size 432x288 with 1 Axes>"
      ]
     },
     "metadata": {
      "needs_background": "light"
     },
     "output_type": "display_data"
    },
    {
     "name": "stdout",
     "output_type": "stream",
     "text": [
      "index: 3084\n",
      "Lable: 5\n"
     ]
    },
    {
     "data": {
      "image/png": "[encoded data removed]",
      "text/plain": [
       "<Figure size 432x288 with 1 Axes>"
      ]
     },
     "metadata": {
      "needs_background": "light"
     },
     "output_type": "display_data"
    },
    {
     "name": "stdout",
     "output_type": "stream",
     "text": [
      "index: 2022\n",
      "Lable: 3\n"
     ]
    },
    {
     "data": {
      "image/png": "[encoded data removed]",
      "text/plain": [
       "<Figure size 432x288 with 1 Axes>"
      ]
     },
     "metadata": {
      "needs_background": "light"
     },
     "output_type": "display_data"
    },
    {
     "name": "stdout",
     "output_type": "stream",
     "text": [
      "___________________\n",
      "\n",
      "\n",
      "Randomly printing 10 images with labels from testing dataset\n",
      "index: 4753\n",
      "Lable: 7\n"
     ]
    },
    {
     "data": {
      "image/png": "[encoded data removed]",
      "text/plain": [
       "<Figure size 432x288 with 1 Axes>"
      ]
     },
     "metadata": {
      "needs_background": "light"
     },
     "output_type": "display_data"
    },
    {
     "name": "stdout",
     "output_type": "stream",
     "text": [
      "index: 1870\n",
      "Lable: 3\n"
     ]
    },
    {
     "data": {
      "image/png": "[encoded data removed]",
      "text/plain": [
       "<Figure size 432x288 with 1 Axes>"
      ]
     },
     "metadata": {
      "needs_background": "light"
     },
     "output_type": "display_data"
    },
    {
     "name": "stdout",
     "output_type": "stream",
     "text": [
      "index: 3760\n",
      "Lable: 6\n"
     ]
    },
    {
     "data": {
      "image/png": "[encoded data removed]",
      "text/plain": [
       "<Figure size 432x288 with 1 Axes>"
      ]
     },
     "metadata": {
      "needs_background": "light"
     },
     "output_type": "display_data"
    },
    {
     "name": "stdout",
     "output_type": "stream",
     "text": [
      "index: 3184\n",
      "Lable: 5\n"
     ]
    },
    {
     "data": {
      "image/png": "[encoded data removed]",
      "text/plain": [
       "<Figure size 432x288 with 1 Axes>"
      ]
     },
     "metadata": {
      "needs_background": "light"
     },
     "output_type": "display_data"
    },
    {
     "name": "stdout",
     "output_type": "stream",
     "text": [
      "index: 4373\n",
      "Lable: 7\n"
     ]
    },
    {
     "data": {
      "image/png": "[encoded data removed]",
      "text/plain": [
       "<Figure size 432x288 with 1 Axes>"
      ]
     },
     "metadata": {
      "needs_background": "light"
     },
     "output_type": "display_data"
    },
    {
     "name": "stdout",
     "output_type": "stream",
     "text": [
      "index: 430\n",
      "Lable: 0\n"
     ]
    },
    {
     "data": {
      "image/png": "[encoded data removed]",
      "text/plain": [
       "<Figure size 432x288 with 1 Axes>"
      ]
     },
     "metadata": {
      "needs_background": "light"
     },
     "output_type": "display_data"
    },
    {
     "name": "stdout",
     "output_type": "stream",
     "text": [
      "index: 5193\n",
      "Lable: 8\n"
     ]
    },
    {
     "data": {
      "image/png": "[encoded data removed]",
      "text/plain": [
       "<Figure size 432x288 with 1 Axes>"
      ]
     },
     "metadata": {
      "needs_background": "light"
     },
     "output_type": "display_data"
    },
    {
     "name": "stdout",
     "output_type": "stream",
     "text": [
      "index: 5802\n",
      "Lable: 9\n"
     ]
    },
    {
     "data": {
      "image/png": "[encoded data removed]",
      "text/plain": [
       "<Figure size 432x288 with 1 Axes>"
      ]
     },
     "metadata": {
      "needs_background": "light"
     },
     "output_type": "display_data"
    },
    {
     "name": "stdout",
     "output_type": "stream",
     "text": [
      "index: 764\n",
      "Lable: 1\n"
     ]
    },
    {
     "data": {
      "image/png": "[encoded data removed]",
      "text/plain": [
       "<Figure size 432x288 with 1 Axes>"
      ]
     },
     "metadata": {
      "needs_background": "light"
     },
     "output_type": "display_data"
    },
    {
     "name": "stdout",
     "output_type": "stream",
     "text": [
      "index: 2619\n",
      "Lable: 4\n"
     ]
    },
    {
     "data": {
      "image/png": "[encoded data removed]",
      "text/plain": [
       "<Figure size 432x288 with 1 Axes>"
      ]
     },
     "metadata": {
      "needs_background": "light"
     },
     "output_type": "display_data"
    },
    {
     "name": "stdout",
     "output_type": "stream",
     "text": [
      "___________________\n",
      "\n",
      "\n"
     ]
    }
   ],
   "source": [
    "# Checking the shape of first image in new training dataset\n",
    "print(new_dataset[0][0][0].shape)\n",
    "print(\"___________________\")\n",
    "\n",
    "\n",
    "# Checking the size of dataset\n",
    "print(\"There are\",len(new_dataset[0][1]),\"labels in training dataset for\",len(new_dataset[0][0]),\"images in training dataset\")\n",
    "print(\"There are\",len(new_dataset[1][1]),\"labels in training dataset for\",len(new_dataset[1][0]),\"images in training dataset\")\n",
    "print(\"___________________\\n\\n\")\n",
    "# Excepted output\n",
    "# There are 6000 labels in training dataset for 6000 images in training dataset\n",
    "# There are 1000 labels in training dataset for 1000 images in training dataset\n",
    "\n",
    "\n",
    "\n",
    "\n",
    "# Checking the number of images per class\n",
    "print(\"There are\", len(set(new_dataset[0][1])),\"unique classes in training dataset\")\n",
    "print(\"Breakdown of each labels is below (format: dict key is label, dict value is occurrence of that label/ number of images for that label)\")\n",
    "display(collections.Counter(new_dataset[0][1]))\n",
    "print(\"There are\", len(set(new_dataset[1][1])),\"unique classes in validation dataset\")\n",
    "print(\"Breakdown of each labels is below (format: dict key is label, dict value is occurrence of that label/ number of images for that label)\")\n",
    "display(collections.Counter(new_dataset[1][1]))\n",
    "print(\"___________________\\n\\n\")\n",
    "# Expected output\n",
    "# There are 10 unique classes in training dataset\n",
    "# Breakdown of each labels is below (format: dict key is label, dict value is occurrence of that label/ number of images for that label)\n",
    "# Counter({0: 600,\n",
    "#          1: 600,\n",
    "#          2: 600,\n",
    "#          3: 600,\n",
    "#          4: 600,\n",
    "#          5: 600,\n",
    "#          6: 600,\n",
    "#          7: 600,\n",
    "#          8: 600,\n",
    "#          9: 600})\n",
    "# There are 10 unique classes in validation dataset\n",
    "# Breakdown of each labels is below (format: dict key is label, dict value is occurrence of that label/ number of images for that label)\n",
    "# Counter({0: 100,\n",
    "#          1: 100,\n",
    "#          2: 100,\n",
    "#          3: 100,\n",
    "#          4: 100,\n",
    "#          5: 100,\n",
    "#          6: 100,\n",
    "#          7: 100,\n",
    "#          8: 100,\n",
    "#          9: 100})\n",
    "\n",
    "\n",
    "# Checking the correctness of indexing of image and its labels\n",
    "print(\"Randomly printing 10 images with labels from training dataset\")\n",
    "display_random_images_with_labels(new_dataset[0])\n",
    "print(\"___________________\\n\\n\")\n",
    "print(\"Randomly printing 10 images with labels from testing dataset\")\n",
    "display_random_images_with_labels(new_dataset[0])\n",
    "print(\"___________________\\n\\n\")\n",
    "\n"
   ]
  },
  {
   "cell_type": "code",
   "execution_count": null,
   "metadata": {},
   "outputs": [],
   "source": []
  }
 ],
 "metadata": {
  "kernelspec": {
   "display_name": "Python 3",
   "language": "python",
   "name": "python3"
  },
  "language_info": {
   "codemirror_mode": {
    "name": "ipython",
    "version": 3
   },
   "file_extension": ".py",
   "mimetype": "text/x-python",
   "name": "python",
   "nbconvert_exporter": "python",
   "pygments_lexer": "ipython3",
   "version": "3.10.6"
  }
 },
 "nbformat": 4,
 "nbformat_minor": 2
}
