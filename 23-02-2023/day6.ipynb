{
 "cells": [
  {
   "attachments": {},
   "cell_type": "markdown",
   "metadata": {},
   "source": [
    "## Day 6 Pandas"
   ]
  },
  {
   "cell_type": "code",
   "execution_count": 12,
   "metadata": {},
   "outputs": [
    {
     "data": {
      "text/html": [
       "<div>\n",
       "<style scoped>\n",
       "    .dataframe tbody tr th:only-of-type {\n",
       "        vertical-align: middle;\n",
       "    }\n",
       "\n",
       "    .dataframe tbody tr th {\n",
       "        vertical-align: top;\n",
       "    }\n",
       "\n",
       "    .dataframe thead th {\n",
       "        text-align: right;\n",
       "    }\n",
       "</style>\n",
       "<table border=\"1\" class=\"dataframe\">\n",
       "  <thead>\n",
       "    <tr style=\"text-align: right;\">\n",
       "      <th></th>\n",
       "      <th>Unnamed: 0</th>\n",
       "      <th>work_year</th>\n",
       "      <th>experience_level</th>\n",
       "      <th>employment_type</th>\n",
       "      <th>job_title</th>\n",
       "      <th>salary</th>\n",
       "      <th>salary_currency</th>\n",
       "      <th>salary_in_usd</th>\n",
       "      <th>employee_residence</th>\n",
       "      <th>remote_ratio</th>\n",
       "      <th>company_location</th>\n",
       "      <th>company_size</th>\n",
       "    </tr>\n",
       "  </thead>\n",
       "  <tbody>\n",
       "    <tr>\n",
       "      <th>0</th>\n",
       "      <td>0</td>\n",
       "      <td>2020</td>\n",
       "      <td>MI</td>\n",
       "      <td>FT</td>\n",
       "      <td>Data Scientist</td>\n",
       "      <td>70000</td>\n",
       "      <td>EUR</td>\n",
       "      <td>79833</td>\n",
       "      <td>DE</td>\n",
       "      <td>0</td>\n",
       "      <td>DE</td>\n",
       "      <td>L</td>\n",
       "    </tr>\n",
       "    <tr>\n",
       "      <th>1</th>\n",
       "      <td>1</td>\n",
       "      <td>2020</td>\n",
       "      <td>SE</td>\n",
       "      <td>FT</td>\n",
       "      <td>Machine Learning Scientist</td>\n",
       "      <td>260000</td>\n",
       "      <td>USD</td>\n",
       "      <td>260000</td>\n",
       "      <td>JP</td>\n",
       "      <td>0</td>\n",
       "      <td>JP</td>\n",
       "      <td>S</td>\n",
       "    </tr>\n",
       "    <tr>\n",
       "      <th>2</th>\n",
       "      <td>2</td>\n",
       "      <td>2020</td>\n",
       "      <td>SE</td>\n",
       "      <td>FT</td>\n",
       "      <td>Big Data Engineer</td>\n",
       "      <td>85000</td>\n",
       "      <td>GBP</td>\n",
       "      <td>109024</td>\n",
       "      <td>GB</td>\n",
       "      <td>50</td>\n",
       "      <td>GB</td>\n",
       "      <td>M</td>\n",
       "    </tr>\n",
       "    <tr>\n",
       "      <th>3</th>\n",
       "      <td>3</td>\n",
       "      <td>2020</td>\n",
       "      <td>MI</td>\n",
       "      <td>FT</td>\n",
       "      <td>Product Data Analyst</td>\n",
       "      <td>20000</td>\n",
       "      <td>USD</td>\n",
       "      <td>20000</td>\n",
       "      <td>HN</td>\n",
       "      <td>0</td>\n",
       "      <td>HN</td>\n",
       "      <td>S</td>\n",
       "    </tr>\n",
       "    <tr>\n",
       "      <th>4</th>\n",
       "      <td>4</td>\n",
       "      <td>2020</td>\n",
       "      <td>SE</td>\n",
       "      <td>FT</td>\n",
       "      <td>Machine Learning Engineer</td>\n",
       "      <td>150000</td>\n",
       "      <td>USD</td>\n",
       "      <td>150000</td>\n",
       "      <td>US</td>\n",
       "      <td>50</td>\n",
       "      <td>US</td>\n",
       "      <td>L</td>\n",
       "    </tr>\n",
       "  </tbody>\n",
       "</table>\n",
       "</div>"
      ],
      "text/plain": [
       "   Unnamed: 0  work_year experience_level employment_type  \\\n",
       "0           0       2020               MI              FT   \n",
       "1           1       2020               SE              FT   \n",
       "2           2       2020               SE              FT   \n",
       "3           3       2020               MI              FT   \n",
       "4           4       2020               SE              FT   \n",
       "\n",
       "                    job_title  salary salary_currency  salary_in_usd  \\\n",
       "0              Data Scientist   70000             EUR          79833   \n",
       "1  Machine Learning Scientist  260000             USD         260000   \n",
       "2           Big Data Engineer   85000             GBP         109024   \n",
       "3        Product Data Analyst   20000             USD          20000   \n",
       "4   Machine Learning Engineer  150000             USD         150000   \n",
       "\n",
       "  employee_residence  remote_ratio company_location company_size  \n",
       "0                 DE             0               DE            L  \n",
       "1                 JP             0               JP            S  \n",
       "2                 GB            50               GB            M  \n",
       "3                 HN             0               HN            S  \n",
       "4                 US            50               US            L  "
      ]
     },
     "execution_count": 12,
     "metadata": {},
     "output_type": "execute_result"
    }
   ],
   "source": [
    "# import libraries\n",
    "import pandas as pd\n",
    "import numpy as np\n",
    "import pandas as pd\n",
    "\n",
    "import country_converter as coco\n",
    "import seaborn as sns\n",
    "import matplotlib.pyplot as plt\n",
    "import plotly.express as px\n",
    "\n",
    "salaries_df = pd.read_csv('ds_salaries.csv')\n",
    "salaries_df.head()"
   ]
  },
  {
   "cell_type": "code",
   "execution_count": 13,
   "metadata": {},
   "outputs": [
    {
     "name": "stdout",
     "output_type": "stream",
     "text": [
      "Number of rows: 607\n",
      "Number of columns: 12\n"
     ]
    }
   ],
   "source": [
    "num_rows, num_cols = salaries_df.shape\n",
    "print(f'Number of rows: {num_rows}\\nNumber of columns: {num_cols}')"
   ]
  },
  {
   "cell_type": "code",
   "execution_count": 14,
   "metadata": {},
   "outputs": [
    {
     "data": {
      "text/plain": [
       "False"
      ]
     },
     "execution_count": 14,
     "metadata": {},
     "output_type": "execute_result"
    }
   ],
   "source": [
    "have_duplicate_rows = salaries_df.duplicated().any()\n",
    "have_duplicate_rows"
   ]
  },
  {
   "cell_type": "code",
   "execution_count": 15,
   "metadata": {},
   "outputs": [
    {
     "data": {
      "text/plain": [
       "Unnamed: 0             int64\n",
       "work_year              int64\n",
       "experience_level      object\n",
       "employment_type       object\n",
       "job_title             object\n",
       "salary                 int64\n",
       "salary_currency       object\n",
       "salary_in_usd          int64\n",
       "employee_residence    object\n",
       "remote_ratio           int64\n",
       "company_location      object\n",
       "company_size          object\n",
       "dtype: object"
      ]
     },
     "execution_count": 15,
     "metadata": {},
     "output_type": "execute_result"
    }
   ],
   "source": [
    "col_dtype = salaries_df.dtypes\n",
    "col_dtype"
   ]
  },
  {
   "attachments": {},
   "cell_type": "markdown",
   "metadata": {},
   "source": [
    "👉We will see how many distinguishing values each categorical attribute has using the set() method.\n",
    "\n"
   ]
  },
  {
   "cell_type": "code",
   "execution_count": 16,
   "metadata": {},
   "outputs": [
    {
     "data": {
      "text/plain": [
       "{2020, 2021, 2022}"
      ]
     },
     "execution_count": 16,
     "metadata": {},
     "output_type": "execute_result"
    }
   ],
   "source": [
    "set(salaries_df['work_year'].to_list())\n"
   ]
  },
  {
   "cell_type": "code",
   "execution_count": 17,
   "metadata": {},
   "outputs": [
    {
     "data": {
      "text/plain": [
       "{'EN', 'EX', 'MI', 'SE'}"
      ]
     },
     "execution_count": 17,
     "metadata": {},
     "output_type": "execute_result"
    }
   ],
   "source": [
    "set(salaries_df['experience_level'].to_list())\n"
   ]
  },
  {
   "cell_type": "code",
   "execution_count": 19,
   "metadata": {},
   "outputs": [
    {
     "data": {
      "text/plain": [
       "{'CT', 'FL', 'FT', 'PT'}"
      ]
     },
     "execution_count": 19,
     "metadata": {},
     "output_type": "execute_result"
    }
   ],
   "source": [
    "set(salaries_df['employment_type'].to_list())\n"
   ]
  },
  {
   "cell_type": "code",
   "execution_count": 23,
   "metadata": {},
   "outputs": [
    {
     "data": {
      "text/plain": [
       "{0, 50, 100}"
      ]
     },
     "execution_count": 23,
     "metadata": {},
     "output_type": "execute_result"
    }
   ],
   "source": [
    "set(salaries_df['remote_ratio'].to_list())\n"
   ]
  },
  {
   "cell_type": "code",
   "execution_count": 25,
   "metadata": {},
   "outputs": [
    {
     "data": {
      "text/plain": [
       "{'L', 'M', 'S'}"
      ]
     },
     "execution_count": 25,
     "metadata": {},
     "output_type": "execute_result"
    }
   ],
   "source": [
    "set(salaries_df['company_size'].to_list())\n"
   ]
  },
  {
   "cell_type": "code",
   "execution_count": 24,
   "metadata": {},
   "outputs": [
    {
     "data": {
      "text/plain": [
       "{'AUD',\n",
       " 'BRL',\n",
       " 'CAD',\n",
       " 'CHF',\n",
       " 'CLP',\n",
       " 'CNY',\n",
       " 'DKK',\n",
       " 'EUR',\n",
       " 'GBP',\n",
       " 'HUF',\n",
       " 'INR',\n",
       " 'JPY',\n",
       " 'MXN',\n",
       " 'PLN',\n",
       " 'SGD',\n",
       " 'TRY',\n",
       " 'USD'}"
      ]
     },
     "execution_count": 24,
     "metadata": {},
     "output_type": "execute_result"
    }
   ],
   "source": [
    "set(salaries_df['salary_currency'].to_list())\n"
   ]
  },
  {
   "cell_type": "code",
   "execution_count": 26,
   "metadata": {},
   "outputs": [
    {
     "data": {
      "text/plain": [
       "{'AE',\n",
       " 'AS',\n",
       " 'AT',\n",
       " 'AU',\n",
       " 'BE',\n",
       " 'BR',\n",
       " 'CA',\n",
       " 'CH',\n",
       " 'CL',\n",
       " 'CN',\n",
       " 'CO',\n",
       " 'CZ',\n",
       " 'DE',\n",
       " 'DK',\n",
       " 'DZ',\n",
       " 'EE',\n",
       " 'ES',\n",
       " 'FR',\n",
       " 'GB',\n",
       " 'GR',\n",
       " 'HN',\n",
       " 'HR',\n",
       " 'HU',\n",
       " 'IE',\n",
       " 'IL',\n",
       " 'IN',\n",
       " 'IQ',\n",
       " 'IR',\n",
       " 'IT',\n",
       " 'JP',\n",
       " 'KE',\n",
       " 'LU',\n",
       " 'MD',\n",
       " 'MT',\n",
       " 'MX',\n",
       " 'MY',\n",
       " 'NG',\n",
       " 'NL',\n",
       " 'NZ',\n",
       " 'PK',\n",
       " 'PL',\n",
       " 'PT',\n",
       " 'RO',\n",
       " 'RU',\n",
       " 'SG',\n",
       " 'SI',\n",
       " 'TR',\n",
       " 'UA',\n",
       " 'US',\n",
       " 'VN'}"
      ]
     },
     "execution_count": 26,
     "metadata": {},
     "output_type": "execute_result"
    }
   ],
   "source": [
    "set(salaries_df['company_location'].to_list())\n"
   ]
  },
  {
   "cell_type": "code",
   "execution_count": 22,
   "metadata": {},
   "outputs": [
    {
     "data": {
      "text/plain": [
       "{'AE',\n",
       " 'AR',\n",
       " 'AT',\n",
       " 'AU',\n",
       " 'BE',\n",
       " 'BG',\n",
       " 'BO',\n",
       " 'BR',\n",
       " 'CA',\n",
       " 'CH',\n",
       " 'CL',\n",
       " 'CN',\n",
       " 'CO',\n",
       " 'CZ',\n",
       " 'DE',\n",
       " 'DK',\n",
       " 'DZ',\n",
       " 'EE',\n",
       " 'ES',\n",
       " 'FR',\n",
       " 'GB',\n",
       " 'GR',\n",
       " 'HK',\n",
       " 'HN',\n",
       " 'HR',\n",
       " 'HU',\n",
       " 'IE',\n",
       " 'IN',\n",
       " 'IQ',\n",
       " 'IR',\n",
       " 'IT',\n",
       " 'JE',\n",
       " 'JP',\n",
       " 'KE',\n",
       " 'LU',\n",
       " 'MD',\n",
       " 'MT',\n",
       " 'MX',\n",
       " 'MY',\n",
       " 'NG',\n",
       " 'NL',\n",
       " 'NZ',\n",
       " 'PH',\n",
       " 'PK',\n",
       " 'PL',\n",
       " 'PR',\n",
       " 'PT',\n",
       " 'RO',\n",
       " 'RS',\n",
       " 'RU',\n",
       " 'SG',\n",
       " 'SI',\n",
       " 'TN',\n",
       " 'TR',\n",
       " 'UA',\n",
       " 'US',\n",
       " 'VN'}"
      ]
     },
     "execution_count": 22,
     "metadata": {},
     "output_type": "execute_result"
    }
   ],
   "source": [
    "set(salaries_df['employee_residence'].to_list())\n"
   ]
  },
  {
   "cell_type": "code",
   "execution_count": 27,
   "metadata": {},
   "outputs": [
    {
     "data": {
      "text/plain": [
       "{'3D Computer Vision Researcher',\n",
       " 'AI Scientist',\n",
       " 'Analytics Engineer',\n",
       " 'Applied Data Scientist',\n",
       " 'Applied Machine Learning Scientist',\n",
       " 'BI Data Analyst',\n",
       " 'Big Data Architect',\n",
       " 'Big Data Engineer',\n",
       " 'Business Data Analyst',\n",
       " 'Cloud Data Engineer',\n",
       " 'Computer Vision Engineer',\n",
       " 'Computer Vision Software Engineer',\n",
       " 'Data Analyst',\n",
       " 'Data Analytics Engineer',\n",
       " 'Data Analytics Lead',\n",
       " 'Data Analytics Manager',\n",
       " 'Data Architect',\n",
       " 'Data Engineer',\n",
       " 'Data Engineering Manager',\n",
       " 'Data Science Consultant',\n",
       " 'Data Science Engineer',\n",
       " 'Data Science Manager',\n",
       " 'Data Scientist',\n",
       " 'Data Specialist',\n",
       " 'Director of Data Engineering',\n",
       " 'Director of Data Science',\n",
       " 'ETL Developer',\n",
       " 'Finance Data Analyst',\n",
       " 'Financial Data Analyst',\n",
       " 'Head of Data',\n",
       " 'Head of Data Science',\n",
       " 'Head of Machine Learning',\n",
       " 'Lead Data Analyst',\n",
       " 'Lead Data Engineer',\n",
       " 'Lead Data Scientist',\n",
       " 'Lead Machine Learning Engineer',\n",
       " 'ML Engineer',\n",
       " 'Machine Learning Developer',\n",
       " 'Machine Learning Engineer',\n",
       " 'Machine Learning Infrastructure Engineer',\n",
       " 'Machine Learning Manager',\n",
       " 'Machine Learning Scientist',\n",
       " 'Marketing Data Analyst',\n",
       " 'NLP Engineer',\n",
       " 'Principal Data Analyst',\n",
       " 'Principal Data Engineer',\n",
       " 'Principal Data Scientist',\n",
       " 'Product Data Analyst',\n",
       " 'Research Scientist',\n",
       " 'Staff Data Scientist'}"
      ]
     },
     "execution_count": 27,
     "metadata": {},
     "output_type": "execute_result"
    }
   ],
   "source": [
    "set(salaries_df['job_title'].to_list())\n"
   ]
  },
  {
   "cell_type": "code",
   "execution_count": 28,
   "metadata": {},
   "outputs": [],
   "source": [
    "# Experience Level\n",
    "experience_level_dict={'EN':'Entry-level / Junior',\n",
    "                       'MI':'Mid-level / Intermediate',\n",
    "                       'SE':'Senior-level / Expert',\n",
    "                       'EX':'Executive-level / Director'\n",
    "                      }\n",
    "salaries_df['experience_level']=salaries_df['experience_level'].map(experience_level_dict)\n",
    "\n",
    "# Employment Type\n",
    "employment_type_dict = {'FT':'Full Time',\n",
    "                        'PT':'Part Time',\n",
    "                        'CT':'Contract',\n",
    "                        'FL':'Freelance'}\n",
    "salaries_df['employment_type'] = salaries_df['employment_type'].map(employment_type_dict)\n",
    "\n",
    "# Remote_ratio\n",
    "salaries_df.remote_ratio.replace([100,50,0],['Fully Remote','Partially Remote','On-site'], inplace=True)\n",
    "salaries_df['remote_ratio']=salaries_df['remote_ratio'].astype(object)\n",
    "\n",
    "#Employee Residence & Company location\n",
    "##ISO code\n",
    "ISO3166 = {'AD': 'Andorra','AE': 'United Arab Emirates','AF': 'Afghanistan','AG': 'Antigua & Barbuda','AI': 'Anguilla',\n",
    "           'AL': 'Albania','AM': 'Armenia','AN': 'Netherlands Antilles','AO': 'Angola','AQ': 'Antarctica','AR': 'Argentina',\n",
    "           'AS': 'American Samoa','AT': 'Austria','AU': 'Australia','AW': 'Aruba','AZ': 'Azerbaijan','BA': 'Bosnia and Herzegovina',\n",
    "           'BB': 'Barbados','BD': 'Bangladesh','BE': 'Belgium','BF': 'Burkina Faso','BG': 'Bulgaria','BH': 'Bahrain','BI': 'Burundi',\n",
    "           'BJ': 'Benin','BM': 'Bermuda','BN': 'Brunei Darussalam','BO': 'Bolivia','BR': 'Brazil','BS': 'Bahama','BT': 'Bhutan',\n",
    "           'BU': 'Burma (no longer exists)','BV': 'Bouvet Island','BW': 'Botswana','BY': 'Belarus','BZ': 'Belize','CA': 'Canada',\n",
    "           'CC': 'Cocos (Keeling) Islands','CF': 'Central African Republic','CG': 'Congo','CH': 'Switzerland','CI': 'Côte D\\'ivoire (Ivory Coast)',\n",
    "           'CK': 'Cook Iislands','CL': 'Chile','CM': 'Cameroon','CN': 'China','CO': 'Colombia','CR': 'Costa Rica','CS': 'Czechoslovakia (no longer exists)',\n",
    "           'CU': 'Cuba','CV': 'Cape Verde','CX': 'Christmas Island','CY': 'Cyprus','CZ': 'Czech Republic','DD': 'German Democratic Republic (no longer exists)',\n",
    "           'DE': 'Germany','DJ': 'Djibouti','DK': 'Denmark','DM': 'Dominica','DO': 'Dominican Republic','DZ': 'Algeria','EC': 'Ecuador',\n",
    "           'EE': 'Estonia','EG': 'Egypt','EH': 'Western Sahara','ER': 'Eritrea','ES': 'Spain','ET': 'Ethiopia','FI': 'Finland','FJ': 'Fiji',\n",
    "           'FK': 'Falkland Islands (Malvinas)','FM': 'Micronesia','FO': 'Faroe Islands','FR': 'France','FX': 'France, Metropolitan','GA': 'Gabon',\n",
    "           'GB': 'United Kingdom (Great Britain)','GD': 'Grenada','GE': 'Georgia','GF': 'French Guiana','GH': 'Ghana','GI': 'Gibraltar',\n",
    "           'GL': 'Greenland','GM': 'Gambia','GN': 'Guinea','GP': 'Guadeloupe','GQ': 'Equatorial Guinea','GR': 'Greece','GS': 'South Georgia and the South Sandwich Islands',\n",
    "           'GT': 'Guatemala','GU': 'Guam','GW': 'Guinea-Bissau','GY': 'Guyana','HK': 'Hong Kong','HM': 'Heard & McDonald Islands','HN': 'Honduras',\n",
    "           'HR': 'Croatia','HT': 'Haiti','HU': 'Hungary','ID': 'Indonesia','IE': 'Ireland','IL': 'Israel','IN': 'India','IO': 'British Indian Ocean Territory',\n",
    "           'IQ': 'Iraq','IR': 'Islamic Republic of Iran','IS': 'Iceland','IT': 'Italy','JM': 'Jamaica','JO': 'Jordan','JP': 'Japan','KE': 'Kenya',\n",
    "           'KG': 'Kyrgyzstan','KH': 'Cambodia','KI': 'Kiribati','KM': 'Comoros','KN': 'St. Kitts and Nevis','KP': 'Korea, Democratic People\\'s Republic of',\n",
    "           'KR': 'Korea, Republic of','KW': 'Kuwait','KY': 'Cayman Islands','KZ': 'Kazakhstan','LA': 'Lao People\\'s Democratic Republic','LB': 'Lebanon',\n",
    "           'LC': 'Saint Lucia','LI': 'Liechtenstein','LK': 'Sri Lanka','LR': 'Liberia','LS': 'Lesotho','LT': 'Lithuania','LU': 'Luxembourg','LV': 'Latvia',\n",
    "           'LY': 'Libyan Arab Jamahiriya','MA': 'Morocco','MC': 'Monaco','MD': 'Moldova, Republic of','MG': 'Madagascar','MH': 'Marshall Islands','ML': 'Mali',\n",
    "           'MN': 'Mongolia','MM': 'Myanmar','MO': 'Macau','MP': 'Northern Mariana Islands','MQ': 'Martinique','MR': 'Mauritania','MS': 'Monserrat','MT': 'Malta',\n",
    "           'MU': 'Mauritius','MV': 'Maldives','MW': 'Malawi','MX': 'Mexico','MY': 'Malaysia','MZ': 'Mozambique','NA': 'Namibia','NC': 'New Caledonia','NE': 'Niger',\n",
    "           'NF': 'Norfolk Island','NG': 'Nigeria','NI': 'Nicaragua','NL': 'Netherlands','NO': 'Norway','NP': 'Nepal','NR': 'Nauru','NT': 'Neutral Zone (no longer exists)',\n",
    "           'NU': 'Niue','NZ': 'New Zealand','OM': 'Oman','PA': 'Panama','PE': 'Peru','PF': 'French Polynesia','PG': 'Papua New Guinea','PH': 'Philippines','PK': 'Pakistan',\n",
    "           'PL': 'Poland','PM': 'St. Pierre & Miquelon','PN': 'Pitcairn','PR': 'Puerto Rico','PT': 'Portugal','PW': 'Palau','PY': 'Paraguay','QA': 'Qatar','RE': 'Réunion',\n",
    "           'RO': 'Romania','RU': 'Russian Federation','RW': 'Rwanda','SA': 'Saudi Arabia','SB': 'Solomon Islands','SC': 'Seychelles','SD': 'Sudan','SE': 'Sweden',\n",
    "           'SG': 'Singapore','SH': 'St. Helena','SI': 'Slovenia','SJ': 'Svalbard & Jan Mayen Islands','SK': 'Slovakia','SL': 'Sierra Leone','SM': 'San Marino',\n",
    "           'SN': 'Senegal','SO': 'Somalia','SR': 'Suriname','ST': 'Sao Tome & Principe','SU': 'Union of Soviet Socialist Republics (no longer exists)',\n",
    "           'SV': 'El Salvador','SY': 'Syrian Arab Republic','SZ': 'Swaziland','TC': 'Turks & Caicos Islands','TD': 'Chad','TF': 'French Southern Territories',\n",
    "           'TG': 'Togo','TH': 'Thailand','TJ': 'Tajikistan','TK': 'Tokelau','TM': 'Turkmenistan','TN': 'Tunisia','TO': 'Tonga','TP': 'East Timor',\n",
    "           'TR': 'Turkey','TT': 'Trinidad & Tobago','TV': 'Tuvalu','TW': 'Taiwan, Province of China','TZ': 'Tanzania, United Republic of','UA': 'Ukraine',\n",
    "           'UG': 'Uganda','UM': 'United States Minor Outlying Islands','US': 'United States of America','UY': 'Uruguay','UZ': 'Uzbekistan',\n",
    "           'VA': 'Vatican City State (Holy See)','VC': 'St. Vincent & the Grenadines','VE': 'Venezuela','VG': 'British Virgin Islands',\n",
    "           'VI': 'United States Virgin Islands','VN': 'Viet Nam','VU': 'Vanuatu','WF': 'Wallis & Futuna Islands','WS': 'Samoa','YD': 'Democratic Yemen (no longer exists)',\n",
    "           'YE': 'Yemen','YT': 'Mayotte','YU': 'Yugoslavia','ZA': 'South Africa','ZM': 'Zambia','ZR': 'Zaire','ZW': 'Zimbabwe','ZZ': 'Unknown or unspecified country',\n",
    "}\n",
    "\n",
    "salaries_df['employee_residence'] = salaries_df['employee_residence'].map(ISO3166)\n",
    "salaries_df['company_location'] = salaries_df['company_location'].map(ISO3166)\n",
    "\n",
    "#Company Size\n",
    "company_size_dict={'S': 'Small',\n",
    "                  'M':'Medium',\n",
    "                  'L':'Large'}\n",
    "salaries_df.company_size=salaries_df['company_size'].map(company_size_dict)"
   ]
  },
  {
   "cell_type": "code",
   "execution_count": 29,
   "metadata": {},
   "outputs": [],
   "source": [
    "#mapping the new classification type\n",
    "employment_classification = {'Data Scientist':'Data Scientist',\n",
    "                             'Principal Data Scientist':'Data Scientist',\n",
    "                             'Applied Data Scientist':'Data Scientist',\n",
    "                             'Data Science Manager':'Data Scientist',\n",
    "                             'Head of Data Science':'Data Scientist',\n",
    "                             'Director of Data Science':'Data Scientist',\n",
    "                             'Staff Data Scientist':'Data Scientist',\n",
    "                             'Data Science Consultant':'Data Scientist',\n",
    "                             'Data Science Engineer':'Data Scientist',\n",
    "                             'Head of Data':'Data Scientist',\n",
    "                             'Lead Data Scientist':'Data Scientist',\n",
    "                             'Data Scientist Lead':'Data Scientist',\n",
    "                             'Data Science Lead':'Data Scientist',\n",
    "                             'Product Data Scientist':'Data Scientist',\n",
    "                             'Data Specialist':'Data Scientist',\n",
    "                             \n",
    "                             'Big Data Engineer':'Data Engineer',\n",
    "                             'Data Engineer':'Data Engineer',\n",
    "                             'Principal Data Engineer':'Data Engineer',\n",
    "                             'Data Operations Engineer':'Data Engineer',\n",
    "                             'Lead Data Engineer':'Data Engineer',\n",
    "                             'Director of Data Engineering':'Data Engineer',\n",
    "                             'Research Engineer':'Data Engineer',\n",
    "                             'Data Engineering Manager':'Data Engineer',\n",
    "                             'Cloud Data Engineer':'Data Engineer',\n",
    "                             'Data Science Tech Lead':'Data Engineer',\n",
    "                             'Data Manager':'Data Engineer',\n",
    "                             'ETL Developer':'Data Engineer',\n",
    "\n",
    "                             'Product Data Analyst':'Data Analyst',\n",
    "                             'Data Analyst':'Data Analyst',\n",
    "                             'Business Data Analyst':'Data Analyst',\n",
    "                             'Data Science Consultant':'Data Analyst',\n",
    "                             'BI Data Analyst':'Data Analyst',\n",
    "                             'BI Analyst':'Data Analyst',\n",
    "                             'Lead Data Analyst':'Data Analyst',\n",
    "                             'Data Analytics Engineer':'Data Analyst',\n",
    "                             'Marketing Data Analyst':'Data Analyst',\n",
    "                             'Financial Data Analyst':'Data Analyst',\n",
    "                             'Finance Data Analyst':'Data Analyst',\n",
    "                             'Principal Data Analyst':'Data Analyst',\n",
    "                             'Data Analytics Manager':'Data Analyst',\n",
    "                             'Data Analytics Lead':'Data Analyst',\n",
    "                             'Analytics Engineer':'Data Analyst',\n",
    "                             'Data Operations Analyst':'Data Analyst',\n",
    "                             'Data Analytics Consultant':'Data Analyst',\n",
    "                             'Power BI Developer':'Data Analyst',\n",
    "                             \n",
    "                             'Machine Learning Scientist':'Machine Learning Scientist',\n",
    "                             'Applied Machine Learning Scientist':'Machine Learning Scientist',\n",
    "                             'Machine Learning Research Engineer':'Machine Learning Scientist',\n",
    "                             'Head of Machine Learning':'Machine Learning Scientist',\n",
    "                             'Machine Learning Manager':'Machine Learning Scientist',\n",
    "                             \n",
    "                             'Machine Learning Infrastructure Engineer':'Machine Learning Engineer',\n",
    "                             'Machine Learning Engineer':'Machine Learning Engineer',\n",
    "                             'ML Engineer':'Machine Learning Engineer',\n",
    "                             'Lead Machine Learning Engineer':'Machine Learning Engineer',\n",
    "                             'Machine Learning Developer':'Machine Learning Engineer',\n",
    "                             \n",
    "                             'Data Architect':'Data Architect',\n",
    "                             'Cloud Data Architect':'Data Architect',\n",
    "                             'Principal Data Architect':'Data Architect',\n",
    "                             'Big Data Architect':'Data Architect',\n",
    "                             \n",
    "                             'Computer Vision Engineer':'Computer Vision Engineer',\n",
    "                             'Computer Vision Software Engineer':'Computer Vision Engineer',\n",
    "                             '3D Computer Vision Researcher':'Computer Vision Engineer',\n",
    "                             \n",
    "                             'NLP Engineer':'NLP Engineer',\n",
    "                             'AI Scientist':'AI Scientist',\n",
    "                             'Research Scientist':'Research Scientist',\n",
    "                             'Applied Scientist':'Applied Scientist',\n",
    "                            }\n",
    "\n",
    "salaries_df[\"job_title\"] = salaries_df[\"job_title\"].map(employment_classification)"
   ]
  },
  {
   "cell_type": "code",
   "execution_count": 30,
   "metadata": {},
   "outputs": [
    {
     "data": {
      "text/plain": [
       "Unnamed: 0             int64\n",
       "work_year              int64\n",
       "experience_level      object\n",
       "employment_type       object\n",
       "job_title             object\n",
       "salary                 int64\n",
       "salary_currency       object\n",
       "salary_in_usd          int64\n",
       "employee_residence    object\n",
       "remote_ratio          object\n",
       "company_location      object\n",
       "company_size          object\n",
       "dtype: object"
      ]
     },
     "execution_count": 30,
     "metadata": {},
     "output_type": "execute_result"
    }
   ],
   "source": [
    "salaries_df.dtypes\n"
   ]
  },
  {
   "cell_type": "code",
   "execution_count": 31,
   "metadata": {},
   "outputs": [],
   "source": [
    "missing_ratio = salaries_df.select_dtypes(include=['float64','int64']).isnull().sum()\n",
    "missing_ratio = missing_ratio / num_rows\n",
    "columns=list(missing_ratio.index)\n",
    "values=list(missing_ratio.values)\n",
    "missing_ratio_df={columns[i]:values[i] for i in range(len(columns))}\n",
    "missing_ratio_df['']=['missing_ratio']\n",
    "missing_ratio_df=pd.DataFrame(missing_ratio_df).set_index('')"
   ]
  },
  {
   "cell_type": "code",
   "execution_count": 32,
   "metadata": {},
   "outputs": [],
   "source": [
    "numeric_info_df=salaries_df.describe()\n"
   ]
  },
  {
   "cell_type": "code",
   "execution_count": 33,
   "metadata": {},
   "outputs": [
    {
     "data": {
      "text/html": [
       "<style type=\"text/css\">\n",
       "#T_52e11_row0_col0, #T_52e11_row0_col1, #T_52e11_row0_col2, #T_52e11_row0_col3, #T_52e11_row1_col0, #T_52e11_row1_col1, #T_52e11_row1_col2, #T_52e11_row1_col3, #T_52e11_row2_col0, #T_52e11_row2_col1, #T_52e11_row2_col2, #T_52e11_row2_col3, #T_52e11_row3_col0, #T_52e11_row3_col1, #T_52e11_row3_col2, #T_52e11_row3_col3, #T_52e11_row4_col0, #T_52e11_row4_col1, #T_52e11_row4_col2, #T_52e11_row4_col3, #T_52e11_row5_col0, #T_52e11_row5_col1, #T_52e11_row5_col2, #T_52e11_row5_col3, #T_52e11_row6_col0, #T_52e11_row6_col1, #T_52e11_row6_col2, #T_52e11_row6_col3, #T_52e11_row7_col0, #T_52e11_row7_col1, #T_52e11_row7_col2, #T_52e11_row7_col3, #T_52e11_row8_col0, #T_52e11_row8_col1, #T_52e11_row8_col2, #T_52e11_row8_col3 {\n",
       "  background-color: #C2A3E7;\n",
       "  color: black;\n",
       "  border-color: #8b8c8c;\n",
       "}\n",
       "</style>\n",
       "<table id=\"T_52e11\">\n",
       "  <thead>\n",
       "    <tr>\n",
       "      <th class=\"blank level0\" >&nbsp;</th>\n",
       "      <th id=\"T_52e11_level0_col0\" class=\"col_heading level0 col0\" >Unnamed: 0</th>\n",
       "      <th id=\"T_52e11_level0_col1\" class=\"col_heading level0 col1\" >work_year</th>\n",
       "      <th id=\"T_52e11_level0_col2\" class=\"col_heading level0 col2\" >salary</th>\n",
       "      <th id=\"T_52e11_level0_col3\" class=\"col_heading level0 col3\" >salary_in_usd</th>\n",
       "    </tr>\n",
       "  </thead>\n",
       "  <tbody>\n",
       "    <tr>\n",
       "      <th id=\"T_52e11_level0_row0\" class=\"row_heading level0 row0\" >missing_ratio</th>\n",
       "      <td id=\"T_52e11_row0_col0\" class=\"data row0 col0\" >0.000000</td>\n",
       "      <td id=\"T_52e11_row0_col1\" class=\"data row0 col1\" >0.000000</td>\n",
       "      <td id=\"T_52e11_row0_col2\" class=\"data row0 col2\" >0.000000</td>\n",
       "      <td id=\"T_52e11_row0_col3\" class=\"data row0 col3\" >0.000000</td>\n",
       "    </tr>\n",
       "    <tr>\n",
       "      <th id=\"T_52e11_level0_row1\" class=\"row_heading level0 row1\" >count</th>\n",
       "      <td id=\"T_52e11_row1_col0\" class=\"data row1 col0\" >607.000000</td>\n",
       "      <td id=\"T_52e11_row1_col1\" class=\"data row1 col1\" >607.000000</td>\n",
       "      <td id=\"T_52e11_row1_col2\" class=\"data row1 col2\" >607.000000</td>\n",
       "      <td id=\"T_52e11_row1_col3\" class=\"data row1 col3\" >607.000000</td>\n",
       "    </tr>\n",
       "    <tr>\n",
       "      <th id=\"T_52e11_level0_row2\" class=\"row_heading level0 row2\" >mean</th>\n",
       "      <td id=\"T_52e11_row2_col0\" class=\"data row2 col0\" >303.000000</td>\n",
       "      <td id=\"T_52e11_row2_col1\" class=\"data row2 col1\" >2021.405272</td>\n",
       "      <td id=\"T_52e11_row2_col2\" class=\"data row2 col2\" >324000.062603</td>\n",
       "      <td id=\"T_52e11_row2_col3\" class=\"data row2 col3\" >112297.869852</td>\n",
       "    </tr>\n",
       "    <tr>\n",
       "      <th id=\"T_52e11_level0_row3\" class=\"row_heading level0 row3\" >std</th>\n",
       "      <td id=\"T_52e11_row3_col0\" class=\"data row3 col0\" >175.370085</td>\n",
       "      <td id=\"T_52e11_row3_col1\" class=\"data row3 col1\" >0.692133</td>\n",
       "      <td id=\"T_52e11_row3_col2\" class=\"data row3 col2\" >1544357.486636</td>\n",
       "      <td id=\"T_52e11_row3_col3\" class=\"data row3 col3\" >70957.259411</td>\n",
       "    </tr>\n",
       "    <tr>\n",
       "      <th id=\"T_52e11_level0_row4\" class=\"row_heading level0 row4\" >min</th>\n",
       "      <td id=\"T_52e11_row4_col0\" class=\"data row4 col0\" >0.000000</td>\n",
       "      <td id=\"T_52e11_row4_col1\" class=\"data row4 col1\" >2020.000000</td>\n",
       "      <td id=\"T_52e11_row4_col2\" class=\"data row4 col2\" >4000.000000</td>\n",
       "      <td id=\"T_52e11_row4_col3\" class=\"data row4 col3\" >2859.000000</td>\n",
       "    </tr>\n",
       "    <tr>\n",
       "      <th id=\"T_52e11_level0_row5\" class=\"row_heading level0 row5\" >25%</th>\n",
       "      <td id=\"T_52e11_row5_col0\" class=\"data row5 col0\" >151.500000</td>\n",
       "      <td id=\"T_52e11_row5_col1\" class=\"data row5 col1\" >2021.000000</td>\n",
       "      <td id=\"T_52e11_row5_col2\" class=\"data row5 col2\" >70000.000000</td>\n",
       "      <td id=\"T_52e11_row5_col3\" class=\"data row5 col3\" >62726.000000</td>\n",
       "    </tr>\n",
       "    <tr>\n",
       "      <th id=\"T_52e11_level0_row6\" class=\"row_heading level0 row6\" >50%</th>\n",
       "      <td id=\"T_52e11_row6_col0\" class=\"data row6 col0\" >303.000000</td>\n",
       "      <td id=\"T_52e11_row6_col1\" class=\"data row6 col1\" >2022.000000</td>\n",
       "      <td id=\"T_52e11_row6_col2\" class=\"data row6 col2\" >115000.000000</td>\n",
       "      <td id=\"T_52e11_row6_col3\" class=\"data row6 col3\" >101570.000000</td>\n",
       "    </tr>\n",
       "    <tr>\n",
       "      <th id=\"T_52e11_level0_row7\" class=\"row_heading level0 row7\" >75%</th>\n",
       "      <td id=\"T_52e11_row7_col0\" class=\"data row7 col0\" >454.500000</td>\n",
       "      <td id=\"T_52e11_row7_col1\" class=\"data row7 col1\" >2022.000000</td>\n",
       "      <td id=\"T_52e11_row7_col2\" class=\"data row7 col2\" >165000.000000</td>\n",
       "      <td id=\"T_52e11_row7_col3\" class=\"data row7 col3\" >150000.000000</td>\n",
       "    </tr>\n",
       "    <tr>\n",
       "      <th id=\"T_52e11_level0_row8\" class=\"row_heading level0 row8\" >max</th>\n",
       "      <td id=\"T_52e11_row8_col0\" class=\"data row8 col0\" >606.000000</td>\n",
       "      <td id=\"T_52e11_row8_col1\" class=\"data row8 col1\" >2022.000000</td>\n",
       "      <td id=\"T_52e11_row8_col2\" class=\"data row8 col2\" >30400000.000000</td>\n",
       "      <td id=\"T_52e11_row8_col3\" class=\"data row8 col3\" >600000.000000</td>\n",
       "    </tr>\n",
       "  </tbody>\n",
       "</table>\n"
      ],
      "text/plain": [
       "<pandas.io.formats.style.Styler at 0x1af6f73d810>"
      ]
     },
     "execution_count": 33,
     "metadata": {},
     "output_type": "execute_result"
    }
   ],
   "source": [
    "numeric_info_df=pd.concat([missing_ratio_df,numeric_info_df],axis=0)\n",
    "numeric_info_df.style.set_properties(**{'background-color': '#C2A3E7' ,'color':'black','border-color': '#8b8c8c'})"
   ]
  },
  {
   "cell_type": "code",
   "execution_count": 34,
   "metadata": {},
   "outputs": [
    {
     "data": {
      "text/html": [
       "<div>\n",
       "<style scoped>\n",
       "    .dataframe tbody tr th:only-of-type {\n",
       "        vertical-align: middle;\n",
       "    }\n",
       "\n",
       "    .dataframe tbody tr th {\n",
       "        vertical-align: top;\n",
       "    }\n",
       "\n",
       "    .dataframe thead th {\n",
       "        text-align: right;\n",
       "    }\n",
       "</style>\n",
       "<table border=\"1\" class=\"dataframe\">\n",
       "  <thead>\n",
       "    <tr style=\"text-align: right;\">\n",
       "      <th></th>\n",
       "      <th>experience_level</th>\n",
       "      <th>employment_type</th>\n",
       "      <th>job_title</th>\n",
       "      <th>salary_currency</th>\n",
       "      <th>employee_residence</th>\n",
       "      <th>remote_ratio</th>\n",
       "      <th>company_location</th>\n",
       "      <th>company_size</th>\n",
       "    </tr>\n",
       "    <tr>\n",
       "      <th>titles</th>\n",
       "      <th></th>\n",
       "      <th></th>\n",
       "      <th></th>\n",
       "      <th></th>\n",
       "      <th></th>\n",
       "      <th></th>\n",
       "      <th></th>\n",
       "      <th></th>\n",
       "    </tr>\n",
       "  </thead>\n",
       "  <tbody>\n",
       "    <tr>\n",
       "      <th>missing_ratio</th>\n",
       "      <td>0.0</td>\n",
       "      <td>0.0</td>\n",
       "      <td>0.0</td>\n",
       "      <td>0.0</td>\n",
       "      <td>0.329</td>\n",
       "      <td>0.0</td>\n",
       "      <td>0.0</td>\n",
       "      <td>0.0</td>\n",
       "    </tr>\n",
       "    <tr>\n",
       "      <th>num_values</th>\n",
       "      <td>4</td>\n",
       "      <td>4</td>\n",
       "      <td>10</td>\n",
       "      <td>17</td>\n",
       "      <td>55</td>\n",
       "      <td>3</td>\n",
       "      <td>50</td>\n",
       "      <td>3</td>\n",
       "    </tr>\n",
       "    <tr>\n",
       "      <th>value_ratios</th>\n",
       "      <td>{'Senior-level / Expert': 46.129, 'Mid-level /...</td>\n",
       "      <td>{'Full Time': 96.87, 'Part Time': 1.647, 'Cont...</td>\n",
       "      <td>{'Data Scientist': 31.466, 'Data Engineer': 26...</td>\n",
       "      <td>{'USD': 65.568, 'EUR': 15.651, 'GBP': 7.249, '...</td>\n",
       "      <td>{'United States of America': 54.876, 'United K...</td>\n",
       "      <td>{'Fully Remote': 62.768, 'On-site': 20.923, 'P...</td>\n",
       "      <td>{'United States of America': 58.484, 'United K...</td>\n",
       "      <td>{'Medium': 53.707, 'Large': 32.619, 'Small': 1...</td>\n",
       "    </tr>\n",
       "  </tbody>\n",
       "</table>\n",
       "</div>"
      ],
      "text/plain": [
       "                                                experience_level  \\\n",
       "titles                                                             \n",
       "missing_ratio                                                0.0   \n",
       "num_values                                                     4   \n",
       "value_ratios   {'Senior-level / Expert': 46.129, 'Mid-level /...   \n",
       "\n",
       "                                                 employment_type  \\\n",
       "titles                                                             \n",
       "missing_ratio                                                0.0   \n",
       "num_values                                                     4   \n",
       "value_ratios   {'Full Time': 96.87, 'Part Time': 1.647, 'Cont...   \n",
       "\n",
       "                                                       job_title  \\\n",
       "titles                                                             \n",
       "missing_ratio                                                0.0   \n",
       "num_values                                                    10   \n",
       "value_ratios   {'Data Scientist': 31.466, 'Data Engineer': 26...   \n",
       "\n",
       "                                                 salary_currency  \\\n",
       "titles                                                             \n",
       "missing_ratio                                                0.0   \n",
       "num_values                                                    17   \n",
       "value_ratios   {'USD': 65.568, 'EUR': 15.651, 'GBP': 7.249, '...   \n",
       "\n",
       "                                              employee_residence  \\\n",
       "titles                                                             \n",
       "missing_ratio                                              0.329   \n",
       "num_values                                                    55   \n",
       "value_ratios   {'United States of America': 54.876, 'United K...   \n",
       "\n",
       "                                                    remote_ratio  \\\n",
       "titles                                                             \n",
       "missing_ratio                                                0.0   \n",
       "num_values                                                     3   \n",
       "value_ratios   {'Fully Remote': 62.768, 'On-site': 20.923, 'P...   \n",
       "\n",
       "                                                company_location  \\\n",
       "titles                                                             \n",
       "missing_ratio                                                0.0   \n",
       "num_values                                                    50   \n",
       "value_ratios   {'United States of America': 58.484, 'United K...   \n",
       "\n",
       "                                                    company_size  \n",
       "titles                                                            \n",
       "missing_ratio                                                0.0  \n",
       "num_values                                                     3  \n",
       "value_ratios   {'Medium': 53.707, 'Large': 32.619, 'Small': 1...  "
      ]
     },
     "execution_count": 34,
     "metadata": {},
     "output_type": "execute_result"
    }
   ],
   "source": [
    "categorical_df=salaries_df.select_dtypes(exclude=['int64'])\n",
    "col_names=list(categorical_df.columns)\n",
    "titles=[\"missing_ratio\", \"num_values\", \"value_ratios\"]\n",
    "values_list=[]\n",
    "dic={}\n",
    "for i in col_names:\n",
    "    df=categorical_df.copy()[[i]]\n",
    "    size=len(df)\n",
    "    new=list(df[i].values)\n",
    "    df[i]=new\n",
    "    temp=[]\n",
    "    temp.append(((df[i].isnull().sum()/size)*100).round(3))\n",
    "    df.dropna(inplace=True)\n",
    "    vals=list(df[i].values)\n",
    "    num_vals=list(set(vals))\n",
    "    temp.append(len(num_vals))\n",
    "    temp2={}\n",
    "    new=[(df[i].value_counts()[j]/len(vals)*100).round(3) for j in num_vals]\n",
    "    temp2={num_vals[j]:new[j] for j in range(len(num_vals))}\n",
    "    temp2_sort={k:v for k,v in sorted(temp2.items(), key= lambda item:item[1], reverse=True)}\n",
    "    temp.append(temp2_sort)\n",
    "    values_list.append(temp)\n",
    "dic={col_names[i]:values_list[i] for i in range(len(col_names))}\n",
    "dic['titles']=titles\n",
    "categorical_info_df=pd.DataFrame(dic).set_index('titles')\n",
    "categorical_info_df"
   ]
  },
  {
   "cell_type": "code",
   "execution_count": 35,
   "metadata": {},
   "outputs": [
    {
     "name": "stdout",
     "output_type": "stream",
     "text": [
      "Let's take a look at the dataframe that contains the data needed for this question: \n"
     ]
    },
    {
     "data": {
      "text/html": [
       "<div>\n",
       "<style scoped>\n",
       "    .dataframe tbody tr th:only-of-type {\n",
       "        vertical-align: middle;\n",
       "    }\n",
       "\n",
       "    .dataframe tbody tr th {\n",
       "        vertical-align: top;\n",
       "    }\n",
       "\n",
       "    .dataframe thead th {\n",
       "        text-align: right;\n",
       "    }\n",
       "</style>\n",
       "<table border=\"1\" class=\"dataframe\">\n",
       "  <thead>\n",
       "    <tr style=\"text-align: right;\">\n",
       "      <th></th>\n",
       "      <th>work_year</th>\n",
       "      <th>mean_salary_in_usd</th>\n",
       "    </tr>\n",
       "  </thead>\n",
       "  <tbody>\n",
       "    <tr>\n",
       "      <th>0</th>\n",
       "      <td>2020</td>\n",
       "      <td>95813.000000</td>\n",
       "    </tr>\n",
       "    <tr>\n",
       "      <th>1</th>\n",
       "      <td>2021</td>\n",
       "      <td>99853.792627</td>\n",
       "    </tr>\n",
       "    <tr>\n",
       "      <th>2</th>\n",
       "      <td>2022</td>\n",
       "      <td>124522.006289</td>\n",
       "    </tr>\n",
       "  </tbody>\n",
       "</table>\n",
       "</div>"
      ],
      "text/plain": [
       "  work_year  mean_salary_in_usd\n",
       "0      2020        95813.000000\n",
       "1      2021        99853.792627\n",
       "2      2022       124522.006289"
      ]
     },
     "execution_count": 35,
     "metadata": {},
     "output_type": "execute_result"
    }
   ],
   "source": [
    "salary_timeline = pd.DataFrame(salaries_df.groupby(\"work_year\")[\"salary_in_usd\"].mean())\n",
    "salary_timeline = salary_timeline.reset_index()\n",
    "salary_timeline.rename(columns = {'salary_in_usd':'mean_salary_in_usd'}, inplace = True)\n",
    "salary_timeline[\"work_year\"].replace({2020:\"2020\",2021:\"2021\",2022:\"2022\"},inplace=True)\n",
    "print(f\"Let's take a look at the dataframe that contains the data needed for this question: \")\n",
    "salary_timeline\n"
   ]
  },
  {
   "cell_type": "code",
   "execution_count": 36,
   "metadata": {},
   "outputs": [
    {
     "name": "stdout",
     "output_type": "stream",
     "text": [
      "Let's take a look at the change over time of average salary:\n"
     ]
    },
    {
     "data": {
      "image/png": "[encoded data removed]",
      "text/plain": [
       "<Figure size 2000x800 with 1 Axes>"
      ]
     },
     "metadata": {},
     "output_type": "display_data"
    }
   ],
   "source": [
    "sns.set(rc={\"axes.facecolor\":\"#F2EAC5\",\"figure.facecolor\":\"#F2EAC5\"})\n",
    "palette = [\"#11264e\",\"#00507A\",\"#026e90\",\"#008b99\",\"#6faea4\",\"#fcdcb0\",\"#FEE08B\",\"#faa96e\",\"#f36b3b\",\"#ef3f28\",\"#CC0028\"]\n",
    "print(f\"Let's take a look at the change over time of average salary:\")\n",
    "plt.subplots(figsize=(20,8))\n",
    "\n",
    "p=sns.lineplot(x=salary_timeline[\"work_year\"] ,y=salary_timeline[\"mean_salary_in_usd\"],data=salary_timeline,color=palette[1],marker=\"o\",linewidth=8,markersize=20,markerfacecolor=\"orange\",markeredgecolor=\"black\",markeredgewidth=3)\n",
    "p.axes.set_title(\"\\nChange in average salary over the years\\n\",fontsize=25)\n",
    "p.axes.set_xlabel(\"\\nYear\",fontsize=20)\n",
    "p.axes.set_ylabel(\"Average Salary\",fontsize=20)\n",
    "\n",
    "sns.despine(left=True, bottom=True)\n",
    "plt.show()"
   ]
  },
  {
   "cell_type": "code",
   "execution_count": 37,
   "metadata": {},
   "outputs": [
    {
     "name": "stdout",
     "output_type": "stream",
     "text": [
      "After converting the country name to ISO code we have:\n"
     ]
    },
    {
     "data": {
      "text/plain": [
       "array(['DEU', 'JPN', 'GBR', 'HND', 'USA', 'HUN', 'NZL', 'FRA', 'IND',\n",
       "       'PAK', 'CHN', 'GRC', 'ARE', 'NLD', 'MEX', 'CAN', 'AUT', 'NGA',\n",
       "       'ESP', 'PRT', 'DNK', 'ITA', 'HRV', 'LUX', 'POL', 'SGP', 'ROU',\n",
       "       'IRQ', 'BRA', 'BEL', 'UKR', 'ISR', 'RUS', 'MLT', 'CHL', 'IRN',\n",
       "       'COL', 'MDA', 'KEN', 'SVN', 'CHE', 'VNM', 'ASM', 'TUR', 'CZE',\n",
       "       'DZA', 'EST', 'MYS', 'AUS', 'IRL'], dtype=object)"
      ]
     },
     "execution_count": 37,
     "metadata": {},
     "output_type": "execute_result"
    }
   ],
   "source": [
    "country_names = coco.convert(names=salaries_df['company_location'], to=\"ISO3\")\n",
    "salaries_df['company_location'] = country_names\n",
    "print(f\"After converting the country name to ISO code we have:\")\n",
    "salaries_df['company_location'].unique()"
   ]
  },
  {
   "cell_type": "code",
   "execution_count": 38,
   "metadata": {},
   "outputs": [
    {
     "name": "stdout",
     "output_type": "stream",
     "text": [
      "Let's take a look at the dataframe that contains the data needed for this question:\n"
     ]
    },
    {
     "data": {
      "text/html": [
       "<div>\n",
       "<style scoped>\n",
       "    .dataframe tbody tr th:only-of-type {\n",
       "        vertical-align: middle;\n",
       "    }\n",
       "\n",
       "    .dataframe tbody tr th {\n",
       "        vertical-align: top;\n",
       "    }\n",
       "\n",
       "    .dataframe thead th {\n",
       "        text-align: right;\n",
       "    }\n",
       "</style>\n",
       "<table border=\"1\" class=\"dataframe\">\n",
       "  <thead>\n",
       "    <tr style=\"text-align: right;\">\n",
       "      <th></th>\n",
       "      <th>company_location</th>\n",
       "      <th>mean_salary_in_usd</th>\n",
       "    </tr>\n",
       "  </thead>\n",
       "  <tbody>\n",
       "    <tr>\n",
       "      <th>0</th>\n",
       "      <td>ARE</td>\n",
       "      <td>100000.000000</td>\n",
       "    </tr>\n",
       "    <tr>\n",
       "      <th>1</th>\n",
       "      <td>ASM</td>\n",
       "      <td>18053.000000</td>\n",
       "    </tr>\n",
       "    <tr>\n",
       "      <th>2</th>\n",
       "      <td>AUS</td>\n",
       "      <td>108042.666667</td>\n",
       "    </tr>\n",
       "    <tr>\n",
       "      <th>3</th>\n",
       "      <td>AUT</td>\n",
       "      <td>72920.750000</td>\n",
       "    </tr>\n",
       "    <tr>\n",
       "      <th>4</th>\n",
       "      <td>BEL</td>\n",
       "      <td>85699.000000</td>\n",
       "    </tr>\n",
       "    <tr>\n",
       "      <th>5</th>\n",
       "      <td>BRA</td>\n",
       "      <td>18602.666667</td>\n",
       "    </tr>\n",
       "    <tr>\n",
       "      <th>6</th>\n",
       "      <td>CAN</td>\n",
       "      <td>101908.500000</td>\n",
       "    </tr>\n",
       "    <tr>\n",
       "      <th>7</th>\n",
       "      <td>CHE</td>\n",
       "      <td>64114.000000</td>\n",
       "    </tr>\n",
       "    <tr>\n",
       "      <th>8</th>\n",
       "      <td>CHL</td>\n",
       "      <td>40038.000000</td>\n",
       "    </tr>\n",
       "    <tr>\n",
       "      <th>9</th>\n",
       "      <td>CHN</td>\n",
       "      <td>71665.500000</td>\n",
       "    </tr>\n",
       "    <tr>\n",
       "      <th>10</th>\n",
       "      <td>COL</td>\n",
       "      <td>21844.000000</td>\n",
       "    </tr>\n",
       "    <tr>\n",
       "      <th>11</th>\n",
       "      <td>CZE</td>\n",
       "      <td>50937.000000</td>\n",
       "    </tr>\n",
       "    <tr>\n",
       "      <th>12</th>\n",
       "      <td>DEU</td>\n",
       "      <td>82229.666667</td>\n",
       "    </tr>\n",
       "    <tr>\n",
       "      <th>13</th>\n",
       "      <td>DNK</td>\n",
       "      <td>54386.333333</td>\n",
       "    </tr>\n",
       "    <tr>\n",
       "      <th>14</th>\n",
       "      <td>DZA</td>\n",
       "      <td>100000.000000</td>\n",
       "    </tr>\n",
       "    <tr>\n",
       "      <th>15</th>\n",
       "      <td>ESP</td>\n",
       "      <td>53060.142857</td>\n",
       "    </tr>\n",
       "    <tr>\n",
       "      <th>16</th>\n",
       "      <td>EST</td>\n",
       "      <td>32974.000000</td>\n",
       "    </tr>\n",
       "    <tr>\n",
       "      <th>17</th>\n",
       "      <td>FRA</td>\n",
       "      <td>63970.666667</td>\n",
       "    </tr>\n",
       "    <tr>\n",
       "      <th>18</th>\n",
       "      <td>GBR</td>\n",
       "      <td>85142.612903</td>\n",
       "    </tr>\n",
       "    <tr>\n",
       "      <th>19</th>\n",
       "      <td>GRC</td>\n",
       "      <td>52026.700000</td>\n",
       "    </tr>\n",
       "    <tr>\n",
       "      <th>20</th>\n",
       "      <td>HND</td>\n",
       "      <td>20000.000000</td>\n",
       "    </tr>\n",
       "    <tr>\n",
       "      <th>21</th>\n",
       "      <td>HRV</td>\n",
       "      <td>45618.000000</td>\n",
       "    </tr>\n",
       "    <tr>\n",
       "      <th>22</th>\n",
       "      <td>HUN</td>\n",
       "      <td>35735.000000</td>\n",
       "    </tr>\n",
       "    <tr>\n",
       "      <th>23</th>\n",
       "      <td>IND</td>\n",
       "      <td>30065.818182</td>\n",
       "    </tr>\n",
       "    <tr>\n",
       "      <th>24</th>\n",
       "      <td>IRL</td>\n",
       "      <td>71444.000000</td>\n",
       "    </tr>\n",
       "    <tr>\n",
       "      <th>25</th>\n",
       "      <td>IRN</td>\n",
       "      <td>4000.000000</td>\n",
       "    </tr>\n",
       "    <tr>\n",
       "      <th>26</th>\n",
       "      <td>IRQ</td>\n",
       "      <td>100000.000000</td>\n",
       "    </tr>\n",
       "    <tr>\n",
       "      <th>27</th>\n",
       "      <td>ISR</td>\n",
       "      <td>119059.000000</td>\n",
       "    </tr>\n",
       "    <tr>\n",
       "      <th>28</th>\n",
       "      <td>ITA</td>\n",
       "      <td>36366.500000</td>\n",
       "    </tr>\n",
       "    <tr>\n",
       "      <th>29</th>\n",
       "      <td>JPN</td>\n",
       "      <td>114127.333333</td>\n",
       "    </tr>\n",
       "    <tr>\n",
       "      <th>30</th>\n",
       "      <td>KEN</td>\n",
       "      <td>9272.000000</td>\n",
       "    </tr>\n",
       "    <tr>\n",
       "      <th>31</th>\n",
       "      <td>LUX</td>\n",
       "      <td>43942.666667</td>\n",
       "    </tr>\n",
       "    <tr>\n",
       "      <th>32</th>\n",
       "      <td>MDA</td>\n",
       "      <td>18000.000000</td>\n",
       "    </tr>\n",
       "    <tr>\n",
       "      <th>33</th>\n",
       "      <td>MEX</td>\n",
       "      <td>32123.333333</td>\n",
       "    </tr>\n",
       "    <tr>\n",
       "      <th>34</th>\n",
       "      <td>MLT</td>\n",
       "      <td>28369.000000</td>\n",
       "    </tr>\n",
       "    <tr>\n",
       "      <th>35</th>\n",
       "      <td>MYS</td>\n",
       "      <td>40000.000000</td>\n",
       "    </tr>\n",
       "    <tr>\n",
       "      <th>36</th>\n",
       "      <td>NGA</td>\n",
       "      <td>30000.000000</td>\n",
       "    </tr>\n",
       "    <tr>\n",
       "      <th>37</th>\n",
       "      <td>NLD</td>\n",
       "      <td>54945.750000</td>\n",
       "    </tr>\n",
       "    <tr>\n",
       "      <th>38</th>\n",
       "      <td>NZL</td>\n",
       "      <td>125000.000000</td>\n",
       "    </tr>\n",
       "    <tr>\n",
       "      <th>39</th>\n",
       "      <td>PAK</td>\n",
       "      <td>13333.333333</td>\n",
       "    </tr>\n",
       "    <tr>\n",
       "      <th>40</th>\n",
       "      <td>POL</td>\n",
       "      <td>66082.500000</td>\n",
       "    </tr>\n",
       "    <tr>\n",
       "      <th>41</th>\n",
       "      <td>PRT</td>\n",
       "      <td>47793.750000</td>\n",
       "    </tr>\n",
       "    <tr>\n",
       "      <th>42</th>\n",
       "      <td>ROU</td>\n",
       "      <td>60000.000000</td>\n",
       "    </tr>\n",
       "    <tr>\n",
       "      <th>43</th>\n",
       "      <td>RUS</td>\n",
       "      <td>157500.000000</td>\n",
       "    </tr>\n",
       "    <tr>\n",
       "      <th>44</th>\n",
       "      <td>SGP</td>\n",
       "      <td>89294.000000</td>\n",
       "    </tr>\n",
       "    <tr>\n",
       "      <th>45</th>\n",
       "      <td>SVN</td>\n",
       "      <td>63831.000000</td>\n",
       "    </tr>\n",
       "    <tr>\n",
       "      <th>46</th>\n",
       "      <td>TUR</td>\n",
       "      <td>20096.666667</td>\n",
       "    </tr>\n",
       "    <tr>\n",
       "      <th>47</th>\n",
       "      <td>UKR</td>\n",
       "      <td>13400.000000</td>\n",
       "    </tr>\n",
       "    <tr>\n",
       "      <th>48</th>\n",
       "      <td>USA</td>\n",
       "      <td>148598.132275</td>\n",
       "    </tr>\n",
       "    <tr>\n",
       "      <th>49</th>\n",
       "      <td>VNM</td>\n",
       "      <td>4000.000000</td>\n",
       "    </tr>\n",
       "  </tbody>\n",
       "</table>\n",
       "</div>"
      ],
      "text/plain": [
       "   company_location  mean_salary_in_usd\n",
       "0               ARE       100000.000000\n",
       "1               ASM        18053.000000\n",
       "2               AUS       108042.666667\n",
       "3               AUT        72920.750000\n",
       "4               BEL        85699.000000\n",
       "5               BRA        18602.666667\n",
       "6               CAN       101908.500000\n",
       "7               CHE        64114.000000\n",
       "8               CHL        40038.000000\n",
       "9               CHN        71665.500000\n",
       "10              COL        21844.000000\n",
       "11              CZE        50937.000000\n",
       "12              DEU        82229.666667\n",
       "13              DNK        54386.333333\n",
       "14              DZA       100000.000000\n",
       "15              ESP        53060.142857\n",
       "16              EST        32974.000000\n",
       "17              FRA        63970.666667\n",
       "18              GBR        85142.612903\n",
       "19              GRC        52026.700000\n",
       "20              HND        20000.000000\n",
       "21              HRV        45618.000000\n",
       "22              HUN        35735.000000\n",
       "23              IND        30065.818182\n",
       "24              IRL        71444.000000\n",
       "25              IRN         4000.000000\n",
       "26              IRQ       100000.000000\n",
       "27              ISR       119059.000000\n",
       "28              ITA        36366.500000\n",
       "29              JPN       114127.333333\n",
       "30              KEN         9272.000000\n",
       "31              LUX        43942.666667\n",
       "32              MDA        18000.000000\n",
       "33              MEX        32123.333333\n",
       "34              MLT        28369.000000\n",
       "35              MYS        40000.000000\n",
       "36              NGA        30000.000000\n",
       "37              NLD        54945.750000\n",
       "38              NZL       125000.000000\n",
       "39              PAK        13333.333333\n",
       "40              POL        66082.500000\n",
       "41              PRT        47793.750000\n",
       "42              ROU        60000.000000\n",
       "43              RUS       157500.000000\n",
       "44              SGP        89294.000000\n",
       "45              SVN        63831.000000\n",
       "46              TUR        20096.666667\n",
       "47              UKR        13400.000000\n",
       "48              USA       148598.132275\n",
       "49              VNM         4000.000000"
      ]
     },
     "execution_count": 38,
     "metadata": {},
     "output_type": "execute_result"
    }
   ],
   "source": [
    "salary_location_df = salaries_df.groupby(['salary_in_usd', 'company_location']).size().reset_index()\n",
    "average_salary = salary_location_df.groupby('company_location').mean().reset_index()\n",
    "average_salary.rename(columns = {'salary_in_usd':'mean_salary_in_usd'}, inplace = True)\n",
    "average_salary = average_salary[['company_location','mean_salary_in_usd']]\n",
    "print(f\"Let's take a look at the dataframe that contains the data needed for this question:\")\n",
    "average_salary"
   ]
  },
  {
   "cell_type": "code",
   "execution_count": 39,
   "metadata": {},
   "outputs": [
    {
     "name": "stdout",
     "output_type": "stream",
     "text": [
      "Let's take a look at the average salaries by countries:\n"
     ]
    },
    {
     "data": {
      "application/vnd.plotly.v1+json": {
       "config": {
        "plotlyServerURL": "https://plot.ly"
       },
       "data": [
        {
         "coloraxis": "coloraxis",
         "geo": "geo",
         "hovertemplate": "locations=%{location}<br>color=%{z}<extra></extra>",
         "locations": [
          "ARE",
          "ASM",
          "AUS",
          "AUT",
          "BEL",
          "BRA",
          "CAN",
          "CHE",
          "CHL",
          "CHN",
          "COL",
          "CZE",
          "DEU",
          "DNK",
          "DZA",
          "ESP",
          "EST",
          "FRA",
          "GBR",
          "GRC",
          "HND",
          "HRV",
          "HUN",
          "IND",
          "IRL",
          "IRN",
          "IRQ",
          "ISR",
          "ITA",
          "JPN",
          "KEN",
          "LUX",
          "MDA",
          "MEX",
          "MLT",
          "MYS",
          "NGA",
          "NLD",
          "NZL",
          "PAK",
          "POL",
          "PRT",
          "ROU",
          "RUS",
          "SGP",
          "SVN",
          "TUR",
          "UKR",
          "USA",
          "VNM"
         ],
         "name": "",
         "type": "choropleth",
         "z": [
          100000,
          18053,
          108042.66666666667,
          72920.75,
          85699,
          18602.666666666668,
          101908.5,
          64114,
          40038,
          71665.5,
          21844,
          50937,
          82229.66666666667,
          54386.333333333336,
          100000,
          53060.142857142855,
          32974,
          63970.666666666664,
          85142.6129032258,
          52026.7,
          20000,
          45618,
          35735,
          30065.81818181818,
          71444,
          4000,
          100000,
          119059,
          36366.5,
          114127.33333333333,
          9272,
          43942.666666666664,
          18000,
          32123.333333333332,
          28369,
          40000,
          30000,
          54945.75,
          125000,
          13333.333333333334,
          66082.5,
          47793.75,
          60000,
          157500,
          89294,
          63831,
          20096.666666666668,
          13400,
          148598.1322751323,
          4000
         ]
        }
       ],
       "layout": {
        "coloraxis": {
         "colorbar": {
          "title": {
           "text": "color"
          }
         },
         "colorscale": [
          [
           0,
           "rgb(103,0,31)"
          ],
          [
           0.1,
           "rgb(178,24,43)"
          ],
          [
           0.2,
           "rgb(214,96,77)"
          ],
          [
           0.3,
           "rgb(244,165,130)"
          ],
          [
           0.4,
           "rgb(253,219,199)"
          ],
          [
           0.5,
           "rgb(247,247,247)"
          ],
          [
           0.6,
           "rgb(209,229,240)"
          ],
          [
           0.7,
           "rgb(146,197,222)"
          ],
          [
           0.8,
           "rgb(67,147,195)"
          ],
          [
           0.9,
           "rgb(33,102,172)"
          ],
          [
           1,
           "rgb(5,48,97)"
          ]
         ]
        },
        "font": {
         "family": "Rubik",
         "size": 18
        },
        "geo": {
         "center": {},
         "domain": {
          "x": [
           0,
           1
          ],
          "y": [
           0,
           1
          ]
         }
        },
        "legend": {
         "tracegroupgap": 0
        },
        "margin": {
         "t": 60
        },
        "template": {
         "data": {
          "bar": [
           {
            "error_x": {
             "color": "#f2f5fa"
            },
            "error_y": {
             "color": "#f2f5fa"
            },
            "marker": {
             "line": {
              "color": "rgb(17,17,17)",
              "width": 0.5
             },
             "pattern": {
              "fillmode": "overlay",
              "size": 10,
              "solidity": 0.2
             }
            },
            "type": "bar"
           }
          ],
          "barpolar": [
           {
            "marker": {
             "line": {
              "color": "rgb(17,17,17)",
              "width": 0.5
             },
             "pattern": {
              "fillmode": "overlay",
              "size": 10,
              "solidity": 0.2
             }
            },
            "type": "barpolar"
           }
          ],
          "carpet": [
           {
            "aaxis": {
             "endlinecolor": "#A2B1C6",
             "gridcolor": "#506784",
             "linecolor": "#506784",
             "minorgridcolor": "#506784",
             "startlinecolor": "#A2B1C6"
            },
            "baxis": {
             "endlinecolor": "#A2B1C6",
             "gridcolor": "#506784",
             "linecolor": "#506784",
             "minorgridcolor": "#506784",
             "startlinecolor": "#A2B1C6"
            },
            "type": "carpet"
           }
          ],
          "choropleth": [
           {
            "colorbar": {
             "outlinewidth": 0,
             "ticks": ""
            },
            "type": "choropleth"
           }
          ],
          "contour": [
           {
            "colorbar": {
             "outlinewidth": 0,
             "ticks": ""
            },
            "colorscale": [
             [
              0,
              "#0d0887"
             ],
             [
              0.1111111111111111,
              "#46039f"
             ],
             [
              0.2222222222222222,
              "#7201a8"
             ],
             [
              0.3333333333333333,
              "#9c179e"
             ],
             [
              0.4444444444444444,
              "#bd3786"
             ],
             [
              0.5555555555555556,
              "#d8576b"
             ],
             [
              0.6666666666666666,
              "#ed7953"
             ],
             [
              0.7777777777777778,
              "#fb9f3a"
             ],
             [
              0.8888888888888888,
              "#fdca26"
             ],
             [
              1,
              "#f0f921"
             ]
            ],
            "type": "contour"
           }
          ],
          "contourcarpet": [
           {
            "colorbar": {
             "outlinewidth": 0,
             "ticks": ""
            },
            "type": "contourcarpet"
           }
          ],
          "heatmap": [
           {
            "colorbar": {
             "outlinewidth": 0,
             "ticks": ""
            },
            "colorscale": [
             [
              0,
              "#0d0887"
             ],
             [
              0.1111111111111111,
              "#46039f"
             ],
             [
              0.2222222222222222,
              "#7201a8"
             ],
             [
              0.3333333333333333,
              "#9c179e"
             ],
             [
              0.4444444444444444,
              "#bd3786"
             ],
             [
              0.5555555555555556,
              "#d8576b"
             ],
             [
              0.6666666666666666,
              "#ed7953"
             ],
             [
              0.7777777777777778,
              "#fb9f3a"
             ],
             [
              0.8888888888888888,
              "#fdca26"
             ],
             [
              1,
              "#f0f921"
             ]
            ],
            "type": "heatmap"
           }
          ],
          "heatmapgl": [
           {
            "colorbar": {
             "outlinewidth": 0,
             "ticks": ""
            },
            "colorscale": [
             [
              0,
              "#0d0887"
             ],
             [
              0.1111111111111111,
              "#46039f"
             ],
             [
              0.2222222222222222,
              "#7201a8"
             ],
             [
              0.3333333333333333,
              "#9c179e"
             ],
             [
              0.4444444444444444,
              "#bd3786"
             ],
             [
              0.5555555555555556,
              "#d8576b"
             ],
             [
              0.6666666666666666,
              "#ed7953"
             ],
             [
              0.7777777777777778,
              "#fb9f3a"
             ],
             [
              0.8888888888888888,
              "#fdca26"
             ],
             [
              1,
              "#f0f921"
             ]
            ],
            "type": "heatmapgl"
           }
          ],
          "histogram": [
           {
            "marker": {
             "pattern": {
              "fillmode": "overlay",
              "size": 10,
              "solidity": 0.2
             }
            },
            "type": "histogram"
           }
          ],
          "histogram2d": [
           {
            "colorbar": {
             "outlinewidth": 0,
             "ticks": ""
            },
            "colorscale": [
             [
              0,
              "#0d0887"
             ],
             [
              0.1111111111111111,
              "#46039f"
             ],
             [
              0.2222222222222222,
              "#7201a8"
             ],
             [
              0.3333333333333333,
              "#9c179e"
             ],
             [
              0.4444444444444444,
              "#bd3786"
             ],
             [
              0.5555555555555556,
              "#d8576b"
             ],
             [
              0.6666666666666666,
              "#ed7953"
             ],
             [
              0.7777777777777778,
              "#fb9f3a"
             ],
             [
              0.8888888888888888,
              "#fdca26"
             ],
             [
              1,
              "#f0f921"
             ]
            ],
            "type": "histogram2d"
           }
          ],
          "histogram2dcontour": [
           {
            "colorbar": {
             "outlinewidth": 0,
             "ticks": ""
            },
            "colorscale": [
             [
              0,
              "#0d0887"
             ],
             [
              0.1111111111111111,
              "#46039f"
             ],
             [
              0.2222222222222222,
              "#7201a8"
             ],
             [
              0.3333333333333333,
              "#9c179e"
             ],
             [
              0.4444444444444444,
              "#bd3786"
             ],
             [
              0.5555555555555556,
              "#d8576b"
             ],
             [
              0.6666666666666666,
              "#ed7953"
             ],
             [
              0.7777777777777778,
              "#fb9f3a"
             ],
             [
              0.8888888888888888,
              "#fdca26"
             ],
             [
              1,
              "#f0f921"
             ]
            ],
            "type": "histogram2dcontour"
           }
          ],
          "mesh3d": [
           {
            "colorbar": {
             "outlinewidth": 0,
             "ticks": ""
            },
            "type": "mesh3d"
           }
          ],
          "parcoords": [
           {
            "line": {
             "colorbar": {
              "outlinewidth": 0,
              "ticks": ""
             }
            },
            "type": "parcoords"
           }
          ],
          "pie": [
           {
            "automargin": true,
            "type": "pie"
           }
          ],
          "scatter": [
           {
            "marker": {
             "line": {
              "color": "#283442"
             }
            },
            "type": "scatter"
           }
          ],
          "scatter3d": [
           {
            "line": {
             "colorbar": {
              "outlinewidth": 0,
              "ticks": ""
             }
            },
            "marker": {
             "colorbar": {
              "outlinewidth": 0,
              "ticks": ""
             }
            },
            "type": "scatter3d"
           }
          ],
          "scattercarpet": [
           {
            "marker": {
             "colorbar": {
              "outlinewidth": 0,
              "ticks": ""
             }
            },
            "type": "scattercarpet"
           }
          ],
          "scattergeo": [
           {
            "marker": {
             "colorbar": {
              "outlinewidth": 0,
              "ticks": ""
             }
            },
            "type": "scattergeo"
           }
          ],
          "scattergl": [
           {
            "marker": {
             "line": {
              "color": "#283442"
             }
            },
            "type": "scattergl"
           }
          ],
          "scattermapbox": [
           {
            "marker": {
             "colorbar": {
              "outlinewidth": 0,
              "ticks": ""
             }
            },
            "type": "scattermapbox"
           }
          ],
          "scatterpolar": [
           {
            "marker": {
             "colorbar": {
              "outlinewidth": 0,
              "ticks": ""
             }
            },
            "type": "scatterpolar"
           }
          ],
          "scatterpolargl": [
           {
            "marker": {
             "colorbar": {
              "outlinewidth": 0,
              "ticks": ""
             }
            },
            "type": "scatterpolargl"
           }
          ],
          "scatterternary": [
           {
            "marker": {
             "colorbar": {
              "outlinewidth": 0,
              "ticks": ""
             }
            },
            "type": "scatterternary"
           }
          ],
          "surface": [
           {
            "colorbar": {
             "outlinewidth": 0,
             "ticks": ""
            },
            "colorscale": [
             [
              0,
              "#0d0887"
             ],
             [
              0.1111111111111111,
              "#46039f"
             ],
             [
              0.2222222222222222,
              "#7201a8"
             ],
             [
              0.3333333333333333,
              "#9c179e"
             ],
             [
              0.4444444444444444,
              "#bd3786"
             ],
             [
              0.5555555555555556,
              "#d8576b"
             ],
             [
              0.6666666666666666,
              "#ed7953"
             ],
             [
              0.7777777777777778,
              "#fb9f3a"
             ],
             [
              0.8888888888888888,
              "#fdca26"
             ],
             [
              1,
              "#f0f921"
             ]
            ],
            "type": "surface"
           }
          ],
          "table": [
           {
            "cells": {
             "fill": {
              "color": "#506784"
             },
             "line": {
              "color": "rgb(17,17,17)"
             }
            },
            "header": {
             "fill": {
              "color": "#2a3f5f"
             },
             "line": {
              "color": "rgb(17,17,17)"
             }
            },
            "type": "table"
           }
          ]
         },
         "layout": {
          "annotationdefaults": {
           "arrowcolor": "#f2f5fa",
           "arrowhead": 0,
           "arrowwidth": 1
          },
          "autotypenumbers": "strict",
          "coloraxis": {
           "colorbar": {
            "outlinewidth": 0,
            "ticks": ""
           }
          },
          "colorscale": {
           "diverging": [
            [
             0,
             "#8e0152"
            ],
            [
             0.1,
             "#c51b7d"
            ],
            [
             0.2,
             "#de77ae"
            ],
            [
             0.3,
             "#f1b6da"
            ],
            [
             0.4,
             "#fde0ef"
            ],
            [
             0.5,
             "#f7f7f7"
            ],
            [
             0.6,
             "#e6f5d0"
            ],
            [
             0.7,
             "#b8e186"
            ],
            [
             0.8,
             "#7fbc41"
            ],
            [
             0.9,
             "#4d9221"
            ],
            [
             1,
             "#276419"
            ]
           ],
           "sequential": [
            [
             0,
             "#0d0887"
            ],
            [
             0.1111111111111111,
             "#46039f"
            ],
            [
             0.2222222222222222,
             "#7201a8"
            ],
            [
             0.3333333333333333,
             "#9c179e"
            ],
            [
             0.4444444444444444,
             "#bd3786"
            ],
            [
             0.5555555555555556,
             "#d8576b"
            ],
            [
             0.6666666666666666,
             "#ed7953"
            ],
            [
             0.7777777777777778,
             "#fb9f3a"
            ],
            [
             0.8888888888888888,
             "#fdca26"
            ],
            [
             1,
             "#f0f921"
            ]
           ],
           "sequentialminus": [
            [
             0,
             "#0d0887"
            ],
            [
             0.1111111111111111,
             "#46039f"
            ],
            [
             0.2222222222222222,
             "#7201a8"
            ],
            [
             0.3333333333333333,
             "#9c179e"
            ],
            [
             0.4444444444444444,
             "#bd3786"
            ],
            [
             0.5555555555555556,
             "#d8576b"
            ],
            [
             0.6666666666666666,
             "#ed7953"
            ],
            [
             0.7777777777777778,
             "#fb9f3a"
            ],
            [
             0.8888888888888888,
             "#fdca26"
            ],
            [
             1,
             "#f0f921"
            ]
           ]
          },
          "colorway": [
           "#636efa",
           "#EF553B",
           "#00cc96",
           "#ab63fa",
           "#FFA15A",
           "#19d3f3",
           "#FF6692",
           "#B6E880",
           "#FF97FF",
           "#FECB52"
          ],
          "font": {
           "color": "#f2f5fa"
          },
          "geo": {
           "bgcolor": "rgb(17,17,17)",
           "lakecolor": "rgb(17,17,17)",
           "landcolor": "rgb(17,17,17)",
           "showlakes": true,
           "showland": true,
           "subunitcolor": "#506784"
          },
          "hoverlabel": {
           "align": "left"
          },
          "hovermode": "closest",
          "mapbox": {
           "style": "dark"
          },
          "paper_bgcolor": "rgb(17,17,17)",
          "plot_bgcolor": "rgb(17,17,17)",
          "polar": {
           "angularaxis": {
            "gridcolor": "#506784",
            "linecolor": "#506784",
            "ticks": ""
           },
           "bgcolor": "rgb(17,17,17)",
           "radialaxis": {
            "gridcolor": "#506784",
            "linecolor": "#506784",
            "ticks": ""
           }
          },
          "scene": {
           "xaxis": {
            "backgroundcolor": "rgb(17,17,17)",
            "gridcolor": "#506784",
            "gridwidth": 2,
            "linecolor": "#506784",
            "showbackground": true,
            "ticks": "",
            "zerolinecolor": "#C8D4E3"
           },
           "yaxis": {
            "backgroundcolor": "rgb(17,17,17)",
            "gridcolor": "#506784",
            "gridwidth": 2,
            "linecolor": "#506784",
            "showbackground": true,
            "ticks": "",
            "zerolinecolor": "#C8D4E3"
           },
           "zaxis": {
            "backgroundcolor": "rgb(17,17,17)",
            "gridcolor": "#506784",
            "gridwidth": 2,
            "linecolor": "#506784",
            "showbackground": true,
            "ticks": "",
            "zerolinecolor": "#C8D4E3"
           }
          },
          "shapedefaults": {
           "line": {
            "color": "#f2f5fa"
           }
          },
          "sliderdefaults": {
           "bgcolor": "#C8D4E3",
           "bordercolor": "rgb(17,17,17)",
           "borderwidth": 1,
           "tickwidth": 0
          },
          "ternary": {
           "aaxis": {
            "gridcolor": "#506784",
            "linecolor": "#506784",
            "ticks": ""
           },
           "baxis": {
            "gridcolor": "#506784",
            "linecolor": "#506784",
            "ticks": ""
           },
           "bgcolor": "rgb(17,17,17)",
           "caxis": {
            "gridcolor": "#506784",
            "linecolor": "#506784",
            "ticks": ""
           }
          },
          "title": {
           "x": 0.05
          },
          "updatemenudefaults": {
           "bgcolor": "#506784",
           "borderwidth": 0
          },
          "xaxis": {
           "automargin": true,
           "gridcolor": "#283442",
           "linecolor": "#506784",
           "ticks": "",
           "title": {
            "standoff": 15
           },
           "zerolinecolor": "#283442",
           "zerolinewidth": 2
          },
          "yaxis": {
           "automargin": true,
           "gridcolor": "#283442",
           "linecolor": "#506784",
           "ticks": "",
           "title": {
            "standoff": 15
           },
           "zerolinecolor": "#283442",
           "zerolinewidth": 2
          }
         }
        },
        "title": {
         "text": "Average Salary by Company Location",
         "x": 0.5
        }
       }
      }
     },
     "metadata": {},
     "output_type": "display_data"
    }
   ],
   "source": [
    "print(f\"Let's take a look at the average salaries by countries:\")\n",
    "\n",
    "fig = px.choropleth(locations=average_salary['company_location'],\n",
    "                    color=average_salary['mean_salary_in_usd'],\n",
    "                    color_continuous_scale=px.colors.sequential.RdBu,\n",
    "                    template='plotly_dark')\n",
    "fig.update_layout(font = dict(size=17,family=\"Courier new\"))\n",
    "\n",
    "fig.update_layout(\n",
    "    title=\"Average Salary by Company Location\", title_x=0.5,\n",
    "    font=dict(\n",
    "        family=\"Rubik\",\n",
    "        size=18\n",
    "    )\n",
    ")\n",
    "\n",
    "fig.show()"
   ]
  },
  {
   "cell_type": "code",
   "execution_count": 40,
   "metadata": {},
   "outputs": [
    {
     "name": "stderr",
     "output_type": "stream",
     "text": [
      "C:\\Users\\Zahid Ali\\AppData\\Local\\Temp\\ipykernel_9756\\1450020977.py:1: FutureWarning:\n",
      "\n",
      "Passing a negative integer is deprecated in version 1.0 and will not be supported in future version. Instead, use None to not limit the column width.\n",
      "\n"
     ]
    },
    {
     "data": {
      "text/html": [
       "<div>\n",
       "<style scoped>\n",
       "    .dataframe tbody tr th:only-of-type {\n",
       "        vertical-align: middle;\n",
       "    }\n",
       "\n",
       "    .dataframe tbody tr th {\n",
       "        vertical-align: top;\n",
       "    }\n",
       "\n",
       "    .dataframe thead th {\n",
       "        text-align: right;\n",
       "    }\n",
       "</style>\n",
       "<table border=\"1\" class=\"dataframe\">\n",
       "  <thead>\n",
       "    <tr style=\"text-align: right;\">\n",
       "      <th></th>\n",
       "      <th>Portugal</th>\n",
       "      <th>China</th>\n",
       "      <th>United Arab Emirates</th>\n",
       "      <th>Austria</th>\n",
       "      <th>Greece</th>\n",
       "      <th>Philippines</th>\n",
       "      <th>New Zealand</th>\n",
       "      <th>United Kingdom (Great Britain)</th>\n",
       "      <th>Netherlands</th>\n",
       "      <th>France</th>\n",
       "      <th>Nigeria</th>\n",
       "      <th>Poland</th>\n",
       "      <th>United States of America</th>\n",
       "      <th>Hungary</th>\n",
       "      <th>Mexico</th>\n",
       "      <th>Italy</th>\n",
       "      <th>Croatia</th>\n",
       "      <th>Spain</th>\n",
       "      <th>Denmark</th>\n",
       "      <th>Honduras</th>\n",
       "      <th>India</th>\n",
       "      <th>Germany</th>\n",
       "      <th>Japan</th>\n",
       "      <th>Canada</th>\n",
       "      <th>Russian Federation</th>\n",
       "      <th>Pakistan</th>\n",
       "      <th>Brazil</th>\n",
       "      <th>Malta</th>\n",
       "      <th>Viet Nam</th>\n",
       "      <th>Chile</th>\n",
       "      <th>Iraq</th>\n",
       "      <th>Puerto Rico</th>\n",
       "      <th>Singapore</th>\n",
       "      <th>Moldova, Republic of</th>\n",
       "      <th>Kenya</th>\n",
       "      <th>Belgium</th>\n",
       "      <th>Hong Kong</th>\n",
       "      <th>Turkey</th>\n",
       "      <th>Ukraine</th>\n",
       "      <th>Colombia</th>\n",
       "      <th>Luxembourg</th>\n",
       "      <th>Slovenia</th>\n",
       "      <th>Islamic Republic of Iran</th>\n",
       "      <th>Czech Republic</th>\n",
       "      <th>Bulgaria</th>\n",
       "      <th>Romania</th>\n",
       "      <th>Malaysia</th>\n",
       "      <th>Australia</th>\n",
       "      <th>Estonia</th>\n",
       "      <th>Bolivia</th>\n",
       "      <th>Ireland</th>\n",
       "      <th>Switzerland</th>\n",
       "      <th>Algeria</th>\n",
       "      <th>Tunisia</th>\n",
       "      <th>Argentina</th>\n",
       "    </tr>\n",
       "    <tr>\n",
       "      <th>titles</th>\n",
       "      <th></th>\n",
       "      <th></th>\n",
       "      <th></th>\n",
       "      <th></th>\n",
       "      <th></th>\n",
       "      <th></th>\n",
       "      <th></th>\n",
       "      <th></th>\n",
       "      <th></th>\n",
       "      <th></th>\n",
       "      <th></th>\n",
       "      <th></th>\n",
       "      <th></th>\n",
       "      <th></th>\n",
       "      <th></th>\n",
       "      <th></th>\n",
       "      <th></th>\n",
       "      <th></th>\n",
       "      <th></th>\n",
       "      <th></th>\n",
       "      <th></th>\n",
       "      <th></th>\n",
       "      <th></th>\n",
       "      <th></th>\n",
       "      <th></th>\n",
       "      <th></th>\n",
       "      <th></th>\n",
       "      <th></th>\n",
       "      <th></th>\n",
       "      <th></th>\n",
       "      <th></th>\n",
       "      <th></th>\n",
       "      <th></th>\n",
       "      <th></th>\n",
       "      <th></th>\n",
       "      <th></th>\n",
       "      <th></th>\n",
       "      <th></th>\n",
       "      <th></th>\n",
       "      <th></th>\n",
       "      <th></th>\n",
       "      <th></th>\n",
       "      <th></th>\n",
       "      <th></th>\n",
       "      <th></th>\n",
       "      <th></th>\n",
       "      <th></th>\n",
       "      <th></th>\n",
       "      <th></th>\n",
       "      <th></th>\n",
       "      <th></th>\n",
       "      <th></th>\n",
       "      <th></th>\n",
       "      <th></th>\n",
       "      <th></th>\n",
       "    </tr>\n",
       "  </thead>\n",
       "  <tbody>\n",
       "    <tr>\n",
       "      <th>2020</th>\n",
       "      <td>{'Data Engineer': 50.0, 'Machine Learning Engineer': 50.0}</td>\n",
       "      <td>{'Machine Learning Engineer': 100.0}</td>\n",
       "      <td>{'Data Scientist': 100.0}</td>\n",
       "      <td>{'Data Engineer': 50.0, 'Data Scientist': 50.0}</td>\n",
       "      <td>{'Data Engineer': 50.0, 'Data Scientist': 50.0}</td>\n",
       "      <td>{'Data Scientist': 100.0}</td>\n",
       "      <td>{'Data Engineer': 100.0}</td>\n",
       "      <td>{'Data Engineer': 66.7, 'Data Scientist': 33.3}</td>\n",
       "      <td>{'Research Scientist': 100.0}</td>\n",
       "      <td>{'Data Scientist': 66.7, 'Data Analyst': 16.7, 'Data Engineer': 16.7}</td>\n",
       "      <td>{'Data Analyst': 100.0}</td>\n",
       "      <td>{'Data Engineer': 100.0}</td>\n",
       "      <td>{'Data Scientist': 36.0, 'Data Analyst': 32.0, 'Data Engineer': 16.0, 'Machine Learning Engineer': 12.0, 'Research Scientist': 4.0}</td>\n",
       "      <td>{'Data Scientist': 100.0}</td>\n",
       "      <td>{'Data Engineer': 100.0}</td>\n",
       "      <td>{'Data Scientist': 100.0}</td>\n",
       "      <td>{'Machine Learning Engineer': 100.0}</td>\n",
       "      <td>{'Data Engineer': 66.7, 'Data Scientist': 33.3}</td>\n",
       "      <td>{'AI Scientist': 100.0}</td>\n",
       "      <td>{'Data Analyst': 100.0}</td>\n",
       "      <td>{'Data Analyst': 75.0, 'Data Scientist': 25.0}</td>\n",
       "      <td>{'Data Scientist': 66.7, 'Data Engineer': 16.7, 'Machine Learning Engineer': 16.7}</td>\n",
       "      <td>{'Data Engineer': 50.0, 'Machine Learning Scientist': 50.0}</td>\n",
       "      <td>{'Machine Learning Scientist': 100.0}</td>\n",
       "      <td>{'Computer Vision Engineer': 100.0}</td>\n",
       "      <td>{'Data Analyst': 50.0, 'Data Engineer': 50.0}</td>\n",
       "      <td>NaN</td>\n",
       "      <td>NaN</td>\n",
       "      <td>NaN</td>\n",
       "      <td>NaN</td>\n",
       "      <td>NaN</td>\n",
       "      <td>NaN</td>\n",
       "      <td>NaN</td>\n",
       "      <td>NaN</td>\n",
       "      <td>NaN</td>\n",
       "      <td>NaN</td>\n",
       "      <td>NaN</td>\n",
       "      <td>NaN</td>\n",
       "      <td>NaN</td>\n",
       "      <td>NaN</td>\n",
       "      <td>NaN</td>\n",
       "      <td>NaN</td>\n",
       "      <td>NaN</td>\n",
       "      <td>NaN</td>\n",
       "      <td>NaN</td>\n",
       "      <td>NaN</td>\n",
       "      <td>NaN</td>\n",
       "      <td>NaN</td>\n",
       "      <td>NaN</td>\n",
       "      <td>NaN</td>\n",
       "      <td>NaN</td>\n",
       "      <td>NaN</td>\n",
       "      <td>NaN</td>\n",
       "      <td>NaN</td>\n",
       "      <td>NaN</td>\n",
       "    </tr>\n",
       "    <tr>\n",
       "      <th>2021</th>\n",
       "      <td>{'Research Scientist': 100.0}</td>\n",
       "      <td>NaN</td>\n",
       "      <td>NaN</td>\n",
       "      <td>NaN</td>\n",
       "      <td>{'Data Analyst': 50.0, 'Data Scientist': 50.0}</td>\n",
       "      <td>NaN</td>\n",
       "      <td>NaN</td>\n",
       "      <td>{'Data Engineer': 41.7, 'Data Scientist': 33.3, 'Data Analyst': 16.7, 'Research Scientist': 8.3}</td>\n",
       "      <td>{'Data Engineer': 66.7, 'Machine Learning Engineer': 33.3}</td>\n",
       "      <td>{'Data Scientist': 44.4, 'Research Scientist': 33.3, 'Data Analyst': 22.2}</td>\n",
       "      <td>{'Data Scientist': 100.0}</td>\n",
       "      <td>{'Data Engineer': 50.0, 'Machine Learning Engineer': 50.0}</td>\n",
       "      <td>{'Data Scientist': 32.2, 'Data Engineer': 26.4, 'Data Analyst': 24.1, 'Machine Learning Engineer': 8.0, 'Machine Learning Scientist': 4.6, 'Data Architect': 3.4, 'Computer Vision Engineer': 1.1}</td>\n",
       "      <td>{'Data Analyst': 100.0}</td>\n",
       "      <td>{'Data Scientist': 100.0}</td>\n",
       "      <td>{'Data Engineer': 33.3, 'Data Scientist': 33.3, 'Machine Learning Engineer': 33.3}</td>\n",
       "      <td>NaN</td>\n",
       "      <td>{'Data Scientist': 33.3, 'AI Scientist': 16.7, 'Data Analyst': 16.7, 'Data Engineer': 16.7, 'Machine Learning Engineer': 16.7}</td>\n",
       "      <td>{'Computer Vision Engineer': 100.0}</td>\n",
       "      <td>NaN</td>\n",
       "      <td>{'Data Scientist': 42.9, 'Data Engineer': 23.8, 'Machine Learning Engineer': 14.3, 'Data Analyst': 9.5, 'AI Scientist': 4.8, 'Computer Vision Engineer': 4.8}</td>\n",
       "      <td>{'Data Scientist': 43.8, 'Data Analyst': 31.2, 'Machine Learning Engineer': 12.5, 'Computer Vision Engineer': 6.2, 'Data Engineer': 6.2}</td>\n",
       "      <td>{'Machine Learning Engineer': 75.0, 'Data Scientist': 25.0}</td>\n",
       "      <td>{'Data Scientist': 44.4, 'Research Scientist': 33.3, 'Data Analyst': 11.1, 'Data Architect': 11.1}</td>\n",
       "      <td>{'Data Scientist': 100.0}</td>\n",
       "      <td>{'AI Scientist': 50.0, 'Machine Learning Scientist': 50.0}</td>\n",
       "      <td>{'Computer Vision Engineer': 40.0, 'AI Scientist': 20.0, 'Data Engineer': 20.0, 'Data Scientist': 20.0}</td>\n",
       "      <td>{'Data Engineer': 100.0}</td>\n",
       "      <td>{'Data Analyst': 33.3, 'Data Scientist': 33.3, 'Machine Learning Scientist': 33.3}</td>\n",
       "      <td>{'Data Scientist': 100.0}</td>\n",
       "      <td>{'Machine Learning Engineer': 100.0}</td>\n",
       "      <td>{'Data Engineer': 100.0}</td>\n",
       "      <td>{'Data Engineer': 50.0, 'Data Scientist': 50.0}</td>\n",
       "      <td>{'Data Engineer': 100.0}</td>\n",
       "      <td>{'Data Analyst': 100.0}</td>\n",
       "      <td>{'Machine Learning Engineer': 100.0}</td>\n",
       "      <td>{'Data Engineer': 100.0}</td>\n",
       "      <td>{'Data Engineer': 66.7, 'Data Scientist': 33.3}</td>\n",
       "      <td>{'Data Scientist': 100.0}</td>\n",
       "      <td>{'Machine Learning Engineer': 100.0}</td>\n",
       "      <td>{'Data Analyst': 100.0}</td>\n",
       "      <td>{'Data Scientist': 50.0, 'Machine Learning Engineer': 50.0}</td>\n",
       "      <td>{'Data Engineer': 100.0}</td>\n",
       "      <td>{'Research Scientist': 100.0}</td>\n",
       "      <td>{'Data Analyst': 100.0}</td>\n",
       "      <td>{'Data Engineer': 100.0}</td>\n",
       "      <td>NaN</td>\n",
       "      <td>NaN</td>\n",
       "      <td>NaN</td>\n",
       "      <td>NaN</td>\n",
       "      <td>NaN</td>\n",
       "      <td>NaN</td>\n",
       "      <td>NaN</td>\n",
       "      <td>NaN</td>\n",
       "      <td>NaN</td>\n",
       "    </tr>\n",
       "    <tr>\n",
       "      <th>2022</th>\n",
       "      <td>{'Machine Learning Engineer': 66.7, 'Computer Vision Engineer': 33.3}</td>\n",
       "      <td>NaN</td>\n",
       "      <td>{'Machine Learning Engineer': 100.0}</td>\n",
       "      <td>{'Research Scientist': 100.0}</td>\n",
       "      <td>{'Data Engineer': 66.7, 'Data Analyst': 33.3}</td>\n",
       "      <td>NaN</td>\n",
       "      <td>NaN</td>\n",
       "      <td>{'Data Engineer': 48.3, 'Data Scientist': 27.6, 'Data Analyst': 13.8, 'Machine Learning Engineer': 10.3}</td>\n",
       "      <td>{'Machine Learning Engineer': 100.0}</td>\n",
       "      <td>{'Data Engineer': 33.3, 'Machine Learning Engineer': 33.3, 'Research Scientist': 33.3}</td>\n",
       "      <td>NaN</td>\n",
       "      <td>{'Data Scientist': 100.0}</td>\n",
       "      <td>{'Data Scientist': 30.5, 'Data Analyst': 30.0, 'Data Engineer': 29.1, 'Machine Learning Engineer': 4.1, 'Data Architect': 2.7, 'Machine Learning Scientist': 1.4, 'Research Scientist': 0.9, 'AI Scientist': 0.5, 'Computer Vision Engineer': 0.5, 'NLP Engineer': 0.5}</td>\n",
       "      <td>NaN</td>\n",
       "      <td>NaN</td>\n",
       "      <td>NaN</td>\n",
       "      <td>NaN</td>\n",
       "      <td>{'Data Engineer': 66.7, 'Data Analyst': 33.3}</td>\n",
       "      <td>NaN</td>\n",
       "      <td>NaN</td>\n",
       "      <td>{'Data Scientist': 40.0, 'AI Scientist': 20.0, 'Data Analyst': 20.0, 'Machine Learning Scientist': 20.0}</td>\n",
       "      <td>{'Data Engineer': 33.3, 'Data Scientist': 33.3, 'Machine Learning Engineer': 33.3}</td>\n",
       "      <td>{'Data Scientist': 100.0}</td>\n",
       "      <td>{'Data Analyst': 52.6, 'Data Scientist': 21.1, 'Data Architect': 10.5, 'Machine Learning Engineer': 10.5, 'Data Engineer': 5.3}</td>\n",
       "      <td>{'Data Scientist': 100.0}</td>\n",
       "      <td>{'Data Analyst': 50.0, 'Data Engineer': 50.0}</td>\n",
       "      <td>{'Data Scientist': 100.0}</td>\n",
       "      <td>NaN</td>\n",
       "      <td>NaN</td>\n",
       "      <td>NaN</td>\n",
       "      <td>NaN</td>\n",
       "      <td>NaN</td>\n",
       "      <td>NaN</td>\n",
       "      <td>NaN</td>\n",
       "      <td>NaN</td>\n",
       "      <td>NaN</td>\n",
       "      <td>NaN</td>\n",
       "      <td>NaN</td>\n",
       "      <td>NaN</td>\n",
       "      <td>NaN</td>\n",
       "      <td>NaN</td>\n",
       "      <td>NaN</td>\n",
       "      <td>NaN</td>\n",
       "      <td>NaN</td>\n",
       "      <td>NaN</td>\n",
       "      <td>NaN</td>\n",
       "      <td>{'Data Scientist': 100.0}</td>\n",
       "      <td>{'Computer Vision Engineer': 33.3, 'Data Scientist': 33.3, 'Machine Learning Engineer': 33.3}</td>\n",
       "      <td>{'Data Scientist': 100.0}</td>\n",
       "      <td>{'Machine Learning Scientist': 100.0}</td>\n",
       "      <td>{'Machine Learning Engineer': 100.0}</td>\n",
       "      <td>{'Data Scientist': 100.0}</td>\n",
       "      <td>{'Data Scientist': 100.0}</td>\n",
       "      <td>{'Machine Learning Scientist': 100.0}</td>\n",
       "      <td>{'Data Scientist': 100.0}</td>\n",
       "    </tr>\n",
       "  </tbody>\n",
       "</table>\n",
       "</div>"
      ],
      "text/plain": [
       "                                                                     Portugal  \\\n",
       "titles                                                                          \n",
       "2020    {'Data Engineer': 50.0, 'Machine Learning Engineer': 50.0}              \n",
       "2021    {'Research Scientist': 100.0}                                           \n",
       "2022    {'Machine Learning Engineer': 66.7, 'Computer Vision Engineer': 33.3}   \n",
       "\n",
       "                                       China  \\\n",
       "titles                                         \n",
       "2020    {'Machine Learning Engineer': 100.0}   \n",
       "2021    NaN                                    \n",
       "2022    NaN                                    \n",
       "\n",
       "                        United Arab Emirates  \\\n",
       "titles                                         \n",
       "2020    {'Data Scientist': 100.0}              \n",
       "2021    NaN                                    \n",
       "2022    {'Machine Learning Engineer': 100.0}   \n",
       "\n",
       "                                                Austria  \\\n",
       "titles                                                    \n",
       "2020    {'Data Engineer': 50.0, 'Data Scientist': 50.0}   \n",
       "2021    NaN                                               \n",
       "2022    {'Research Scientist': 100.0}                     \n",
       "\n",
       "                                                 Greece  \\\n",
       "titles                                                    \n",
       "2020    {'Data Engineer': 50.0, 'Data Scientist': 50.0}   \n",
       "2021    {'Data Analyst': 50.0, 'Data Scientist': 50.0}    \n",
       "2022    {'Data Engineer': 66.7, 'Data Analyst': 33.3}     \n",
       "\n",
       "                      Philippines               New Zealand  \\\n",
       "titles                                                        \n",
       "2020    {'Data Scientist': 100.0}  {'Data Engineer': 100.0}   \n",
       "2021    NaN                        NaN                        \n",
       "2022    NaN                        NaN                        \n",
       "\n",
       "                                                                                  United Kingdom (Great Britain)  \\\n",
       "titles                                                                                                             \n",
       "2020    {'Data Engineer': 66.7, 'Data Scientist': 33.3}                                                            \n",
       "2021    {'Data Engineer': 41.7, 'Data Scientist': 33.3, 'Data Analyst': 16.7, 'Research Scientist': 8.3}           \n",
       "2022    {'Data Engineer': 48.3, 'Data Scientist': 27.6, 'Data Analyst': 13.8, 'Machine Learning Engineer': 10.3}   \n",
       "\n",
       "                                                       Netherlands  \\\n",
       "titles                                                               \n",
       "2020    {'Research Scientist': 100.0}                                \n",
       "2021    {'Data Engineer': 66.7, 'Machine Learning Engineer': 33.3}   \n",
       "2022    {'Machine Learning Engineer': 100.0}                         \n",
       "\n",
       "                                                                                        France  \\\n",
       "titles                                                                                           \n",
       "2020    {'Data Scientist': 66.7, 'Data Analyst': 16.7, 'Data Engineer': 16.7}                    \n",
       "2021    {'Data Scientist': 44.4, 'Research Scientist': 33.3, 'Data Analyst': 22.2}               \n",
       "2022    {'Data Engineer': 33.3, 'Machine Learning Engineer': 33.3, 'Research Scientist': 33.3}   \n",
       "\n",
       "                          Nigeria  \\\n",
       "titles                              \n",
       "2020    {'Data Analyst': 100.0}     \n",
       "2021    {'Data Scientist': 100.0}   \n",
       "2022    NaN                         \n",
       "\n",
       "                                                            Poland  \\\n",
       "titles                                                               \n",
       "2020    {'Data Engineer': 100.0}                                     \n",
       "2021    {'Data Engineer': 50.0, 'Machine Learning Engineer': 50.0}   \n",
       "2022    {'Data Scientist': 100.0}                                    \n",
       "\n",
       "                                                                                                                                                                                                                                                       United States of America  \\\n",
       "titles                                                                                                                                                                                                                                                                            \n",
       "2020    {'Data Scientist': 36.0, 'Data Analyst': 32.0, 'Data Engineer': 16.0, 'Machine Learning Engineer': 12.0, 'Research Scientist': 4.0}                                                                                                                                       \n",
       "2021    {'Data Scientist': 32.2, 'Data Engineer': 26.4, 'Data Analyst': 24.1, 'Machine Learning Engineer': 8.0, 'Machine Learning Scientist': 4.6, 'Data Architect': 3.4, 'Computer Vision Engineer': 1.1}                                                                        \n",
       "2022    {'Data Scientist': 30.5, 'Data Analyst': 30.0, 'Data Engineer': 29.1, 'Machine Learning Engineer': 4.1, 'Data Architect': 2.7, 'Machine Learning Scientist': 1.4, 'Research Scientist': 0.9, 'AI Scientist': 0.5, 'Computer Vision Engineer': 0.5, 'NLP Engineer': 0.5}   \n",
       "\n",
       "                          Hungary                     Mexico  \\\n",
       "titles                                                         \n",
       "2020    {'Data Scientist': 100.0}  {'Data Engineer': 100.0}    \n",
       "2021    {'Data Analyst': 100.0}    {'Data Scientist': 100.0}   \n",
       "2022    NaN                        NaN                         \n",
       "\n",
       "                                                                                     Italy  \\\n",
       "titles                                                                                       \n",
       "2020    {'Data Scientist': 100.0}                                                            \n",
       "2021    {'Data Engineer': 33.3, 'Data Scientist': 33.3, 'Machine Learning Engineer': 33.3}   \n",
       "2022    NaN                                                                                  \n",
       "\n",
       "                                     Croatia  \\\n",
       "titles                                         \n",
       "2020    {'Machine Learning Engineer': 100.0}   \n",
       "2021    NaN                                    \n",
       "2022    NaN                                    \n",
       "\n",
       "                                                                                                                                 Spain  \\\n",
       "titles                                                                                                                                   \n",
       "2020    {'Data Engineer': 66.7, 'Data Scientist': 33.3}                                                                                  \n",
       "2021    {'Data Scientist': 33.3, 'AI Scientist': 16.7, 'Data Analyst': 16.7, 'Data Engineer': 16.7, 'Machine Learning Engineer': 16.7}   \n",
       "2022    {'Data Engineer': 66.7, 'Data Analyst': 33.3}                                                                                    \n",
       "\n",
       "                                    Denmark                 Honduras  \\\n",
       "titles                                                                 \n",
       "2020    {'AI Scientist': 100.0}              {'Data Analyst': 100.0}   \n",
       "2021    {'Computer Vision Engineer': 100.0}  NaN                       \n",
       "2022    NaN                                  NaN                       \n",
       "\n",
       "                                                                                                                                                                India  \\\n",
       "titles                                                                                                                                                                  \n",
       "2020    {'Data Analyst': 75.0, 'Data Scientist': 25.0}                                                                                                                  \n",
       "2021    {'Data Scientist': 42.9, 'Data Engineer': 23.8, 'Machine Learning Engineer': 14.3, 'Data Analyst': 9.5, 'AI Scientist': 4.8, 'Computer Vision Engineer': 4.8}   \n",
       "2022    {'Data Scientist': 40.0, 'AI Scientist': 20.0, 'Data Analyst': 20.0, 'Machine Learning Scientist': 20.0}                                                        \n",
       "\n",
       "                                                                                                                                         Germany  \\\n",
       "titles                                                                                                                                             \n",
       "2020    {'Data Scientist': 66.7, 'Data Engineer': 16.7, 'Machine Learning Engineer': 16.7}                                                         \n",
       "2021    {'Data Scientist': 43.8, 'Data Analyst': 31.2, 'Machine Learning Engineer': 12.5, 'Computer Vision Engineer': 6.2, 'Data Engineer': 6.2}   \n",
       "2022    {'Data Engineer': 33.3, 'Data Scientist': 33.3, 'Machine Learning Engineer': 33.3}                                                         \n",
       "\n",
       "                                                              Japan  \\\n",
       "titles                                                                \n",
       "2020    {'Data Engineer': 50.0, 'Machine Learning Scientist': 50.0}   \n",
       "2021    {'Machine Learning Engineer': 75.0, 'Data Scientist': 25.0}   \n",
       "2022    {'Data Scientist': 100.0}                                     \n",
       "\n",
       "                                                                                                                                 Canada  \\\n",
       "titles                                                                                                                                    \n",
       "2020    {'Machine Learning Scientist': 100.0}                                                                                             \n",
       "2021    {'Data Scientist': 44.4, 'Research Scientist': 33.3, 'Data Analyst': 11.1, 'Data Architect': 11.1}                                \n",
       "2022    {'Data Analyst': 52.6, 'Data Scientist': 21.1, 'Data Architect': 10.5, 'Machine Learning Engineer': 10.5, 'Data Engineer': 5.3}   \n",
       "\n",
       "                         Russian Federation  \\\n",
       "titles                                        \n",
       "2020    {'Computer Vision Engineer': 100.0}   \n",
       "2021    {'Data Scientist': 100.0}             \n",
       "2022    {'Data Scientist': 100.0}             \n",
       "\n",
       "                                                          Pakistan  \\\n",
       "titles                                                               \n",
       "2020    {'Data Analyst': 50.0, 'Data Engineer': 50.0}                \n",
       "2021    {'AI Scientist': 50.0, 'Machine Learning Scientist': 50.0}   \n",
       "2022    {'Data Analyst': 50.0, 'Data Engineer': 50.0}                \n",
       "\n",
       "                                                                                                         Brazil  \\\n",
       "titles                                                                                                            \n",
       "2020    NaN                                                                                                       \n",
       "2021    {'Computer Vision Engineer': 40.0, 'AI Scientist': 20.0, 'Data Engineer': 20.0, 'Data Scientist': 20.0}   \n",
       "2022    {'Data Scientist': 100.0}                                                                                 \n",
       "\n",
       "                           Malta  \\\n",
       "titles                             \n",
       "2020    NaN                        \n",
       "2021    {'Data Engineer': 100.0}   \n",
       "2022    NaN                        \n",
       "\n",
       "                                                                                  Viet Nam  \\\n",
       "titles                                                                                       \n",
       "2020    NaN                                                                                  \n",
       "2021    {'Data Analyst': 33.3, 'Data Scientist': 33.3, 'Machine Learning Scientist': 33.3}   \n",
       "2022    NaN                                                                                  \n",
       "\n",
       "                            Chile                                  Iraq  \\\n",
       "titles                                                                    \n",
       "2020    NaN                        NaN                                    \n",
       "2021    {'Data Scientist': 100.0}  {'Machine Learning Engineer': 100.0}   \n",
       "2022    NaN                        NaN                                    \n",
       "\n",
       "                     Puerto Rico  \\\n",
       "titles                             \n",
       "2020    NaN                        \n",
       "2021    {'Data Engineer': 100.0}   \n",
       "2022    NaN                        \n",
       "\n",
       "                                              Singapore  \\\n",
       "titles                                                    \n",
       "2020    NaN                                               \n",
       "2021    {'Data Engineer': 50.0, 'Data Scientist': 50.0}   \n",
       "2022    NaN                                               \n",
       "\n",
       "            Moldova, Republic of                    Kenya  \\\n",
       "titles                                                      \n",
       "2020    NaN                       NaN                       \n",
       "2021    {'Data Engineer': 100.0}  {'Data Analyst': 100.0}   \n",
       "2022    NaN                       NaN                       \n",
       "\n",
       "                                     Belgium                 Hong Kong  \\\n",
       "titles                                                                   \n",
       "2020    NaN                                   NaN                        \n",
       "2021    {'Machine Learning Engineer': 100.0}  {'Data Engineer': 100.0}   \n",
       "2022    NaN                                   NaN                        \n",
       "\n",
       "                                                 Turkey  \\\n",
       "titles                                                    \n",
       "2020    NaN                                               \n",
       "2021    {'Data Engineer': 66.7, 'Data Scientist': 33.3}   \n",
       "2022    NaN                                               \n",
       "\n",
       "                          Ukraine                              Colombia  \\\n",
       "titles                                                                    \n",
       "2020    NaN                        NaN                                    \n",
       "2021    {'Data Scientist': 100.0}  {'Machine Learning Engineer': 100.0}   \n",
       "2022    NaN                        NaN                                    \n",
       "\n",
       "                     Luxembourg  \\\n",
       "titles                            \n",
       "2020    NaN                       \n",
       "2021    {'Data Analyst': 100.0}   \n",
       "2022    NaN                       \n",
       "\n",
       "                                                           Slovenia  \\\n",
       "titles                                                                \n",
       "2020    NaN                                                           \n",
       "2021    {'Data Scientist': 50.0, 'Machine Learning Engineer': 50.0}   \n",
       "2022    NaN                                                           \n",
       "\n",
       "        Islamic Republic of Iran                 Czech Republic  \\\n",
       "titles                                                            \n",
       "2020    NaN                       NaN                             \n",
       "2021    {'Data Engineer': 100.0}  {'Research Scientist': 100.0}   \n",
       "2022    NaN                       NaN                             \n",
       "\n",
       "                       Bulgaria                   Romania  \\\n",
       "titles                                                      \n",
       "2020    NaN                      NaN                        \n",
       "2021    {'Data Analyst': 100.0}  {'Data Engineer': 100.0}   \n",
       "2022    NaN                      NaN                        \n",
       "\n",
       "                         Malaysia  \\\n",
       "titles                              \n",
       "2020    NaN                         \n",
       "2021    NaN                         \n",
       "2022    {'Data Scientist': 100.0}   \n",
       "\n",
       "                                                                                            Australia  \\\n",
       "titles                                                                                                  \n",
       "2020    NaN                                                                                             \n",
       "2021    NaN                                                                                             \n",
       "2022    {'Computer Vision Engineer': 33.3, 'Data Scientist': 33.3, 'Machine Learning Engineer': 33.3}   \n",
       "\n",
       "                          Estonia                                Bolivia  \\\n",
       "titles                                                                     \n",
       "2020    NaN                        NaN                                     \n",
       "2021    NaN                        NaN                                     \n",
       "2022    {'Data Scientist': 100.0}  {'Machine Learning Scientist': 100.0}   \n",
       "\n",
       "                                     Ireland                Switzerland  \\\n",
       "titles                                                                    \n",
       "2020    NaN                                   NaN                         \n",
       "2021    NaN                                   NaN                         \n",
       "2022    {'Machine Learning Engineer': 100.0}  {'Data Scientist': 100.0}   \n",
       "\n",
       "                          Algeria                                Tunisia  \\\n",
       "titles                                                                     \n",
       "2020    NaN                        NaN                                     \n",
       "2021    NaN                        NaN                                     \n",
       "2022    {'Data Scientist': 100.0}  {'Machine Learning Scientist': 100.0}   \n",
       "\n",
       "                        Argentina  \n",
       "titles                             \n",
       "2020    NaN                        \n",
       "2021    NaN                        \n",
       "2022    {'Data Scientist': 100.0}  "
      ]
     },
     "execution_count": 40,
     "metadata": {},
     "output_type": "execute_result"
    }
   ],
   "source": [
    "pd.set_option('display.max_colwidth', -1)\n",
    "pd.set_option('display.max_columns', None)\n",
    "pd.set_option('display.max_rows', None)\n",
    "def get_country_jobs(data,year):\n",
    "    country_col,job_col='employee_residence','job_title'\n",
    "    df=data.copy()[[country_col,job_col]]\n",
    "\n",
    "    df.dropna(inplace=True)\n",
    "    country_names=list(set(list(df[country_col].values)))\n",
    "    country_vals=[]\n",
    "    for c in country_names:\n",
    "        sub_df=df[df[country_col]==c]\n",
    "        jobs=list(sub_df[job_col].values)\n",
    "        jobs=[i.split(';') for i in jobs]\n",
    "        jbs=np.array([j for i in jobs for j in i])\n",
    "        n,c=np.unique(jbs,return_counts=True)[0],np.unique(jbs,return_counts=True)[1]\n",
    "        c=((c/jbs.shape[0])*100).round(1)\n",
    "        n,c=list(n),list(c)\n",
    "        dic_jbs=dict(zip(n,c))\n",
    "        dic_jbs_sort={k:v for k,v in sorted(dic_jbs.items(), key= lambda item:item[1], reverse=True)}\n",
    "        temp=[]\n",
    "        temp.append(dic_jbs_sort)\n",
    "        country_vals.append(temp)\n",
    "    country_jobs_dict={country_names[i]:country_vals[i] for i in range(len(country_names))}\n",
    "    country_jobs_dict['titles']=year\n",
    "    country_jobs_df=pd.DataFrame(country_jobs_dict).set_index('titles')\n",
    "    return country_jobs_df\n",
    "df2020=get_country_jobs(salaries_df[salaries_df['work_year']==2020],'2020')\n",
    "df2021=get_country_jobs(salaries_df[salaries_df['work_year']==2021],'2021')\n",
    "df2022=get_country_jobs(salaries_df[salaries_df['work_year']==2022],'2022')\n",
    "country_jobs_df=pd.concat([df2020, df2021, df2022], axis=0)\n",
    "country_jobs_df"
   ]
  },
  {
   "cell_type": "code",
   "execution_count": 41,
   "metadata": {},
   "outputs": [
    {
     "data": {
      "text/plain": [
       "titles\n",
       "2020    NaN                                                                               \n",
       "2021    {'Data Analyst': 33.3, 'Data Scientist': 33.3, 'Machine Learning Scientist': 33.3}\n",
       "2022    NaN                                                                               \n",
       "Name: Viet Nam, dtype: object"
      ]
     },
     "execution_count": 41,
     "metadata": {},
     "output_type": "execute_result"
    }
   ],
   "source": [
    "country_jobs_df['Viet Nam']\n"
   ]
  },
  {
   "cell_type": "code",
   "execution_count": 42,
   "metadata": {},
   "outputs": [
    {
     "data": {
      "text/plain": [
       "Data Scientist                31.5\n",
       "Data Engineer                 26.4\n",
       "Data Analyst                  23.4\n",
       "Machine Learning Engineer     8.9 \n",
       "Research Scientist            2.6 \n",
       "Machine Learning Scientist    2.3 \n",
       "Data Architect                2.0 \n",
       "Computer Vision Engineer      1.6 \n",
       "AI Scientist                  1.2 \n",
       "NLP Engineer                  0.2 \n",
       "dtype: float64"
      ]
     },
     "execution_count": 42,
     "metadata": {},
     "output_type": "execute_result"
    }
   ],
   "source": [
    "df=salaries_df[['job_title','employee_residence','company_location']]\n",
    "l0=list(df['job_title'].values)\n",
    "l1=list(df['employee_residence'].values)\n",
    "l2=list(df['company_location'].values)\n",
    "job_titles=[l0[i] for i in range(len(l0)) if l1[i]!=l2[i]]\n",
    "set_job_titles=list(set(job_titles))\n",
    "job_titles_df=pd.DataFrame({'data':job_titles})\n",
    "percents=[]\n",
    "for i in set_job_titles:\n",
    "    percents.append(((job_titles_df['data'].value_counts()[i]/len(job_titles_df))*100).round(1))\n",
    "job_titles_series=pd.Series(index=set_job_titles,data=percents)\n",
    "job_titles_series=job_titles_series.sort_values(ascending=False)\n",
    "job_titles_series"
   ]
  },
  {
   "cell_type": "code",
   "execution_count": 43,
   "metadata": {},
   "outputs": [
    {
     "data": {
      "text/plain": [
       "Index(['Data Scientist', 'Data Engineer', 'Data Analyst',\n",
       "       'Machine Learning Engineer', 'Research Scientist',\n",
       "       'Machine Learning Scientist', 'Data Architect',\n",
       "       'Computer Vision Engineer', 'AI Scientist', 'NLP Engineer'],\n",
       "      dtype='object')"
      ]
     },
     "execution_count": 43,
     "metadata": {},
     "output_type": "execute_result"
    }
   ],
   "source": [
    "job_titles_series.index\n"
   ]
  },
  {
   "cell_type": "code",
   "execution_count": 44,
   "metadata": {},
   "outputs": [
    {
     "ename": "TypeError",
     "evalue": "barplot() takes from 0 to 1 positional arguments but 2 positional arguments (and 2 keyword-only arguments) were given",
     "output_type": "error",
     "traceback": [
      "\u001b[1;31m---------------------------------------------------------------------------\u001b[0m",
      "\u001b[1;31mTypeError\u001b[0m                                 Traceback (most recent call last)",
      "Cell \u001b[1;32mIn[44], line 2\u001b[0m\n\u001b[0;32m      1\u001b[0m plt\u001b[39m.\u001b[39msubplots(figsize\u001b[39m=\u001b[39m(\u001b[39m20\u001b[39m, \u001b[39m10\u001b[39m))\n\u001b[1;32m----> 2\u001b[0m p\u001b[39m=\u001b[39msns\u001b[39m.\u001b[39;49mbarplot(job_titles_series\u001b[39m.\u001b[39;49mvalues,job_titles_series\u001b[39m.\u001b[39;49mindex,palette\u001b[39m=\u001b[39;49mpalette, saturation\u001b[39m=\u001b[39;49m\u001b[39m1\u001b[39;49m, edgecolor \u001b[39m=\u001b[39;49m \u001b[39m\"\u001b[39;49m\u001b[39m#1c1c1c\u001b[39;49m\u001b[39m\"\u001b[39;49m, linewidth \u001b[39m=\u001b[39;49m \u001b[39m4\u001b[39;49m)\n\u001b[0;32m      3\u001b[0m p\u001b[39m.\u001b[39maxes\u001b[39m.\u001b[39mset_title(\u001b[39m\"\u001b[39m\u001b[39m\\n\u001b[39;00m\u001b[39mPercentage working abroad of each job\u001b[39m\u001b[39m\\n\u001b[39;00m\u001b[39m\"\u001b[39m,fontsize\u001b[39m=\u001b[39m\u001b[39m25\u001b[39m)\n\u001b[0;32m      4\u001b[0m p\u001b[39m.\u001b[39maxes\u001b[39m.\u001b[39mset_xlabel(\u001b[39m\"\u001b[39m\u001b[39mPercentage working abroad\u001b[39m\u001b[39m\"\u001b[39m,fontsize\u001b[39m=\u001b[39m\u001b[39m20\u001b[39m)\n",
      "\u001b[1;31mTypeError\u001b[0m: barplot() takes from 0 to 1 positional arguments but 2 positional arguments (and 2 keyword-only arguments) were given"
     ]
    },
    {
     "data": {
      "image/png": "[encoded data removed]",
      "text/plain": [
       "<Figure size 2000x1000 with 1 Axes>"
      ]
     },
     "metadata": {},
     "output_type": "display_data"
    }
   ],
   "source": [
    "plt.subplots(figsize=(20, 10))\n",
    "p=sns.barplot(job_titles_series.values,job_titles_series.index,palette=palette, saturation=1, edgecolor = \"#1c1c1c\", linewidth = 4)\n",
    "p.axes.set_title(\"\\nPercentage working abroad of each job\\n\",fontsize=25)\n",
    "p.axes.set_xlabel(\"Percentage working abroad\",fontsize=20)\n",
    "p.axes.set_ylabel(\"Job Title\",fontsize=20)\n",
    "p.axes.set_xticklabels(p.get_xticklabels(),rotation = 90)\n",
    "for container in p.containers:\n",
    "    p.bar_label(container,label_type=\"edge\",padding=6,size=25,color=\"black\",rotation=0,\n",
    "    bbox={\"boxstyle\": \"round\", \"pad\": 0.4, \"facecolor\": \"orange\", \"edgecolor\": \"#1c1c1c\", \"linewidth\" : 2, \"alpha\": 1})\n",
    "\n",
    "sns.despine(left=True, bottom=True)\n",
    "plt.show()"
   ]
  },
  {
   "cell_type": "code",
   "execution_count": 45,
   "metadata": {},
   "outputs": [
    {
     "name": "stdout",
     "output_type": "stream",
     "text": [
      "Let's take a look at average wages across types of employees by company sizes:\n"
     ]
    },
    {
     "name": "stderr",
     "output_type": "stream",
     "text": [
      "C:\\Users\\Zahid Ali\\AppData\\Local\\Temp\\ipykernel_9756\\4206045364.py:3: FutureWarning:\n",
      "\n",
      "\n",
      "\n",
      "The `ci` parameter is deprecated. Use `errorbar=None` for the same effect.\n",
      "\n",
      "\n"
     ]
    },
    {
     "data": {
      "image/png": "[encoded data removed]",
      "text/plain": [
       "<Figure size 1500x1000 with 1 Axes>"
      ]
     },
     "metadata": {},
     "output_type": "display_data"
    }
   ],
   "source": [
    "print(f\"Let's take a look at average wages across types of employees by company sizes:\")\n",
    "plt.subplots(figsize=(15, 10))\n",
    "p = sns.barplot(data=salaries_df, x='company_size', y='salary_in_usd', hue='employment_type', ci=None)\n",
    "p.set_title('\\nComparison of average wages among different types of employees by company sizes\\n', fontsize=25)\n",
    "p.set_xlabel('\\nCompany size', fontsize=20)\n",
    "p.set_ylabel('Average salary', fontsize=20)\n",
    "plt.legend(title='Work type')\n",
    "plt.show()"
   ]
  },
  {
   "cell_type": "code",
   "execution_count": 46,
   "metadata": {},
   "outputs": [
    {
     "data": {
      "text/html": [
       "<div>\n",
       "<style scoped>\n",
       "    .dataframe tbody tr th:only-of-type {\n",
       "        vertical-align: middle;\n",
       "    }\n",
       "\n",
       "    .dataframe tbody tr th {\n",
       "        vertical-align: top;\n",
       "    }\n",
       "\n",
       "    .dataframe thead th {\n",
       "        text-align: right;\n",
       "    }\n",
       "</style>\n",
       "<table border=\"1\" class=\"dataframe\">\n",
       "  <thead>\n",
       "    <tr style=\"text-align: right;\">\n",
       "      <th></th>\n",
       "      <th>work_year</th>\n",
       "      <th>experience_level</th>\n",
       "      <th>salary_in_usd</th>\n",
       "    </tr>\n",
       "  </thead>\n",
       "  <tbody>\n",
       "    <tr>\n",
       "      <th>0</th>\n",
       "      <td>2020</td>\n",
       "      <td>Entry-level / Junior</td>\n",
       "      <td>63648.600000</td>\n",
       "    </tr>\n",
       "    <tr>\n",
       "      <th>1</th>\n",
       "      <td>2020</td>\n",
       "      <td>Executive-level / Director</td>\n",
       "      <td>202416.500000</td>\n",
       "    </tr>\n",
       "    <tr>\n",
       "      <th>2</th>\n",
       "      <td>2020</td>\n",
       "      <td>Mid-level / Intermediate</td>\n",
       "      <td>85950.062500</td>\n",
       "    </tr>\n",
       "    <tr>\n",
       "      <th>3</th>\n",
       "      <td>2020</td>\n",
       "      <td>Senior-level / Expert</td>\n",
       "      <td>137240.500000</td>\n",
       "    </tr>\n",
       "    <tr>\n",
       "      <th>4</th>\n",
       "      <td>2021</td>\n",
       "      <td>Entry-level / Junior</td>\n",
       "      <td>59101.021277</td>\n",
       "    </tr>\n",
       "    <tr>\n",
       "      <th>5</th>\n",
       "      <td>2021</td>\n",
       "      <td>Executive-level / Director</td>\n",
       "      <td>223752.727273</td>\n",
       "    </tr>\n",
       "    <tr>\n",
       "      <th>6</th>\n",
       "      <td>2021</td>\n",
       "      <td>Mid-level / Intermediate</td>\n",
       "      <td>85490.088889</td>\n",
       "    </tr>\n",
       "    <tr>\n",
       "      <th>7</th>\n",
       "      <td>2021</td>\n",
       "      <td>Senior-level / Expert</td>\n",
       "      <td>126596.188406</td>\n",
       "    </tr>\n",
       "    <tr>\n",
       "      <th>8</th>\n",
       "      <td>2022</td>\n",
       "      <td>Entry-level / Junior</td>\n",
       "      <td>65423.428571</td>\n",
       "    </tr>\n",
       "    <tr>\n",
       "      <th>9</th>\n",
       "      <td>2022</td>\n",
       "      <td>Executive-level / Director</td>\n",
       "      <td>178313.846154</td>\n",
       "    </tr>\n",
       "    <tr>\n",
       "      <th>10</th>\n",
       "      <td>2022</td>\n",
       "      <td>Mid-level / Intermediate</td>\n",
       "      <td>91193.956044</td>\n",
       "    </tr>\n",
       "    <tr>\n",
       "      <th>11</th>\n",
       "      <td>2022</td>\n",
       "      <td>Senior-level / Expert</td>\n",
       "      <td>143043.398964</td>\n",
       "    </tr>\n",
       "  </tbody>\n",
       "</table>\n",
       "</div>"
      ],
      "text/plain": [
       "    work_year            experience_level  salary_in_usd\n",
       "0   2020       Entry-level / Junior        63648.600000 \n",
       "1   2020       Executive-level / Director  202416.500000\n",
       "2   2020       Mid-level / Intermediate    85950.062500 \n",
       "3   2020       Senior-level / Expert       137240.500000\n",
       "4   2021       Entry-level / Junior        59101.021277 \n",
       "5   2021       Executive-level / Director  223752.727273\n",
       "6   2021       Mid-level / Intermediate    85490.088889 \n",
       "7   2021       Senior-level / Expert       126596.188406\n",
       "8   2022       Entry-level / Junior        65423.428571 \n",
       "9   2022       Executive-level / Director  178313.846154\n",
       "10  2022       Mid-level / Intermediate    91193.956044 \n",
       "11  2022       Senior-level / Expert       143043.398964"
      ]
     },
     "execution_count": 46,
     "metadata": {},
     "output_type": "execute_result"
    }
   ],
   "source": [
    "year_salary=salaries_df.groupby([\"work_year\",\"experience_level\"])[\"salary_in_usd\"].mean()\n",
    "year_salary=year_salary.reset_index()\n",
    "year_salary"
   ]
  },
  {
   "cell_type": "code",
   "execution_count": 47,
   "metadata": {},
   "outputs": [
    {
     "data": {
      "application/vnd.plotly.v1+json": {
       "config": {
        "plotlyServerURL": "https://plot.ly"
       },
       "data": [
        {
         "hovertemplate": "experience_level=Entry-level / Junior<br>work_year=%{x}<br>salary_in_usd=%{y}<extra></extra>",
         "legendgroup": "Entry-level / Junior",
         "line": {
          "color": "#636efa",
          "dash": "solid"
         },
         "marker": {
          "symbol": "circle"
         },
         "mode": "lines+markers",
         "name": "Entry-level / Junior",
         "orientation": "v",
         "showlegend": true,
         "type": "scatter",
         "x": [
          2020,
          2021,
          2022
         ],
         "xaxis": "x",
         "y": [
          63648.6,
          59101.02127659575,
          65423.42857142857
         ],
         "yaxis": "y"
        },
        {
         "hovertemplate": "experience_level=Executive-level / Director<br>work_year=%{x}<br>salary_in_usd=%{y}<extra></extra>",
         "legendgroup": "Executive-level / Director",
         "line": {
          "color": "#EF553B",
          "dash": "solid"
         },
         "marker": {
          "symbol": "diamond"
         },
         "mode": "lines+markers",
         "name": "Executive-level / Director",
         "orientation": "v",
         "showlegend": true,
         "type": "scatter",
         "x": [
          2020,
          2021,
          2022
         ],
         "xaxis": "x",
         "y": [
          202416.5,
          223752.72727272726,
          178313.84615384616
         ],
         "yaxis": "y"
        },
        {
         "hovertemplate": "experience_level=Mid-level / Intermediate<br>work_year=%{x}<br>salary_in_usd=%{y}<extra></extra>",
         "legendgroup": "Mid-level / Intermediate",
         "line": {
          "color": "#00cc96",
          "dash": "solid"
         },
         "marker": {
          "symbol": "square"
         },
         "mode": "lines+markers",
         "name": "Mid-level / Intermediate",
         "orientation": "v",
         "showlegend": true,
         "type": "scatter",
         "x": [
          2020,
          2021,
          2022
         ],
         "xaxis": "x",
         "y": [
          85950.0625,
          85490.08888888889,
          91193.95604395604
         ],
         "yaxis": "y"
        },
        {
         "hovertemplate": "experience_level=Senior-level / Expert<br>work_year=%{x}<br>salary_in_usd=%{y}<extra></extra>",
         "legendgroup": "Senior-level / Expert",
         "line": {
          "color": "#ab63fa",
          "dash": "solid"
         },
         "marker": {
          "symbol": "x"
         },
         "mode": "lines+markers",
         "name": "Senior-level / Expert",
         "orientation": "v",
         "showlegend": true,
         "type": "scatter",
         "x": [
          2020,
          2021,
          2022
         ],
         "xaxis": "x",
         "y": [
          137240.5,
          126596.1884057971,
          143043.39896373058
         ],
         "yaxis": "y"
        }
       ],
       "layout": {
        "legend": {
         "title": {
          "text": "experience_level"
         },
         "tracegroupgap": 0
        },
        "template": {
         "data": {
          "bar": [
           {
            "error_x": {
             "color": "#2a3f5f"
            },
            "error_y": {
             "color": "#2a3f5f"
            },
            "marker": {
             "line": {
              "color": "#E5ECF6",
              "width": 0.5
             },
             "pattern": {
              "fillmode": "overlay",
              "size": 10,
              "solidity": 0.2
             }
            },
            "type": "bar"
           }
          ],
          "barpolar": [
           {
            "marker": {
             "line": {
              "color": "#E5ECF6",
              "width": 0.5
             },
             "pattern": {
              "fillmode": "overlay",
              "size": 10,
              "solidity": 0.2
             }
            },
            "type": "barpolar"
           }
          ],
          "carpet": [
           {
            "aaxis": {
             "endlinecolor": "#2a3f5f",
             "gridcolor": "white",
             "linecolor": "white",
             "minorgridcolor": "white",
             "startlinecolor": "#2a3f5f"
            },
            "baxis": {
             "endlinecolor": "#2a3f5f",
             "gridcolor": "white",
             "linecolor": "white",
             "minorgridcolor": "white",
             "startlinecolor": "#2a3f5f"
            },
            "type": "carpet"
           }
          ],
          "choropleth": [
           {
            "colorbar": {
             "outlinewidth": 0,
             "ticks": ""
            },
            "type": "choropleth"
           }
          ],
          "contour": [
           {
            "colorbar": {
             "outlinewidth": 0,
             "ticks": ""
            },
            "colorscale": [
             [
              0,
              "#0d0887"
             ],
             [
              0.1111111111111111,
              "#46039f"
             ],
             [
              0.2222222222222222,
              "#7201a8"
             ],
             [
              0.3333333333333333,
              "#9c179e"
             ],
             [
              0.4444444444444444,
              "#bd3786"
             ],
             [
              0.5555555555555556,
              "#d8576b"
             ],
             [
              0.6666666666666666,
              "#ed7953"
             ],
             [
              0.7777777777777778,
              "#fb9f3a"
             ],
             [
              0.8888888888888888,
              "#fdca26"
             ],
             [
              1,
              "#f0f921"
             ]
            ],
            "type": "contour"
           }
          ],
          "contourcarpet": [
           {
            "colorbar": {
             "outlinewidth": 0,
             "ticks": ""
            },
            "type": "contourcarpet"
           }
          ],
          "heatmap": [
           {
            "colorbar": {
             "outlinewidth": 0,
             "ticks": ""
            },
            "colorscale": [
             [
              0,
              "#0d0887"
             ],
             [
              0.1111111111111111,
              "#46039f"
             ],
             [
              0.2222222222222222,
              "#7201a8"
             ],
             [
              0.3333333333333333,
              "#9c179e"
             ],
             [
              0.4444444444444444,
              "#bd3786"
             ],
             [
              0.5555555555555556,
              "#d8576b"
             ],
             [
              0.6666666666666666,
              "#ed7953"
             ],
             [
              0.7777777777777778,
              "#fb9f3a"
             ],
             [
              0.8888888888888888,
              "#fdca26"
             ],
             [
              1,
              "#f0f921"
             ]
            ],
            "type": "heatmap"
           }
          ],
          "heatmapgl": [
           {
            "colorbar": {
             "outlinewidth": 0,
             "ticks": ""
            },
            "colorscale": [
             [
              0,
              "#0d0887"
             ],
             [
              0.1111111111111111,
              "#46039f"
             ],
             [
              0.2222222222222222,
              "#7201a8"
             ],
             [
              0.3333333333333333,
              "#9c179e"
             ],
             [
              0.4444444444444444,
              "#bd3786"
             ],
             [
              0.5555555555555556,
              "#d8576b"
             ],
             [
              0.6666666666666666,
              "#ed7953"
             ],
             [
              0.7777777777777778,
              "#fb9f3a"
             ],
             [
              0.8888888888888888,
              "#fdca26"
             ],
             [
              1,
              "#f0f921"
             ]
            ],
            "type": "heatmapgl"
           }
          ],
          "histogram": [
           {
            "marker": {
             "pattern": {
              "fillmode": "overlay",
              "size": 10,
              "solidity": 0.2
             }
            },
            "type": "histogram"
           }
          ],
          "histogram2d": [
           {
            "colorbar": {
             "outlinewidth": 0,
             "ticks": ""
            },
            "colorscale": [
             [
              0,
              "#0d0887"
             ],
             [
              0.1111111111111111,
              "#46039f"
             ],
             [
              0.2222222222222222,
              "#7201a8"
             ],
             [
              0.3333333333333333,
              "#9c179e"
             ],
             [
              0.4444444444444444,
              "#bd3786"
             ],
             [
              0.5555555555555556,
              "#d8576b"
             ],
             [
              0.6666666666666666,
              "#ed7953"
             ],
             [
              0.7777777777777778,
              "#fb9f3a"
             ],
             [
              0.8888888888888888,
              "#fdca26"
             ],
             [
              1,
              "#f0f921"
             ]
            ],
            "type": "histogram2d"
           }
          ],
          "histogram2dcontour": [
           {
            "colorbar": {
             "outlinewidth": 0,
             "ticks": ""
            },
            "colorscale": [
             [
              0,
              "#0d0887"
             ],
             [
              0.1111111111111111,
              "#46039f"
             ],
             [
              0.2222222222222222,
              "#7201a8"
             ],
             [
              0.3333333333333333,
              "#9c179e"
             ],
             [
              0.4444444444444444,
              "#bd3786"
             ],
             [
              0.5555555555555556,
              "#d8576b"
             ],
             [
              0.6666666666666666,
              "#ed7953"
             ],
             [
              0.7777777777777778,
              "#fb9f3a"
             ],
             [
              0.8888888888888888,
              "#fdca26"
             ],
             [
              1,
              "#f0f921"
             ]
            ],
            "type": "histogram2dcontour"
           }
          ],
          "mesh3d": [
           {
            "colorbar": {
             "outlinewidth": 0,
             "ticks": ""
            },
            "type": "mesh3d"
           }
          ],
          "parcoords": [
           {
            "line": {
             "colorbar": {
              "outlinewidth": 0,
              "ticks": ""
             }
            },
            "type": "parcoords"
           }
          ],
          "pie": [
           {
            "automargin": true,
            "type": "pie"
           }
          ],
          "scatter": [
           {
            "fillpattern": {
             "fillmode": "overlay",
             "size": 10,
             "solidity": 0.2
            },
            "type": "scatter"
           }
          ],
          "scatter3d": [
           {
            "line": {
             "colorbar": {
              "outlinewidth": 0,
              "ticks": ""
             }
            },
            "marker": {
             "colorbar": {
              "outlinewidth": 0,
              "ticks": ""
             }
            },
            "type": "scatter3d"
           }
          ],
          "scattercarpet": [
           {
            "marker": {
             "colorbar": {
              "outlinewidth": 0,
              "ticks": ""
             }
            },
            "type": "scattercarpet"
           }
          ],
          "scattergeo": [
           {
            "marker": {
             "colorbar": {
              "outlinewidth": 0,
              "ticks": ""
             }
            },
            "type": "scattergeo"
           }
          ],
          "scattergl": [
           {
            "marker": {
             "colorbar": {
              "outlinewidth": 0,
              "ticks": ""
             }
            },
            "type": "scattergl"
           }
          ],
          "scattermapbox": [
           {
            "marker": {
             "colorbar": {
              "outlinewidth": 0,
              "ticks": ""
             }
            },
            "type": "scattermapbox"
           }
          ],
          "scatterpolar": [
           {
            "marker": {
             "colorbar": {
              "outlinewidth": 0,
              "ticks": ""
             }
            },
            "type": "scatterpolar"
           }
          ],
          "scatterpolargl": [
           {
            "marker": {
             "colorbar": {
              "outlinewidth": 0,
              "ticks": ""
             }
            },
            "type": "scatterpolargl"
           }
          ],
          "scatterternary": [
           {
            "marker": {
             "colorbar": {
              "outlinewidth": 0,
              "ticks": ""
             }
            },
            "type": "scatterternary"
           }
          ],
          "surface": [
           {
            "colorbar": {
             "outlinewidth": 0,
             "ticks": ""
            },
            "colorscale": [
             [
              0,
              "#0d0887"
             ],
             [
              0.1111111111111111,
              "#46039f"
             ],
             [
              0.2222222222222222,
              "#7201a8"
             ],
             [
              0.3333333333333333,
              "#9c179e"
             ],
             [
              0.4444444444444444,
              "#bd3786"
             ],
             [
              0.5555555555555556,
              "#d8576b"
             ],
             [
              0.6666666666666666,
              "#ed7953"
             ],
             [
              0.7777777777777778,
              "#fb9f3a"
             ],
             [
              0.8888888888888888,
              "#fdca26"
             ],
             [
              1,
              "#f0f921"
             ]
            ],
            "type": "surface"
           }
          ],
          "table": [
           {
            "cells": {
             "fill": {
              "color": "#EBF0F8"
             },
             "line": {
              "color": "white"
             }
            },
            "header": {
             "fill": {
              "color": "#C8D4E3"
             },
             "line": {
              "color": "white"
             }
            },
            "type": "table"
           }
          ]
         },
         "layout": {
          "annotationdefaults": {
           "arrowcolor": "#2a3f5f",
           "arrowhead": 0,
           "arrowwidth": 1
          },
          "autotypenumbers": "strict",
          "coloraxis": {
           "colorbar": {
            "outlinewidth": 0,
            "ticks": ""
           }
          },
          "colorscale": {
           "diverging": [
            [
             0,
             "#8e0152"
            ],
            [
             0.1,
             "#c51b7d"
            ],
            [
             0.2,
             "#de77ae"
            ],
            [
             0.3,
             "#f1b6da"
            ],
            [
             0.4,
             "#fde0ef"
            ],
            [
             0.5,
             "#f7f7f7"
            ],
            [
             0.6,
             "#e6f5d0"
            ],
            [
             0.7,
             "#b8e186"
            ],
            [
             0.8,
             "#7fbc41"
            ],
            [
             0.9,
             "#4d9221"
            ],
            [
             1,
             "#276419"
            ]
           ],
           "sequential": [
            [
             0,
             "#0d0887"
            ],
            [
             0.1111111111111111,
             "#46039f"
            ],
            [
             0.2222222222222222,
             "#7201a8"
            ],
            [
             0.3333333333333333,
             "#9c179e"
            ],
            [
             0.4444444444444444,
             "#bd3786"
            ],
            [
             0.5555555555555556,
             "#d8576b"
            ],
            [
             0.6666666666666666,
             "#ed7953"
            ],
            [
             0.7777777777777778,
             "#fb9f3a"
            ],
            [
             0.8888888888888888,
             "#fdca26"
            ],
            [
             1,
             "#f0f921"
            ]
           ],
           "sequentialminus": [
            [
             0,
             "#0d0887"
            ],
            [
             0.1111111111111111,
             "#46039f"
            ],
            [
             0.2222222222222222,
             "#7201a8"
            ],
            [
             0.3333333333333333,
             "#9c179e"
            ],
            [
             0.4444444444444444,
             "#bd3786"
            ],
            [
             0.5555555555555556,
             "#d8576b"
            ],
            [
             0.6666666666666666,
             "#ed7953"
            ],
            [
             0.7777777777777778,
             "#fb9f3a"
            ],
            [
             0.8888888888888888,
             "#fdca26"
            ],
            [
             1,
             "#f0f921"
            ]
           ]
          },
          "colorway": [
           "#636efa",
           "#EF553B",
           "#00cc96",
           "#ab63fa",
           "#FFA15A",
           "#19d3f3",
           "#FF6692",
           "#B6E880",
           "#FF97FF",
           "#FECB52"
          ],
          "font": {
           "color": "#2a3f5f"
          },
          "geo": {
           "bgcolor": "white",
           "lakecolor": "white",
           "landcolor": "#E5ECF6",
           "showlakes": true,
           "showland": true,
           "subunitcolor": "white"
          },
          "hoverlabel": {
           "align": "left"
          },
          "hovermode": "closest",
          "mapbox": {
           "style": "light"
          },
          "paper_bgcolor": "white",
          "plot_bgcolor": "#E5ECF6",
          "polar": {
           "angularaxis": {
            "gridcolor": "white",
            "linecolor": "white",
            "ticks": ""
           },
           "bgcolor": "#E5ECF6",
           "radialaxis": {
            "gridcolor": "white",
            "linecolor": "white",
            "ticks": ""
           }
          },
          "scene": {
           "xaxis": {
            "backgroundcolor": "#E5ECF6",
            "gridcolor": "white",
            "gridwidth": 2,
            "linecolor": "white",
            "showbackground": true,
            "ticks": "",
            "zerolinecolor": "white"
           },
           "yaxis": {
            "backgroundcolor": "#E5ECF6",
            "gridcolor": "white",
            "gridwidth": 2,
            "linecolor": "white",
            "showbackground": true,
            "ticks": "",
            "zerolinecolor": "white"
           },
           "zaxis": {
            "backgroundcolor": "#E5ECF6",
            "gridcolor": "white",
            "gridwidth": 2,
            "linecolor": "white",
            "showbackground": true,
            "ticks": "",
            "zerolinecolor": "white"
           }
          },
          "shapedefaults": {
           "line": {
            "color": "#2a3f5f"
           }
          },
          "ternary": {
           "aaxis": {
            "gridcolor": "white",
            "linecolor": "white",
            "ticks": ""
           },
           "baxis": {
            "gridcolor": "white",
            "linecolor": "white",
            "ticks": ""
           },
           "bgcolor": "#E5ECF6",
           "caxis": {
            "gridcolor": "white",
            "linecolor": "white",
            "ticks": ""
           }
          },
          "title": {
           "x": 0.05
          },
          "xaxis": {
           "automargin": true,
           "gridcolor": "white",
           "linecolor": "white",
           "ticks": "",
           "title": {
            "standoff": 15
           },
           "zerolinecolor": "white",
           "zerolinewidth": 2
          },
          "yaxis": {
           "automargin": true,
           "gridcolor": "white",
           "linecolor": "white",
           "ticks": "",
           "title": {
            "standoff": 15
           },
           "zerolinecolor": "white",
           "zerolinewidth": 2
          }
         }
        },
        "title": {
         "text": "Average salary of experience levels by year"
        },
        "xaxis": {
         "anchor": "y",
         "domain": [
          0,
          1
         ],
         "tickmode": "array",
         "tickvals": [
          2020,
          2021,
          2022
         ],
         "title": {
          "text": "Years"
         }
        },
        "yaxis": {
         "anchor": "x",
         "domain": [
          0,
          1
         ],
         "title": {
          "text": "Salary $"
         }
        }
       }
      }
     },
     "metadata": {},
     "output_type": "display_data"
    }
   ],
   "source": [
    "fig=px.line(year_salary,x=\"work_year\",y=\"salary_in_usd\",color=\"experience_level\",\n",
    "            symbol=\"experience_level\", title='Average salary of experience levels by year')\n",
    "fig.update_layout(yaxis_title=\"Salary $\",xaxis_title=\"Years\",xaxis=dict(tickmode='array',tickvals=[2020, 2021, 2022]))"
   ]
  },
  {
   "cell_type": "code",
   "execution_count": 48,
   "metadata": {},
   "outputs": [
    {
     "data": {
      "text/html": [
       "<div>\n",
       "<style scoped>\n",
       "    .dataframe tbody tr th:only-of-type {\n",
       "        vertical-align: middle;\n",
       "    }\n",
       "\n",
       "    .dataframe tbody tr th {\n",
       "        vertical-align: top;\n",
       "    }\n",
       "\n",
       "    .dataframe thead th {\n",
       "        text-align: right;\n",
       "    }\n",
       "</style>\n",
       "<table border=\"1\" class=\"dataframe\">\n",
       "  <thead>\n",
       "    <tr style=\"text-align: right;\">\n",
       "      <th></th>\n",
       "      <th>job_title</th>\n",
       "      <th>salary_in_usd</th>\n",
       "    </tr>\n",
       "  </thead>\n",
       "  <tbody>\n",
       "    <tr>\n",
       "      <th>3</th>\n",
       "      <td>Data Architect</td>\n",
       "      <td>171359.666667</td>\n",
       "    </tr>\n",
       "    <tr>\n",
       "      <th>7</th>\n",
       "      <td>Machine Learning Scientist</td>\n",
       "      <td>145122.714286</td>\n",
       "    </tr>\n",
       "    <tr>\n",
       "      <th>5</th>\n",
       "      <td>Data Scientist</td>\n",
       "      <td>122261.570681</td>\n",
       "    </tr>\n",
       "    <tr>\n",
       "      <th>4</th>\n",
       "      <td>Data Engineer</td>\n",
       "      <td>115047.868750</td>\n",
       "    </tr>\n",
       "    <tr>\n",
       "      <th>9</th>\n",
       "      <td>Research Scientist</td>\n",
       "      <td>109019.500000</td>\n",
       "    </tr>\n",
       "    <tr>\n",
       "      <th>6</th>\n",
       "      <td>Machine Learning Engineer</td>\n",
       "      <td>104704.796296</td>\n",
       "    </tr>\n",
       "    <tr>\n",
       "      <th>2</th>\n",
       "      <td>Data Analyst</td>\n",
       "      <td>97400.894366</td>\n",
       "    </tr>\n",
       "    <tr>\n",
       "      <th>0</th>\n",
       "      <td>AI Scientist</td>\n",
       "      <td>66135.571429</td>\n",
       "    </tr>\n",
       "    <tr>\n",
       "      <th>1</th>\n",
       "      <td>Computer Vision Engineer</td>\n",
       "      <td>58767.100000</td>\n",
       "    </tr>\n",
       "    <tr>\n",
       "      <th>8</th>\n",
       "      <td>NLP Engineer</td>\n",
       "      <td>37236.000000</td>\n",
       "    </tr>\n",
       "  </tbody>\n",
       "</table>\n",
       "</div>"
      ],
      "text/plain": [
       "                    job_title  salary_in_usd\n",
       "3  Data Architect              171359.666667\n",
       "7  Machine Learning Scientist  145122.714286\n",
       "5  Data Scientist              122261.570681\n",
       "4  Data Engineer               115047.868750\n",
       "9  Research Scientist          109019.500000\n",
       "6  Machine Learning Engineer   104704.796296\n",
       "2  Data Analyst                97400.894366 \n",
       "0  AI Scientist                66135.571429 \n",
       "1  Computer Vision Engineer    58767.100000 \n",
       "8  NLP Engineer                37236.000000 "
      ]
     },
     "execution_count": 48,
     "metadata": {},
     "output_type": "execute_result"
    }
   ],
   "source": [
    "role_salary = salaries_df.groupby('job_title',as_index=False)['salary_in_usd'].mean()\n",
    "role_salary = role_salary.sort_values(by='salary_in_usd',ascending=False)\n",
    "role_salary"
   ]
  },
  {
   "cell_type": "code",
   "execution_count": 50,
   "metadata": {},
   "outputs": [
    {
     "data": {
      "application/vnd.plotly.v1+json": {
       "config": {
        "plotlyServerURL": "https://plot.ly"
       },
       "data": [
        {
         "alignmentgroup": "True",
         "hovertemplate": "Job Title=%{x}<br>Salary $=%{y}<extra></extra>",
         "legendgroup": "Data Architect",
         "marker": {
          "color": "#636efa",
          "pattern": {
           "shape": ""
          }
         },
         "name": "Data Architect",
         "offsetgroup": "Data Architect",
         "orientation": "v",
         "showlegend": true,
         "textposition": "auto",
         "type": "bar",
         "x": [
          "Data Architect"
         ],
         "xaxis": "x",
         "y": [
          171359.66666666666
         ],
         "yaxis": "y"
        },
        {
         "alignmentgroup": "True",
         "hovertemplate": "Job Title=%{x}<br>Salary $=%{y}<extra></extra>",
         "legendgroup": "Machine Learning Scientist",
         "marker": {
          "color": "#EF553B",
          "pattern": {
           "shape": ""
          }
         },
         "name": "Machine Learning Scientist",
         "offsetgroup": "Machine Learning Scientist",
         "orientation": "v",
         "showlegend": true,
         "textposition": "auto",
         "type": "bar",
         "x": [
          "Machine Learning Scientist"
         ],
         "xaxis": "x",
         "y": [
          145122.7142857143
         ],
         "yaxis": "y"
        },
        {
         "alignmentgroup": "True",
         "hovertemplate": "Job Title=%{x}<br>Salary $=%{y}<extra></extra>",
         "legendgroup": "Data Scientist",
         "marker": {
          "color": "#00cc96",
          "pattern": {
           "shape": ""
          }
         },
         "name": "Data Scientist",
         "offsetgroup": "Data Scientist",
         "orientation": "v",
         "showlegend": true,
         "textposition": "auto",
         "type": "bar",
         "x": [
          "Data Scientist"
         ],
         "xaxis": "x",
         "y": [
          122261.57068062827
         ],
         "yaxis": "y"
        },
        {
         "alignmentgroup": "True",
         "hovertemplate": "Job Title=%{x}<br>Salary $=%{y}<extra></extra>",
         "legendgroup": "Data Engineer",
         "marker": {
          "color": "#ab63fa",
          "pattern": {
           "shape": ""
          }
         },
         "name": "Data Engineer",
         "offsetgroup": "Data Engineer",
         "orientation": "v",
         "showlegend": true,
         "textposition": "auto",
         "type": "bar",
         "x": [
          "Data Engineer"
         ],
         "xaxis": "x",
         "y": [
          115047.86875
         ],
         "yaxis": "y"
        },
        {
         "alignmentgroup": "True",
         "hovertemplate": "Job Title=%{x}<br>Salary $=%{y}<extra></extra>",
         "legendgroup": "Research Scientist",
         "marker": {
          "color": "#FFA15A",
          "pattern": {
           "shape": ""
          }
         },
         "name": "Research Scientist",
         "offsetgroup": "Research Scientist",
         "orientation": "v",
         "showlegend": true,
         "textposition": "auto",
         "type": "bar",
         "x": [
          "Research Scientist"
         ],
         "xaxis": "x",
         "y": [
          109019.5
         ],
         "yaxis": "y"
        },
        {
         "alignmentgroup": "True",
         "hovertemplate": "Job Title=%{x}<br>Salary $=%{y}<extra></extra>",
         "legendgroup": "Machine Learning Engineer",
         "marker": {
          "color": "#19d3f3",
          "pattern": {
           "shape": ""
          }
         },
         "name": "Machine Learning Engineer",
         "offsetgroup": "Machine Learning Engineer",
         "orientation": "v",
         "showlegend": true,
         "textposition": "auto",
         "type": "bar",
         "x": [
          "Machine Learning Engineer"
         ],
         "xaxis": "x",
         "y": [
          104704.79629629629
         ],
         "yaxis": "y"
        },
        {
         "alignmentgroup": "True",
         "hovertemplate": "Job Title=%{x}<br>Salary $=%{y}<extra></extra>",
         "legendgroup": "Data Analyst",
         "marker": {
          "color": "#FF6692",
          "pattern": {
           "shape": ""
          }
         },
         "name": "Data Analyst",
         "offsetgroup": "Data Analyst",
         "orientation": "v",
         "showlegend": true,
         "textposition": "auto",
         "type": "bar",
         "x": [
          "Data Analyst"
         ],
         "xaxis": "x",
         "y": [
          97400.89436619719
         ],
         "yaxis": "y"
        },
        {
         "alignmentgroup": "True",
         "hovertemplate": "Job Title=%{x}<br>Salary $=%{y}<extra></extra>",
         "legendgroup": "AI Scientist",
         "marker": {
          "color": "#B6E880",
          "pattern": {
           "shape": ""
          }
         },
         "name": "AI Scientist",
         "offsetgroup": "AI Scientist",
         "orientation": "v",
         "showlegend": true,
         "textposition": "auto",
         "type": "bar",
         "x": [
          "AI Scientist"
         ],
         "xaxis": "x",
         "y": [
          66135.57142857143
         ],
         "yaxis": "y"
        },
        {
         "alignmentgroup": "True",
         "hovertemplate": "Job Title=%{x}<br>Salary $=%{y}<extra></extra>",
         "legendgroup": "Computer Vision Engineer",
         "marker": {
          "color": "#FF97FF",
          "pattern": {
           "shape": ""
          }
         },
         "name": "Computer Vision Engineer",
         "offsetgroup": "Computer Vision Engineer",
         "orientation": "v",
         "showlegend": true,
         "textposition": "auto",
         "type": "bar",
         "x": [
          "Computer Vision Engineer"
         ],
         "xaxis": "x",
         "y": [
          58767.1
         ],
         "yaxis": "y"
        },
        {
         "alignmentgroup": "True",
         "hovertemplate": "Job Title=%{x}<br>Salary $=%{y}<extra></extra>",
         "legendgroup": "NLP Engineer",
         "marker": {
          "color": "#FECB52",
          "pattern": {
           "shape": ""
          }
         },
         "name": "NLP Engineer",
         "offsetgroup": "NLP Engineer",
         "orientation": "v",
         "showlegend": true,
         "textposition": "auto",
         "type": "bar",
         "x": [
          "NLP Engineer"
         ],
         "xaxis": "x",
         "y": [
          37236
         ],
         "yaxis": "y"
        }
       ],
       "layout": {
        "barmode": "relative",
        "legend": {
         "title": {
          "text": "Job Title"
         },
         "tracegroupgap": 0
        },
        "template": {
         "data": {
          "bar": [
           {
            "error_x": {
             "color": "#2a3f5f"
            },
            "error_y": {
             "color": "#2a3f5f"
            },
            "marker": {
             "line": {
              "color": "#E5ECF6",
              "width": 0.5
             },
             "pattern": {
              "fillmode": "overlay",
              "size": 10,
              "solidity": 0.2
             }
            },
            "type": "bar"
           }
          ],
          "barpolar": [
           {
            "marker": {
             "line": {
              "color": "#E5ECF6",
              "width": 0.5
             },
             "pattern": {
              "fillmode": "overlay",
              "size": 10,
              "solidity": 0.2
             }
            },
            "type": "barpolar"
           }
          ],
          "carpet": [
           {
            "aaxis": {
             "endlinecolor": "#2a3f5f",
             "gridcolor": "white",
             "linecolor": "white",
             "minorgridcolor": "white",
             "startlinecolor": "#2a3f5f"
            },
            "baxis": {
             "endlinecolor": "#2a3f5f",
             "gridcolor": "white",
             "linecolor": "white",
             "minorgridcolor": "white",
             "startlinecolor": "#2a3f5f"
            },
            "type": "carpet"
           }
          ],
          "choropleth": [
           {
            "colorbar": {
             "outlinewidth": 0,
             "ticks": ""
            },
            "type": "choropleth"
           }
          ],
          "contour": [
           {
            "colorbar": {
             "outlinewidth": 0,
             "ticks": ""
            },
            "colorscale": [
             [
              0,
              "#0d0887"
             ],
             [
              0.1111111111111111,
              "#46039f"
             ],
             [
              0.2222222222222222,
              "#7201a8"
             ],
             [
              0.3333333333333333,
              "#9c179e"
             ],
             [
              0.4444444444444444,
              "#bd3786"
             ],
             [
              0.5555555555555556,
              "#d8576b"
             ],
             [
              0.6666666666666666,
              "#ed7953"
             ],
             [
              0.7777777777777778,
              "#fb9f3a"
             ],
             [
              0.8888888888888888,
              "#fdca26"
             ],
             [
              1,
              "#f0f921"
             ]
            ],
            "type": "contour"
           }
          ],
          "contourcarpet": [
           {
            "colorbar": {
             "outlinewidth": 0,
             "ticks": ""
            },
            "type": "contourcarpet"
           }
          ],
          "heatmap": [
           {
            "colorbar": {
             "outlinewidth": 0,
             "ticks": ""
            },
            "colorscale": [
             [
              0,
              "#0d0887"
             ],
             [
              0.1111111111111111,
              "#46039f"
             ],
             [
              0.2222222222222222,
              "#7201a8"
             ],
             [
              0.3333333333333333,
              "#9c179e"
             ],
             [
              0.4444444444444444,
              "#bd3786"
             ],
             [
              0.5555555555555556,
              "#d8576b"
             ],
             [
              0.6666666666666666,
              "#ed7953"
             ],
             [
              0.7777777777777778,
              "#fb9f3a"
             ],
             [
              0.8888888888888888,
              "#fdca26"
             ],
             [
              1,
              "#f0f921"
             ]
            ],
            "type": "heatmap"
           }
          ],
          "heatmapgl": [
           {
            "colorbar": {
             "outlinewidth": 0,
             "ticks": ""
            },
            "colorscale": [
             [
              0,
              "#0d0887"
             ],
             [
              0.1111111111111111,
              "#46039f"
             ],
             [
              0.2222222222222222,
              "#7201a8"
             ],
             [
              0.3333333333333333,
              "#9c179e"
             ],
             [
              0.4444444444444444,
              "#bd3786"
             ],
             [
              0.5555555555555556,
              "#d8576b"
             ],
             [
              0.6666666666666666,
              "#ed7953"
             ],
             [
              0.7777777777777778,
              "#fb9f3a"
             ],
             [
              0.8888888888888888,
              "#fdca26"
             ],
             [
              1,
              "#f0f921"
             ]
            ],
            "type": "heatmapgl"
           }
          ],
          "histogram": [
           {
            "marker": {
             "pattern": {
              "fillmode": "overlay",
              "size": 10,
              "solidity": 0.2
             }
            },
            "type": "histogram"
           }
          ],
          "histogram2d": [
           {
            "colorbar": {
             "outlinewidth": 0,
             "ticks": ""
            },
            "colorscale": [
             [
              0,
              "#0d0887"
             ],
             [
              0.1111111111111111,
              "#46039f"
             ],
             [
              0.2222222222222222,
              "#7201a8"
             ],
             [
              0.3333333333333333,
              "#9c179e"
             ],
             [
              0.4444444444444444,
              "#bd3786"
             ],
             [
              0.5555555555555556,
              "#d8576b"
             ],
             [
              0.6666666666666666,
              "#ed7953"
             ],
             [
              0.7777777777777778,
              "#fb9f3a"
             ],
             [
              0.8888888888888888,
              "#fdca26"
             ],
             [
              1,
              "#f0f921"
             ]
            ],
            "type": "histogram2d"
           }
          ],
          "histogram2dcontour": [
           {
            "colorbar": {
             "outlinewidth": 0,
             "ticks": ""
            },
            "colorscale": [
             [
              0,
              "#0d0887"
             ],
             [
              0.1111111111111111,
              "#46039f"
             ],
             [
              0.2222222222222222,
              "#7201a8"
             ],
             [
              0.3333333333333333,
              "#9c179e"
             ],
             [
              0.4444444444444444,
              "#bd3786"
             ],
             [
              0.5555555555555556,
              "#d8576b"
             ],
             [
              0.6666666666666666,
              "#ed7953"
             ],
             [
              0.7777777777777778,
              "#fb9f3a"
             ],
             [
              0.8888888888888888,
              "#fdca26"
             ],
             [
              1,
              "#f0f921"
             ]
            ],
            "type": "histogram2dcontour"
           }
          ],
          "mesh3d": [
           {
            "colorbar": {
             "outlinewidth": 0,
             "ticks": ""
            },
            "type": "mesh3d"
           }
          ],
          "parcoords": [
           {
            "line": {
             "colorbar": {
              "outlinewidth": 0,
              "ticks": ""
             }
            },
            "type": "parcoords"
           }
          ],
          "pie": [
           {
            "automargin": true,
            "type": "pie"
           }
          ],
          "scatter": [
           {
            "fillpattern": {
             "fillmode": "overlay",
             "size": 10,
             "solidity": 0.2
            },
            "type": "scatter"
           }
          ],
          "scatter3d": [
           {
            "line": {
             "colorbar": {
              "outlinewidth": 0,
              "ticks": ""
             }
            },
            "marker": {
             "colorbar": {
              "outlinewidth": 0,
              "ticks": ""
             }
            },
            "type": "scatter3d"
           }
          ],
          "scattercarpet": [
           {
            "marker": {
             "colorbar": {
              "outlinewidth": 0,
              "ticks": ""
             }
            },
            "type": "scattercarpet"
           }
          ],
          "scattergeo": [
           {
            "marker": {
             "colorbar": {
              "outlinewidth": 0,
              "ticks": ""
             }
            },
            "type": "scattergeo"
           }
          ],
          "scattergl": [
           {
            "marker": {
             "colorbar": {
              "outlinewidth": 0,
              "ticks": ""
             }
            },
            "type": "scattergl"
           }
          ],
          "scattermapbox": [
           {
            "marker": {
             "colorbar": {
              "outlinewidth": 0,
              "ticks": ""
             }
            },
            "type": "scattermapbox"
           }
          ],
          "scatterpolar": [
           {
            "marker": {
             "colorbar": {
              "outlinewidth": 0,
              "ticks": ""
             }
            },
            "type": "scatterpolar"
           }
          ],
          "scatterpolargl": [
           {
            "marker": {
             "colorbar": {
              "outlinewidth": 0,
              "ticks": ""
             }
            },
            "type": "scatterpolargl"
           }
          ],
          "scatterternary": [
           {
            "marker": {
             "colorbar": {
              "outlinewidth": 0,
              "ticks": ""
             }
            },
            "type": "scatterternary"
           }
          ],
          "surface": [
           {
            "colorbar": {
             "outlinewidth": 0,
             "ticks": ""
            },
            "colorscale": [
             [
              0,
              "#0d0887"
             ],
             [
              0.1111111111111111,
              "#46039f"
             ],
             [
              0.2222222222222222,
              "#7201a8"
             ],
             [
              0.3333333333333333,
              "#9c179e"
             ],
             [
              0.4444444444444444,
              "#bd3786"
             ],
             [
              0.5555555555555556,
              "#d8576b"
             ],
             [
              0.6666666666666666,
              "#ed7953"
             ],
             [
              0.7777777777777778,
              "#fb9f3a"
             ],
             [
              0.8888888888888888,
              "#fdca26"
             ],
             [
              1,
              "#f0f921"
             ]
            ],
            "type": "surface"
           }
          ],
          "table": [
           {
            "cells": {
             "fill": {
              "color": "#EBF0F8"
             },
             "line": {
              "color": "white"
             }
            },
            "header": {
             "fill": {
              "color": "#C8D4E3"
             },
             "line": {
              "color": "white"
             }
            },
            "type": "table"
           }
          ]
         },
         "layout": {
          "annotationdefaults": {
           "arrowcolor": "#2a3f5f",
           "arrowhead": 0,
           "arrowwidth": 1
          },
          "autotypenumbers": "strict",
          "coloraxis": {
           "colorbar": {
            "outlinewidth": 0,
            "ticks": ""
           }
          },
          "colorscale": {
           "diverging": [
            [
             0,
             "#8e0152"
            ],
            [
             0.1,
             "#c51b7d"
            ],
            [
             0.2,
             "#de77ae"
            ],
            [
             0.3,
             "#f1b6da"
            ],
            [
             0.4,
             "#fde0ef"
            ],
            [
             0.5,
             "#f7f7f7"
            ],
            [
             0.6,
             "#e6f5d0"
            ],
            [
             0.7,
             "#b8e186"
            ],
            [
             0.8,
             "#7fbc41"
            ],
            [
             0.9,
             "#4d9221"
            ],
            [
             1,
             "#276419"
            ]
           ],
           "sequential": [
            [
             0,
             "#0d0887"
            ],
            [
             0.1111111111111111,
             "#46039f"
            ],
            [
             0.2222222222222222,
             "#7201a8"
            ],
            [
             0.3333333333333333,
             "#9c179e"
            ],
            [
             0.4444444444444444,
             "#bd3786"
            ],
            [
             0.5555555555555556,
             "#d8576b"
            ],
            [
             0.6666666666666666,
             "#ed7953"
            ],
            [
             0.7777777777777778,
             "#fb9f3a"
            ],
            [
             0.8888888888888888,
             "#fdca26"
            ],
            [
             1,
             "#f0f921"
            ]
           ],
           "sequentialminus": [
            [
             0,
             "#0d0887"
            ],
            [
             0.1111111111111111,
             "#46039f"
            ],
            [
             0.2222222222222222,
             "#7201a8"
            ],
            [
             0.3333333333333333,
             "#9c179e"
            ],
            [
             0.4444444444444444,
             "#bd3786"
            ],
            [
             0.5555555555555556,
             "#d8576b"
            ],
            [
             0.6666666666666666,
             "#ed7953"
            ],
            [
             0.7777777777777778,
             "#fb9f3a"
            ],
            [
             0.8888888888888888,
             "#fdca26"
            ],
            [
             1,
             "#f0f921"
            ]
           ]
          },
          "colorway": [
           "#636efa",
           "#EF553B",
           "#00cc96",
           "#ab63fa",
           "#FFA15A",
           "#19d3f3",
           "#FF6692",
           "#B6E880",
           "#FF97FF",
           "#FECB52"
          ],
          "font": {
           "color": "#2a3f5f"
          },
          "geo": {
           "bgcolor": "white",
           "lakecolor": "white",
           "landcolor": "#E5ECF6",
           "showlakes": true,
           "showland": true,
           "subunitcolor": "white"
          },
          "hoverlabel": {
           "align": "left"
          },
          "hovermode": "closest",
          "mapbox": {
           "style": "light"
          },
          "paper_bgcolor": "white",
          "plot_bgcolor": "#E5ECF6",
          "polar": {
           "angularaxis": {
            "gridcolor": "white",
            "linecolor": "white",
            "ticks": ""
           },
           "bgcolor": "#E5ECF6",
           "radialaxis": {
            "gridcolor": "white",
            "linecolor": "white",
            "ticks": ""
           }
          },
          "scene": {
           "xaxis": {
            "backgroundcolor": "#E5ECF6",
            "gridcolor": "white",
            "gridwidth": 2,
            "linecolor": "white",
            "showbackground": true,
            "ticks": "",
            "zerolinecolor": "white"
           },
           "yaxis": {
            "backgroundcolor": "#E5ECF6",
            "gridcolor": "white",
            "gridwidth": 2,
            "linecolor": "white",
            "showbackground": true,
            "ticks": "",
            "zerolinecolor": "white"
           },
           "zaxis": {
            "backgroundcolor": "#E5ECF6",
            "gridcolor": "white",
            "gridwidth": 2,
            "linecolor": "white",
            "showbackground": true,
            "ticks": "",
            "zerolinecolor": "white"
           }
          },
          "shapedefaults": {
           "line": {
            "color": "#2a3f5f"
           }
          },
          "ternary": {
           "aaxis": {
            "gridcolor": "white",
            "linecolor": "white",
            "ticks": ""
           },
           "baxis": {
            "gridcolor": "white",
            "linecolor": "white",
            "ticks": ""
           },
           "bgcolor": "#E5ECF6",
           "caxis": {
            "gridcolor": "white",
            "linecolor": "white",
            "ticks": ""
           }
          },
          "title": {
           "x": 0.05
          },
          "xaxis": {
           "automargin": true,
           "gridcolor": "white",
           "linecolor": "white",
           "ticks": "",
           "title": {
            "standoff": 15
           },
           "zerolinecolor": "white",
           "zerolinewidth": 2
          },
          "yaxis": {
           "automargin": true,
           "gridcolor": "white",
           "linecolor": "white",
           "ticks": "",
           "title": {
            "standoff": 15
           },
           "zerolinecolor": "white",
           "zerolinewidth": 2
          }
         }
        },
        "title": {
         "text": "Top 10 Highest Paying Roles in Data Science"
        },
        "xaxis": {
         "anchor": "y",
         "categoryarray": [
          "Data Architect",
          "Machine Learning Scientist",
          "Data Scientist",
          "Data Engineer",
          "Research Scientist",
          "Machine Learning Engineer",
          "Data Analyst",
          "AI Scientist",
          "Computer Vision Engineer",
          "NLP Engineer"
         ],
         "categoryorder": "array",
         "domain": [
          0,
          1
         ],
         "title": {
          "text": "Job Title"
         }
        },
        "yaxis": {
         "anchor": "x",
         "domain": [
          0,
          1
         ],
         "title": {
          "text": "Salary $"
         }
        }
       }
      }
     },
     "metadata": {},
     "output_type": "display_data"
    }
   ],
   "source": [
    "fig=px.bar(role_salary, x='job_title',y='salary_in_usd',color='job_title',\n",
    "    labels={'job_title':'Job Title','salary_in_usd':'Salary $'},\n",
    "    title='Top 10 Highest Paying Roles in Data Science')\n",
    "fig.show()"
   ]
  },
  {
   "cell_type": "code",
   "execution_count": null,
   "metadata": {},
   "outputs": [],
   "source": []
  }
 ],
 "metadata": {
  "kernelspec": {
   "display_name": "Python 3",
   "language": "python",
   "name": "python3"
  },
  "language_info": {
   "codemirror_mode": {
    "name": "ipython",
    "version": 3
   },
   "file_extension": ".py",
   "mimetype": "text/x-python",
   "name": "python",
   "nbconvert_exporter": "python",
   "pygments_lexer": "ipython3",
   "version": "3.11.2"
  },
  "orig_nbformat": 4,
  "vscode": {
   "interpreter": {
    "hash": "f10fab1c311ad840f8c63caf822f75f776f71fad30479ab44e4c67ec96578fe6"
   }
  }
 },
 "nbformat": 4,
 "nbformat_minor": 2
}
