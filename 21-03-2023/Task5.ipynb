{
 "cells": [
  {
   "cell_type": "code",
   "execution_count": null,
   "metadata": {},
   "outputs": [],
   "source": [
    "import cv2\n",
    "import os\n",
    "import zipfile\n",
    "import numpy as np\n",
    "\n",
    "# Define the file paths\n",
    "zip_file_path = 'shoe_boot_sanda_2.zip'\n",
    "extract_folder_path = 'folder'\n",
    "\n",
    "# Extract the images from the zip file\n",
    "with zipfile.ZipFile(zip_file_path, 'r') as zip_ref:\n",
    "    zip_ref.extractall(extract_folder_path)\n",
    "\n",
    "# Create subdirectories for each shoe type\n",
    "for shoe_type in ['boots', 'shoes', 'sandals']:\n",
    "    os.makedirs(os.path.join(extract_folder_path, shoe_type), exist_ok=True)\n",
    "\n",
    "# Define the classifier to identify the type of shoe\n",
    "classifier = cv2.CascadeClassifier('haar_cascade.xml')\n",
    "\n",
    "# Iterate through each image and move it to the corresponding subdirectory\n",
    "for filename in os.listdir(extract_folder_path):\n",
    "    file_path = os.path.join(extract_folder_path, filename)\n",
    "    if os.path.isfile(file_path):\n",
    "        img = cv2.imread(file_path)\n",
    "        gray = cv2.cvtColor(img, cv2.COLOR_BGR2GRAY)\n",
    "        shoes = classifier.detectMultiScale(gray, scaleFactor=1.1, minNeighbors=5, minSize=(30, 30))\n",
    "        if len(shoes) > 0:\n",
    "            for (x, y, w, h) in shoes:\n",
    "                shoe_img = img[y:y+h, x:x+w]\n",
    "                if w > h:\n",
    "                    # Boot\n",
    "                    cv2.imwrite(os.path.join('folder/boots', 'boots', filename), shoe_img)\n",
    "                else:\n",
    "                    # Sandal or Shoe\n",
    "                    hsv = cv2.cvtColor(shoe_img, cv2.COLOR_BGR2HSV)\n",
    "                    lower_red = np.array([0, 70, 50])\n",
    "                    upper_red = np.array([10, 255, 255])\n",
    "                    mask = cv2.inRange(hsv, lower_red, upper_red)\n",
    "                    red_pixels = cv2.countNonZero(mask)\n",
    "                    if red_pixels > 100:\n",
    "                        # Sandal\n",
    "                        cv2.imwrite(os.path.join(extract_folder_path, 'sandals', filename), shoe_img)\n",
    "                    else:\n",
    "                        # Shoe\n",
    "                        cv2.imwrite(os.path.join(extract_folder_path, 'shoes', filename), shoe_img)"
   ]
  }
 ],
 "metadata": {
  "language_info": {
   "name": "python"
  },
  "orig_nbformat": 4
 },
 "nbformat": 4,
 "nbformat_minor": 2
}
