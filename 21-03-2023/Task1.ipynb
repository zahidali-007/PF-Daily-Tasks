{
 "cells": [
  {
   "cell_type": "code",
   "execution_count": 1,
   "metadata": {},
   "outputs": [],
   "source": [
    "import os\n",
    "import xml.etree.ElementTree as ET\n",
    "\n",
    "def vgg_to_yolo(vgg_path, yolo_path):\n",
    "    # open VGG annotation file\n",
    "    with open(vgg_path, 'r') as f:\n",
    "        data = f.read()\n",
    "\n",
    "    # parse XML\n",
    "    root = ET.fromstring(data)\n",
    "\n",
    "    # get image dimensions\n",
    "    width = int(root.find('size/width').text)\n",
    "    height = int(root.find('size/height').text)\n",
    "\n",
    "    # open YOLO file\n",
    "    with open(yolo_path, 'w') as f:\n",
    "        # loop through objects in VGG annotation file\n",
    "        for obj in root.findall('object'):\n",
    "            # get object label\n",
    "            label = obj.find('name').text\n",
    "\n",
    "            # get bounding box coordinates\n",
    "            xmin = int(obj.find('bndbox/xmin').text)\n",
    "            ymin = int(obj.find('bndbox/ymin').text)\n",
    "            xmax = int(obj.find('bndbox/xmax').text)\n",
    "            ymax = int(obj.find('bndbox/ymax').text)\n",
    "\n",
    "            # convert bounding box coordinates to YOLO format\n",
    "            x_center = (xmin + xmax) / 2 / width\n",
    "            y_center = (ymin + ymax) / 2 / height\n",
    "            box_width = (xmax - xmin) / width\n",
    "            box_height = (ymax - ymin) / height\n",
    "\n",
    "            # write object label and normalized bounding box coordinates to YOLO file\n",
    "            f.write(f\"{label} {x_center:.6f} {y_center:.6f} {box_width:.6f} {box_height:.6f}\\n\")\n"
   ]
  },
  {
   "cell_type": "code",
   "execution_count": null,
   "metadata": {},
   "outputs": [],
   "source": [
    "vgg_path = 'cat_dog/cat_dog_annotations.json'\n",
    "yolo_path = 'yolo_annotation.txt'\n",
    "vgg_to_yolo(vgg_path, yolo_path)\n"
   ]
  },
  {
   "cell_type": "code",
   "execution_count": null,
   "metadata": {},
   "outputs": [],
   "source": []
  }
 ],
 "metadata": {
  "kernelspec": {
   "display_name": "Python 3",
   "language": "python",
   "name": "python3"
  },
  "language_info": {
   "codemirror_mode": {
    "name": "ipython",
    "version": 3
   },
   "file_extension": ".py",
   "mimetype": "text/x-python",
   "name": "python",
   "nbconvert_exporter": "python",
   "pygments_lexer": "ipython3",
   "version": "3.10.6"
  },
  "orig_nbformat": 4
 },
 "nbformat": 4,
 "nbformat_minor": 2
}
