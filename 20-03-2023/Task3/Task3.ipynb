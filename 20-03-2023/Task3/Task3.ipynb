{
 "cells": [
  {
   "attachments": {},
   "cell_type": "markdown",
   "metadata": {},
   "source": [
    "### Import Libraries and load data"
   ]
  },
  {
   "cell_type": "code",
   "execution_count": 4,
   "metadata": {},
   "outputs": [],
   "source": [
    "import cv2\n",
    "import numpy as np\n",
    "import os\n",
    "\n",
    "# Define the directory where the original images are stored\n",
    "input_dir = 'cat_dog'\n",
    "\n",
    "# Define the directory where the augmented images will be saved\n",
    "output_dir = 'augmented_images'\n",
    "\n",
    "# Create the output directory if it doesn't exist\n",
    "if not os.path.exists(output_dir):\n",
    "    os.mkdir(output_dir)\n",
    "\n"
   ]
  },
  {
   "attachments": {},
   "cell_type": "markdown",
   "metadata": {},
   "source": [
    "### Augment images for rotation\n"
   ]
  },
  {
   "cell_type": "code",
   "execution_count": 5,
   "metadata": {},
   "outputs": [
    {
     "name": "stdout",
     "output_type": "stream",
     "text": [
      "504 Rotional Images are genrated\n"
     ]
    }
   ],
   "source": [
    "# Augment images for rotation\n",
    "for filename in os.listdir(input_dir):\n",
    "    if filename.endswith('.jpeg'):\n",
    "        img = cv2.imread(os.path.join(input_dir, filename))\n",
    "        for angle in range(0, 360, 5):\n",
    "            M = cv2.getRotationMatrix2D((img.shape[1] / 2, img.shape[0] / 2), angle, 1)\n",
    "            rotated_img = cv2.warpAffine(img, M, (img.shape[1], img.shape[0]))\n",
    "            output_filename = os.path.splitext(filename)[0] + '_' + str(angle) + 'degree.jpeg'\n",
    "            cv2.imwrite(os.path.join(output_dir, output_filename), rotated_img)\n",
    "\n",
    "print(\"504 Rotional Images are genrated\")\n"
   ]
  },
  {
   "attachments": {},
   "cell_type": "markdown",
   "metadata": {},
   "source": [
    "### Augment images for brightness\n"
   ]
  },
  {
   "cell_type": "code",
   "execution_count": 6,
   "metadata": {},
   "outputs": [
    {
     "name": "stdout",
     "output_type": "stream",
     "text": [
      "35 Images with Brightness are genrated\n"
     ]
    }
   ],
   "source": [
    "# Augment images for brightness\n",
    "for filename in os.listdir(input_dir):\n",
    "    if filename.endswith('.jpeg'):\n",
    "        img = cv2.imread(os.path.join(input_dir, filename))\n",
    "        for i in range(5):\n",
    "            alpha = np.random.uniform(0.5, 1.5)\n",
    "            beta = np.random.randint(-50, 50)\n",
    "            bright_img = cv2.addWeighted(img, alpha, np.zeros(img.shape, img.dtype), 0, beta)\n",
    "            output_filename = os.path.splitext(filename)[0] + '_brightness_' + str(i) + '.jpeg'\n",
    "            cv2.imwrite(os.path.join(output_dir, output_filename), bright_img)\n",
    "\n",
    "print(\"35 Images with Brightness are genrated\")\n"
   ]
  },
  {
   "attachments": {},
   "cell_type": "markdown",
   "metadata": {},
   "source": [
    "### Augment images for noise\n"
   ]
  },
  {
   "cell_type": "code",
   "execution_count": 7,
   "metadata": {},
   "outputs": [
    {
     "name": "stdout",
     "output_type": "stream",
     "text": [
      "35 images of Noise are generated\n"
     ]
    }
   ],
   "source": [
    "# Augment images for noise\n",
    "for filename in os.listdir(input_dir):\n",
    "    if filename.endswith('.jpeg'):\n",
    "        img = cv2.imread(os.path.join(input_dir, filename))\n",
    "        for i in range(5):\n",
    "            mean = 0\n",
    "            std = np.random.uniform(10, 50)\n",
    "            noisy_img = img + np.random.normal(mean, std, img.shape)\n",
    "            noisy_img = np.clip(noisy_img, 0, 255).astype(np.uint8)\n",
    "            output_filename = os.path.splitext(filename)[0] + '_noise_' + str(i) + '.jpeg'\n",
    "            cv2.imwrite(os.path.join(output_dir, output_filename), noisy_img)\n",
    "\n",
    "print(\"35 images of Noise are generated\")"
   ]
  },
  {
   "cell_type": "code",
   "execution_count": null,
   "metadata": {},
   "outputs": [],
   "source": []
  }
 ],
 "metadata": {
  "kernelspec": {
   "display_name": "Python 3",
   "language": "python",
   "name": "python3"
  },
  "language_info": {
   "codemirror_mode": {
    "name": "ipython",
    "version": 3
   },
   "file_extension": ".py",
   "mimetype": "text/x-python",
   "name": "python",
   "nbconvert_exporter": "python",
   "pygments_lexer": "ipython3",
   "version": "3.10.6"
  },
  "orig_nbformat": 4
 },
 "nbformat": 4,
 "nbformat_minor": 2
}
